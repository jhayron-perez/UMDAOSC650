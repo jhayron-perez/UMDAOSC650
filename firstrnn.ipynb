{
  "nbformat": 4,
  "nbformat_minor": 0,
  "metadata": {
    "colab": {
      "provenance": [],
      "toc_visible": true,
      "mount_file_id": "1-tlc5GGh7ywSlvTy1btcndCkZMeoS3s2",
      "authorship_tag": "ABX9TyN+hpnsBubXAIjnV+hGhMqO",
      "include_colab_link": true
    },
    "kernelspec": {
      "name": "python3",
      "display_name": "Python 3"
    },
    "language_info": {
      "name": "python"
    }
  },
  "cells": [
    {
      "cell_type": "markdown",
      "metadata": {
        "id": "view-in-github",
        "colab_type": "text"
      },
      "source": [
        "<a href=\"https://colab.research.google.com/github/mariajmolina/UMDAOSC650/blob/main/firstrnn.ipynb\" target=\"_parent\"><img src=\"https://colab.research.google.com/assets/colab-badge.svg\" alt=\"Open In Colab\"/></a>"
      ]
    },
    {
      "cell_type": "markdown",
      "source": [
        "# LSTM\n",
        "\n",
        "An example using ONI (Oceanic Nino Index).\n",
        "\n",
        "Let's predict a future ONI value using four previous values.\n",
        "\n",
        "First, we will tackle a Many (4 input time steps) to One (1 future time step) framework.\n",
        "\n",
        "Second, we will tackle a Many (4 input time steps) to Many (Y future time steps) framework. The Many-to-Many framework does not need to be Tx==Ty (but can be)."
      ],
      "metadata": {
        "id": "2wbxelrgNBGe"
      }
    },
    {
      "cell_type": "code",
      "execution_count": 1,
      "metadata": {
        "id": "p-cre9b5l0WQ"
      },
      "outputs": [],
      "source": [
        "import numpy as np\n",
        "import matplotlib.pyplot as plt\n",
        "import pandas as pd\n",
        "from sklearn.preprocessing import MinMaxScaler\n",
        "from keras.models import Sequential\n",
        "from keras.layers import LSTM, Dense, Dropout, Activation, TimeDistributed, RepeatVector\n",
        "import keras\n",
        "from keras.src.preprocessing.sequence import TimeseriesGenerator\n",
        "# from google.colab import drive\n",
        "# drive.mount('/content/drive')"
      ]
    },
    {
      "cell_type": "code",
      "source": [
        "# reading dataset from NOAA online\n",
        "dataset = pd.read_csv(\n",
        "    'http://www.cpc.ncep.noaa.gov/data/indices/oni.ascii.txt',\n",
        "    delim_whitespace=True)"
      ],
      "metadata": {
        "id": "iKKGgzDJmBMD"
      },
      "execution_count": 2,
      "outputs": []
    },
    {
      "cell_type": "code",
      "source": [
        "# data features include seasons, year, total SST (C), and ONI (ENSO index)\n",
        "dataset.head()"
      ],
      "metadata": {
        "colab": {
          "base_uri": "https://localhost:8080/",
          "height": 206
        },
        "id": "_lFFxKALqnlb",
        "outputId": "f114ade2-dfce-41ec-b878-32c3aa2429cf"
      },
      "execution_count": 3,
      "outputs": [
        {
          "output_type": "execute_result",
          "data": {
            "text/plain": [
              "  SEAS    YR  TOTAL  ANOM\n",
              "0  DJF  1950  24.72 -1.53\n",
              "1  JFM  1950  25.17 -1.34\n",
              "2  FMA  1950  25.75 -1.16\n",
              "3  MAM  1950  26.12 -1.18\n",
              "4  AMJ  1950  26.32 -1.07"
            ],
            "text/html": [
              "\n",
              "  <div id=\"df-056bf6d0-8d55-4b02-acfe-4f61bbda48c0\" class=\"colab-df-container\">\n",
              "    <div>\n",
              "<style scoped>\n",
              "    .dataframe tbody tr th:only-of-type {\n",
              "        vertical-align: middle;\n",
              "    }\n",
              "\n",
              "    .dataframe tbody tr th {\n",
              "        vertical-align: top;\n",
              "    }\n",
              "\n",
              "    .dataframe thead th {\n",
              "        text-align: right;\n",
              "    }\n",
              "</style>\n",
              "<table border=\"1\" class=\"dataframe\">\n",
              "  <thead>\n",
              "    <tr style=\"text-align: right;\">\n",
              "      <th></th>\n",
              "      <th>SEAS</th>\n",
              "      <th>YR</th>\n",
              "      <th>TOTAL</th>\n",
              "      <th>ANOM</th>\n",
              "    </tr>\n",
              "  </thead>\n",
              "  <tbody>\n",
              "    <tr>\n",
              "      <th>0</th>\n",
              "      <td>DJF</td>\n",
              "      <td>1950</td>\n",
              "      <td>24.72</td>\n",
              "      <td>-1.53</td>\n",
              "    </tr>\n",
              "    <tr>\n",
              "      <th>1</th>\n",
              "      <td>JFM</td>\n",
              "      <td>1950</td>\n",
              "      <td>25.17</td>\n",
              "      <td>-1.34</td>\n",
              "    </tr>\n",
              "    <tr>\n",
              "      <th>2</th>\n",
              "      <td>FMA</td>\n",
              "      <td>1950</td>\n",
              "      <td>25.75</td>\n",
              "      <td>-1.16</td>\n",
              "    </tr>\n",
              "    <tr>\n",
              "      <th>3</th>\n",
              "      <td>MAM</td>\n",
              "      <td>1950</td>\n",
              "      <td>26.12</td>\n",
              "      <td>-1.18</td>\n",
              "    </tr>\n",
              "    <tr>\n",
              "      <th>4</th>\n",
              "      <td>AMJ</td>\n",
              "      <td>1950</td>\n",
              "      <td>26.32</td>\n",
              "      <td>-1.07</td>\n",
              "    </tr>\n",
              "  </tbody>\n",
              "</table>\n",
              "</div>\n",
              "    <div class=\"colab-df-buttons\">\n",
              "\n",
              "  <div class=\"colab-df-container\">\n",
              "    <button class=\"colab-df-convert\" onclick=\"convertToInteractive('df-056bf6d0-8d55-4b02-acfe-4f61bbda48c0')\"\n",
              "            title=\"Convert this dataframe to an interactive table.\"\n",
              "            style=\"display:none;\">\n",
              "\n",
              "  <svg xmlns=\"http://www.w3.org/2000/svg\" height=\"24px\" viewBox=\"0 -960 960 960\">\n",
              "    <path d=\"M120-120v-720h720v720H120Zm60-500h600v-160H180v160Zm220 220h160v-160H400v160Zm0 220h160v-160H400v160ZM180-400h160v-160H180v160Zm440 0h160v-160H620v160ZM180-180h160v-160H180v160Zm440 0h160v-160H620v160Z\"/>\n",
              "  </svg>\n",
              "    </button>\n",
              "\n",
              "  <style>\n",
              "    .colab-df-container {\n",
              "      display:flex;\n",
              "      gap: 12px;\n",
              "    }\n",
              "\n",
              "    .colab-df-convert {\n",
              "      background-color: #E8F0FE;\n",
              "      border: none;\n",
              "      border-radius: 50%;\n",
              "      cursor: pointer;\n",
              "      display: none;\n",
              "      fill: #1967D2;\n",
              "      height: 32px;\n",
              "      padding: 0 0 0 0;\n",
              "      width: 32px;\n",
              "    }\n",
              "\n",
              "    .colab-df-convert:hover {\n",
              "      background-color: #E2EBFA;\n",
              "      box-shadow: 0px 1px 2px rgba(60, 64, 67, 0.3), 0px 1px 3px 1px rgba(60, 64, 67, 0.15);\n",
              "      fill: #174EA6;\n",
              "    }\n",
              "\n",
              "    .colab-df-buttons div {\n",
              "      margin-bottom: 4px;\n",
              "    }\n",
              "\n",
              "    [theme=dark] .colab-df-convert {\n",
              "      background-color: #3B4455;\n",
              "      fill: #D2E3FC;\n",
              "    }\n",
              "\n",
              "    [theme=dark] .colab-df-convert:hover {\n",
              "      background-color: #434B5C;\n",
              "      box-shadow: 0px 1px 3px 1px rgba(0, 0, 0, 0.15);\n",
              "      filter: drop-shadow(0px 1px 2px rgba(0, 0, 0, 0.3));\n",
              "      fill: #FFFFFF;\n",
              "    }\n",
              "  </style>\n",
              "\n",
              "    <script>\n",
              "      const buttonEl =\n",
              "        document.querySelector('#df-056bf6d0-8d55-4b02-acfe-4f61bbda48c0 button.colab-df-convert');\n",
              "      buttonEl.style.display =\n",
              "        google.colab.kernel.accessAllowed ? 'block' : 'none';\n",
              "\n",
              "      async function convertToInteractive(key) {\n",
              "        const element = document.querySelector('#df-056bf6d0-8d55-4b02-acfe-4f61bbda48c0');\n",
              "        const dataTable =\n",
              "          await google.colab.kernel.invokeFunction('convertToInteractive',\n",
              "                                                    [key], {});\n",
              "        if (!dataTable) return;\n",
              "\n",
              "        const docLinkHtml = 'Like what you see? Visit the ' +\n",
              "          '<a target=\"_blank\" href=https://colab.research.google.com/notebooks/data_table.ipynb>data table notebook</a>'\n",
              "          + ' to learn more about interactive tables.';\n",
              "        element.innerHTML = '';\n",
              "        dataTable['output_type'] = 'display_data';\n",
              "        await google.colab.output.renderOutput(dataTable, element);\n",
              "        const docLink = document.createElement('div');\n",
              "        docLink.innerHTML = docLinkHtml;\n",
              "        element.appendChild(docLink);\n",
              "      }\n",
              "    </script>\n",
              "  </div>\n",
              "\n",
              "\n",
              "<div id=\"df-216fc1df-3865-4cfa-b35c-88ff117ed155\">\n",
              "  <button class=\"colab-df-quickchart\" onclick=\"quickchart('df-216fc1df-3865-4cfa-b35c-88ff117ed155')\"\n",
              "            title=\"Suggest charts\"\n",
              "            style=\"display:none;\">\n",
              "\n",
              "<svg xmlns=\"http://www.w3.org/2000/svg\" height=\"24px\"viewBox=\"0 0 24 24\"\n",
              "     width=\"24px\">\n",
              "    <g>\n",
              "        <path d=\"M19 3H5c-1.1 0-2 .9-2 2v14c0 1.1.9 2 2 2h14c1.1 0 2-.9 2-2V5c0-1.1-.9-2-2-2zM9 17H7v-7h2v7zm4 0h-2V7h2v10zm4 0h-2v-4h2v4z\"/>\n",
              "    </g>\n",
              "</svg>\n",
              "  </button>\n",
              "\n",
              "<style>\n",
              "  .colab-df-quickchart {\n",
              "      --bg-color: #E8F0FE;\n",
              "      --fill-color: #1967D2;\n",
              "      --hover-bg-color: #E2EBFA;\n",
              "      --hover-fill-color: #174EA6;\n",
              "      --disabled-fill-color: #AAA;\n",
              "      --disabled-bg-color: #DDD;\n",
              "  }\n",
              "\n",
              "  [theme=dark] .colab-df-quickchart {\n",
              "      --bg-color: #3B4455;\n",
              "      --fill-color: #D2E3FC;\n",
              "      --hover-bg-color: #434B5C;\n",
              "      --hover-fill-color: #FFFFFF;\n",
              "      --disabled-bg-color: #3B4455;\n",
              "      --disabled-fill-color: #666;\n",
              "  }\n",
              "\n",
              "  .colab-df-quickchart {\n",
              "    background-color: var(--bg-color);\n",
              "    border: none;\n",
              "    border-radius: 50%;\n",
              "    cursor: pointer;\n",
              "    display: none;\n",
              "    fill: var(--fill-color);\n",
              "    height: 32px;\n",
              "    padding: 0;\n",
              "    width: 32px;\n",
              "  }\n",
              "\n",
              "  .colab-df-quickchart:hover {\n",
              "    background-color: var(--hover-bg-color);\n",
              "    box-shadow: 0 1px 2px rgba(60, 64, 67, 0.3), 0 1px 3px 1px rgba(60, 64, 67, 0.15);\n",
              "    fill: var(--button-hover-fill-color);\n",
              "  }\n",
              "\n",
              "  .colab-df-quickchart-complete:disabled,\n",
              "  .colab-df-quickchart-complete:disabled:hover {\n",
              "    background-color: var(--disabled-bg-color);\n",
              "    fill: var(--disabled-fill-color);\n",
              "    box-shadow: none;\n",
              "  }\n",
              "\n",
              "  .colab-df-spinner {\n",
              "    border: 2px solid var(--fill-color);\n",
              "    border-color: transparent;\n",
              "    border-bottom-color: var(--fill-color);\n",
              "    animation:\n",
              "      spin 1s steps(1) infinite;\n",
              "  }\n",
              "\n",
              "  @keyframes spin {\n",
              "    0% {\n",
              "      border-color: transparent;\n",
              "      border-bottom-color: var(--fill-color);\n",
              "      border-left-color: var(--fill-color);\n",
              "    }\n",
              "    20% {\n",
              "      border-color: transparent;\n",
              "      border-left-color: var(--fill-color);\n",
              "      border-top-color: var(--fill-color);\n",
              "    }\n",
              "    30% {\n",
              "      border-color: transparent;\n",
              "      border-left-color: var(--fill-color);\n",
              "      border-top-color: var(--fill-color);\n",
              "      border-right-color: var(--fill-color);\n",
              "    }\n",
              "    40% {\n",
              "      border-color: transparent;\n",
              "      border-right-color: var(--fill-color);\n",
              "      border-top-color: var(--fill-color);\n",
              "    }\n",
              "    60% {\n",
              "      border-color: transparent;\n",
              "      border-right-color: var(--fill-color);\n",
              "    }\n",
              "    80% {\n",
              "      border-color: transparent;\n",
              "      border-right-color: var(--fill-color);\n",
              "      border-bottom-color: var(--fill-color);\n",
              "    }\n",
              "    90% {\n",
              "      border-color: transparent;\n",
              "      border-bottom-color: var(--fill-color);\n",
              "    }\n",
              "  }\n",
              "</style>\n",
              "\n",
              "  <script>\n",
              "    async function quickchart(key) {\n",
              "      const quickchartButtonEl =\n",
              "        document.querySelector('#' + key + ' button');\n",
              "      quickchartButtonEl.disabled = true;  // To prevent multiple clicks.\n",
              "      quickchartButtonEl.classList.add('colab-df-spinner');\n",
              "      try {\n",
              "        const charts = await google.colab.kernel.invokeFunction(\n",
              "            'suggestCharts', [key], {});\n",
              "      } catch (error) {\n",
              "        console.error('Error during call to suggestCharts:', error);\n",
              "      }\n",
              "      quickchartButtonEl.classList.remove('colab-df-spinner');\n",
              "      quickchartButtonEl.classList.add('colab-df-quickchart-complete');\n",
              "    }\n",
              "    (() => {\n",
              "      let quickchartButtonEl =\n",
              "        document.querySelector('#df-216fc1df-3865-4cfa-b35c-88ff117ed155 button');\n",
              "      quickchartButtonEl.style.display =\n",
              "        google.colab.kernel.accessAllowed ? 'block' : 'none';\n",
              "    })();\n",
              "  </script>\n",
              "</div>\n",
              "    </div>\n",
              "  </div>\n"
            ],
            "application/vnd.google.colaboratory.intrinsic+json": {
              "type": "dataframe",
              "variable_name": "dataset",
              "summary": "{\n  \"name\": \"dataset\",\n  \"rows\": 889,\n  \"fields\": [\n    {\n      \"column\": \"SEAS\",\n      \"properties\": {\n        \"dtype\": \"category\",\n        \"num_unique_values\": 12,\n        \"samples\": [\n          \"OND\",\n          \"SON\",\n          \"DJF\"\n        ],\n        \"semantic_type\": \"\",\n        \"description\": \"\"\n      }\n    },\n    {\n      \"column\": \"YR\",\n      \"properties\": {\n        \"dtype\": \"number\",\n        \"std\": 21,\n        \"min\": 1950,\n        \"max\": 2024,\n        \"num_unique_values\": 75,\n        \"samples\": [\n          1954,\n          2013,\n          1960\n        ],\n        \"semantic_type\": \"\",\n        \"description\": \"\"\n      }\n    },\n    {\n      \"column\": \"TOTAL\",\n      \"properties\": {\n        \"dtype\": \"number\",\n        \"std\": 0.9432044634418918,\n        \"min\": 24.38,\n        \"max\": 29.26,\n        \"num_unique_values\": 353,\n        \"samples\": [\n          27.21,\n          26.91,\n          27.15\n        ],\n        \"semantic_type\": \"\",\n        \"description\": \"\"\n      }\n    },\n    {\n      \"column\": \"ANOM\",\n      \"properties\": {\n        \"dtype\": \"number\",\n        \"std\": 0.838483535488297,\n        \"min\": -2.03,\n        \"max\": 2.64,\n        \"num_unique_values\": 315,\n        \"samples\": [\n          0.42,\n          0.4,\n          0.79\n        ],\n        \"semantic_type\": \"\",\n        \"description\": \"\"\n      }\n    }\n  ]\n}"
            }
          },
          "metadata": {},
          "execution_count": 3
        }
      ]
    },
    {
      "cell_type": "code",
      "source": [
        "dataset.tail()"
      ],
      "metadata": {
        "colab": {
          "base_uri": "https://localhost:8080/",
          "height": 206
        },
        "id": "ep-nRwNHrnsk",
        "outputId": "80b964d3-74d5-4a31-e489-13cc03efc720"
      },
      "execution_count": 4,
      "outputs": [
        {
          "output_type": "execute_result",
          "data": {
            "text/plain": [
              "    SEAS    YR  TOTAL  ANOM\n",
              "884  ASO  2023  28.32  1.56\n",
              "885  SON  2023  28.49  1.78\n",
              "886  OND  2023  28.60  1.92\n",
              "887  NDJ  2023  28.57  1.95\n",
              "888  DJF  2024  28.44  1.80"
            ],
            "text/html": [
              "\n",
              "  <div id=\"df-7649851b-d4c5-4026-aab5-1183ae0dbee4\" class=\"colab-df-container\">\n",
              "    <div>\n",
              "<style scoped>\n",
              "    .dataframe tbody tr th:only-of-type {\n",
              "        vertical-align: middle;\n",
              "    }\n",
              "\n",
              "    .dataframe tbody tr th {\n",
              "        vertical-align: top;\n",
              "    }\n",
              "\n",
              "    .dataframe thead th {\n",
              "        text-align: right;\n",
              "    }\n",
              "</style>\n",
              "<table border=\"1\" class=\"dataframe\">\n",
              "  <thead>\n",
              "    <tr style=\"text-align: right;\">\n",
              "      <th></th>\n",
              "      <th>SEAS</th>\n",
              "      <th>YR</th>\n",
              "      <th>TOTAL</th>\n",
              "      <th>ANOM</th>\n",
              "    </tr>\n",
              "  </thead>\n",
              "  <tbody>\n",
              "    <tr>\n",
              "      <th>884</th>\n",
              "      <td>ASO</td>\n",
              "      <td>2023</td>\n",
              "      <td>28.32</td>\n",
              "      <td>1.56</td>\n",
              "    </tr>\n",
              "    <tr>\n",
              "      <th>885</th>\n",
              "      <td>SON</td>\n",
              "      <td>2023</td>\n",
              "      <td>28.49</td>\n",
              "      <td>1.78</td>\n",
              "    </tr>\n",
              "    <tr>\n",
              "      <th>886</th>\n",
              "      <td>OND</td>\n",
              "      <td>2023</td>\n",
              "      <td>28.60</td>\n",
              "      <td>1.92</td>\n",
              "    </tr>\n",
              "    <tr>\n",
              "      <th>887</th>\n",
              "      <td>NDJ</td>\n",
              "      <td>2023</td>\n",
              "      <td>28.57</td>\n",
              "      <td>1.95</td>\n",
              "    </tr>\n",
              "    <tr>\n",
              "      <th>888</th>\n",
              "      <td>DJF</td>\n",
              "      <td>2024</td>\n",
              "      <td>28.44</td>\n",
              "      <td>1.80</td>\n",
              "    </tr>\n",
              "  </tbody>\n",
              "</table>\n",
              "</div>\n",
              "    <div class=\"colab-df-buttons\">\n",
              "\n",
              "  <div class=\"colab-df-container\">\n",
              "    <button class=\"colab-df-convert\" onclick=\"convertToInteractive('df-7649851b-d4c5-4026-aab5-1183ae0dbee4')\"\n",
              "            title=\"Convert this dataframe to an interactive table.\"\n",
              "            style=\"display:none;\">\n",
              "\n",
              "  <svg xmlns=\"http://www.w3.org/2000/svg\" height=\"24px\" viewBox=\"0 -960 960 960\">\n",
              "    <path d=\"M120-120v-720h720v720H120Zm60-500h600v-160H180v160Zm220 220h160v-160H400v160Zm0 220h160v-160H400v160ZM180-400h160v-160H180v160Zm440 0h160v-160H620v160ZM180-180h160v-160H180v160Zm440 0h160v-160H620v160Z\"/>\n",
              "  </svg>\n",
              "    </button>\n",
              "\n",
              "  <style>\n",
              "    .colab-df-container {\n",
              "      display:flex;\n",
              "      gap: 12px;\n",
              "    }\n",
              "\n",
              "    .colab-df-convert {\n",
              "      background-color: #E8F0FE;\n",
              "      border: none;\n",
              "      border-radius: 50%;\n",
              "      cursor: pointer;\n",
              "      display: none;\n",
              "      fill: #1967D2;\n",
              "      height: 32px;\n",
              "      padding: 0 0 0 0;\n",
              "      width: 32px;\n",
              "    }\n",
              "\n",
              "    .colab-df-convert:hover {\n",
              "      background-color: #E2EBFA;\n",
              "      box-shadow: 0px 1px 2px rgba(60, 64, 67, 0.3), 0px 1px 3px 1px rgba(60, 64, 67, 0.15);\n",
              "      fill: #174EA6;\n",
              "    }\n",
              "\n",
              "    .colab-df-buttons div {\n",
              "      margin-bottom: 4px;\n",
              "    }\n",
              "\n",
              "    [theme=dark] .colab-df-convert {\n",
              "      background-color: #3B4455;\n",
              "      fill: #D2E3FC;\n",
              "    }\n",
              "\n",
              "    [theme=dark] .colab-df-convert:hover {\n",
              "      background-color: #434B5C;\n",
              "      box-shadow: 0px 1px 3px 1px rgba(0, 0, 0, 0.15);\n",
              "      filter: drop-shadow(0px 1px 2px rgba(0, 0, 0, 0.3));\n",
              "      fill: #FFFFFF;\n",
              "    }\n",
              "  </style>\n",
              "\n",
              "    <script>\n",
              "      const buttonEl =\n",
              "        document.querySelector('#df-7649851b-d4c5-4026-aab5-1183ae0dbee4 button.colab-df-convert');\n",
              "      buttonEl.style.display =\n",
              "        google.colab.kernel.accessAllowed ? 'block' : 'none';\n",
              "\n",
              "      async function convertToInteractive(key) {\n",
              "        const element = document.querySelector('#df-7649851b-d4c5-4026-aab5-1183ae0dbee4');\n",
              "        const dataTable =\n",
              "          await google.colab.kernel.invokeFunction('convertToInteractive',\n",
              "                                                    [key], {});\n",
              "        if (!dataTable) return;\n",
              "\n",
              "        const docLinkHtml = 'Like what you see? Visit the ' +\n",
              "          '<a target=\"_blank\" href=https://colab.research.google.com/notebooks/data_table.ipynb>data table notebook</a>'\n",
              "          + ' to learn more about interactive tables.';\n",
              "        element.innerHTML = '';\n",
              "        dataTable['output_type'] = 'display_data';\n",
              "        await google.colab.output.renderOutput(dataTable, element);\n",
              "        const docLink = document.createElement('div');\n",
              "        docLink.innerHTML = docLinkHtml;\n",
              "        element.appendChild(docLink);\n",
              "      }\n",
              "    </script>\n",
              "  </div>\n",
              "\n",
              "\n",
              "<div id=\"df-8f276ce3-4fbb-4a55-a379-e60fc6e53f38\">\n",
              "  <button class=\"colab-df-quickchart\" onclick=\"quickchart('df-8f276ce3-4fbb-4a55-a379-e60fc6e53f38')\"\n",
              "            title=\"Suggest charts\"\n",
              "            style=\"display:none;\">\n",
              "\n",
              "<svg xmlns=\"http://www.w3.org/2000/svg\" height=\"24px\"viewBox=\"0 0 24 24\"\n",
              "     width=\"24px\">\n",
              "    <g>\n",
              "        <path d=\"M19 3H5c-1.1 0-2 .9-2 2v14c0 1.1.9 2 2 2h14c1.1 0 2-.9 2-2V5c0-1.1-.9-2-2-2zM9 17H7v-7h2v7zm4 0h-2V7h2v10zm4 0h-2v-4h2v4z\"/>\n",
              "    </g>\n",
              "</svg>\n",
              "  </button>\n",
              "\n",
              "<style>\n",
              "  .colab-df-quickchart {\n",
              "      --bg-color: #E8F0FE;\n",
              "      --fill-color: #1967D2;\n",
              "      --hover-bg-color: #E2EBFA;\n",
              "      --hover-fill-color: #174EA6;\n",
              "      --disabled-fill-color: #AAA;\n",
              "      --disabled-bg-color: #DDD;\n",
              "  }\n",
              "\n",
              "  [theme=dark] .colab-df-quickchart {\n",
              "      --bg-color: #3B4455;\n",
              "      --fill-color: #D2E3FC;\n",
              "      --hover-bg-color: #434B5C;\n",
              "      --hover-fill-color: #FFFFFF;\n",
              "      --disabled-bg-color: #3B4455;\n",
              "      --disabled-fill-color: #666;\n",
              "  }\n",
              "\n",
              "  .colab-df-quickchart {\n",
              "    background-color: var(--bg-color);\n",
              "    border: none;\n",
              "    border-radius: 50%;\n",
              "    cursor: pointer;\n",
              "    display: none;\n",
              "    fill: var(--fill-color);\n",
              "    height: 32px;\n",
              "    padding: 0;\n",
              "    width: 32px;\n",
              "  }\n",
              "\n",
              "  .colab-df-quickchart:hover {\n",
              "    background-color: var(--hover-bg-color);\n",
              "    box-shadow: 0 1px 2px rgba(60, 64, 67, 0.3), 0 1px 3px 1px rgba(60, 64, 67, 0.15);\n",
              "    fill: var(--button-hover-fill-color);\n",
              "  }\n",
              "\n",
              "  .colab-df-quickchart-complete:disabled,\n",
              "  .colab-df-quickchart-complete:disabled:hover {\n",
              "    background-color: var(--disabled-bg-color);\n",
              "    fill: var(--disabled-fill-color);\n",
              "    box-shadow: none;\n",
              "  }\n",
              "\n",
              "  .colab-df-spinner {\n",
              "    border: 2px solid var(--fill-color);\n",
              "    border-color: transparent;\n",
              "    border-bottom-color: var(--fill-color);\n",
              "    animation:\n",
              "      spin 1s steps(1) infinite;\n",
              "  }\n",
              "\n",
              "  @keyframes spin {\n",
              "    0% {\n",
              "      border-color: transparent;\n",
              "      border-bottom-color: var(--fill-color);\n",
              "      border-left-color: var(--fill-color);\n",
              "    }\n",
              "    20% {\n",
              "      border-color: transparent;\n",
              "      border-left-color: var(--fill-color);\n",
              "      border-top-color: var(--fill-color);\n",
              "    }\n",
              "    30% {\n",
              "      border-color: transparent;\n",
              "      border-left-color: var(--fill-color);\n",
              "      border-top-color: var(--fill-color);\n",
              "      border-right-color: var(--fill-color);\n",
              "    }\n",
              "    40% {\n",
              "      border-color: transparent;\n",
              "      border-right-color: var(--fill-color);\n",
              "      border-top-color: var(--fill-color);\n",
              "    }\n",
              "    60% {\n",
              "      border-color: transparent;\n",
              "      border-right-color: var(--fill-color);\n",
              "    }\n",
              "    80% {\n",
              "      border-color: transparent;\n",
              "      border-right-color: var(--fill-color);\n",
              "      border-bottom-color: var(--fill-color);\n",
              "    }\n",
              "    90% {\n",
              "      border-color: transparent;\n",
              "      border-bottom-color: var(--fill-color);\n",
              "    }\n",
              "  }\n",
              "</style>\n",
              "\n",
              "  <script>\n",
              "    async function quickchart(key) {\n",
              "      const quickchartButtonEl =\n",
              "        document.querySelector('#' + key + ' button');\n",
              "      quickchartButtonEl.disabled = true;  // To prevent multiple clicks.\n",
              "      quickchartButtonEl.classList.add('colab-df-spinner');\n",
              "      try {\n",
              "        const charts = await google.colab.kernel.invokeFunction(\n",
              "            'suggestCharts', [key], {});\n",
              "      } catch (error) {\n",
              "        console.error('Error during call to suggestCharts:', error);\n",
              "      }\n",
              "      quickchartButtonEl.classList.remove('colab-df-spinner');\n",
              "      quickchartButtonEl.classList.add('colab-df-quickchart-complete');\n",
              "    }\n",
              "    (() => {\n",
              "      let quickchartButtonEl =\n",
              "        document.querySelector('#df-8f276ce3-4fbb-4a55-a379-e60fc6e53f38 button');\n",
              "      quickchartButtonEl.style.display =\n",
              "        google.colab.kernel.accessAllowed ? 'block' : 'none';\n",
              "    })();\n",
              "  </script>\n",
              "</div>\n",
              "    </div>\n",
              "  </div>\n"
            ],
            "application/vnd.google.colaboratory.intrinsic+json": {
              "type": "dataframe",
              "summary": "{\n  \"name\": \"dataset\",\n  \"rows\": 5,\n  \"fields\": [\n    {\n      \"column\": \"SEAS\",\n      \"properties\": {\n        \"dtype\": \"string\",\n        \"num_unique_values\": 5,\n        \"samples\": [\n          \"SON\",\n          \"DJF\",\n          \"OND\"\n        ],\n        \"semantic_type\": \"\",\n        \"description\": \"\"\n      }\n    },\n    {\n      \"column\": \"YR\",\n      \"properties\": {\n        \"dtype\": \"number\",\n        \"std\": 0,\n        \"min\": 2023,\n        \"max\": 2024,\n        \"num_unique_values\": 2,\n        \"samples\": [\n          2024,\n          2023\n        ],\n        \"semantic_type\": \"\",\n        \"description\": \"\"\n      }\n    },\n    {\n      \"column\": \"TOTAL\",\n      \"properties\": {\n        \"dtype\": \"number\",\n        \"std\": 0.11148990985735004,\n        \"min\": 28.32,\n        \"max\": 28.6,\n        \"num_unique_values\": 5,\n        \"samples\": [\n          28.49,\n          28.44\n        ],\n        \"semantic_type\": \"\",\n        \"description\": \"\"\n      }\n    },\n    {\n      \"column\": \"ANOM\",\n      \"properties\": {\n        \"dtype\": \"number\",\n        \"std\": 0.1540129864654276,\n        \"min\": 1.56,\n        \"max\": 1.95,\n        \"num_unique_values\": 5,\n        \"samples\": [\n          1.78,\n          1.8\n        ],\n        \"semantic_type\": \"\",\n        \"description\": \"\"\n      }\n    }\n  ]\n}"
            }
          },
          "metadata": {},
          "execution_count": 4
        }
      ]
    },
    {
      "cell_type": "code",
      "source": [
        "# drop any nans\n",
        "dataset = dataset.dropna(subset=[\"ANOM\"])"
      ],
      "metadata": {
        "id": "5RcTG8sEqmbb"
      },
      "execution_count": 5,
      "outputs": []
    },
    {
      "cell_type": "code",
      "source": [
        "# quick stats\n",
        "dataset.describe()"
      ],
      "metadata": {
        "colab": {
          "base_uri": "https://localhost:8080/",
          "height": 300
        },
        "id": "EipN-1z-vGAZ",
        "outputId": "c0a829bc-e589-4063-dbbe-43084be27475"
      },
      "execution_count": 6,
      "outputs": [
        {
          "output_type": "execute_result",
          "data": {
            "text/plain": [
              "                YR       TOTAL        ANOM\n",
              "count   889.000000  889.000000  889.000000\n",
              "mean   1986.542182   26.900157    0.011102\n",
              "std      21.397005    0.943204    0.838484\n",
              "min    1950.000000   24.380000   -2.030000\n",
              "25%    1968.000000   26.230000   -0.570000\n",
              "50%    1987.000000   26.950000   -0.050000\n",
              "75%    2005.000000   27.540000    0.530000\n",
              "max    2024.000000   29.260000    2.640000"
            ],
            "text/html": [
              "\n",
              "  <div id=\"df-1ac879aa-6a3f-4c9d-8d28-e983e7fbd91b\" class=\"colab-df-container\">\n",
              "    <div>\n",
              "<style scoped>\n",
              "    .dataframe tbody tr th:only-of-type {\n",
              "        vertical-align: middle;\n",
              "    }\n",
              "\n",
              "    .dataframe tbody tr th {\n",
              "        vertical-align: top;\n",
              "    }\n",
              "\n",
              "    .dataframe thead th {\n",
              "        text-align: right;\n",
              "    }\n",
              "</style>\n",
              "<table border=\"1\" class=\"dataframe\">\n",
              "  <thead>\n",
              "    <tr style=\"text-align: right;\">\n",
              "      <th></th>\n",
              "      <th>YR</th>\n",
              "      <th>TOTAL</th>\n",
              "      <th>ANOM</th>\n",
              "    </tr>\n",
              "  </thead>\n",
              "  <tbody>\n",
              "    <tr>\n",
              "      <th>count</th>\n",
              "      <td>889.000000</td>\n",
              "      <td>889.000000</td>\n",
              "      <td>889.000000</td>\n",
              "    </tr>\n",
              "    <tr>\n",
              "      <th>mean</th>\n",
              "      <td>1986.542182</td>\n",
              "      <td>26.900157</td>\n",
              "      <td>0.011102</td>\n",
              "    </tr>\n",
              "    <tr>\n",
              "      <th>std</th>\n",
              "      <td>21.397005</td>\n",
              "      <td>0.943204</td>\n",
              "      <td>0.838484</td>\n",
              "    </tr>\n",
              "    <tr>\n",
              "      <th>min</th>\n",
              "      <td>1950.000000</td>\n",
              "      <td>24.380000</td>\n",
              "      <td>-2.030000</td>\n",
              "    </tr>\n",
              "    <tr>\n",
              "      <th>25%</th>\n",
              "      <td>1968.000000</td>\n",
              "      <td>26.230000</td>\n",
              "      <td>-0.570000</td>\n",
              "    </tr>\n",
              "    <tr>\n",
              "      <th>50%</th>\n",
              "      <td>1987.000000</td>\n",
              "      <td>26.950000</td>\n",
              "      <td>-0.050000</td>\n",
              "    </tr>\n",
              "    <tr>\n",
              "      <th>75%</th>\n",
              "      <td>2005.000000</td>\n",
              "      <td>27.540000</td>\n",
              "      <td>0.530000</td>\n",
              "    </tr>\n",
              "    <tr>\n",
              "      <th>max</th>\n",
              "      <td>2024.000000</td>\n",
              "      <td>29.260000</td>\n",
              "      <td>2.640000</td>\n",
              "    </tr>\n",
              "  </tbody>\n",
              "</table>\n",
              "</div>\n",
              "    <div class=\"colab-df-buttons\">\n",
              "\n",
              "  <div class=\"colab-df-container\">\n",
              "    <button class=\"colab-df-convert\" onclick=\"convertToInteractive('df-1ac879aa-6a3f-4c9d-8d28-e983e7fbd91b')\"\n",
              "            title=\"Convert this dataframe to an interactive table.\"\n",
              "            style=\"display:none;\">\n",
              "\n",
              "  <svg xmlns=\"http://www.w3.org/2000/svg\" height=\"24px\" viewBox=\"0 -960 960 960\">\n",
              "    <path d=\"M120-120v-720h720v720H120Zm60-500h600v-160H180v160Zm220 220h160v-160H400v160Zm0 220h160v-160H400v160ZM180-400h160v-160H180v160Zm440 0h160v-160H620v160ZM180-180h160v-160H180v160Zm440 0h160v-160H620v160Z\"/>\n",
              "  </svg>\n",
              "    </button>\n",
              "\n",
              "  <style>\n",
              "    .colab-df-container {\n",
              "      display:flex;\n",
              "      gap: 12px;\n",
              "    }\n",
              "\n",
              "    .colab-df-convert {\n",
              "      background-color: #E8F0FE;\n",
              "      border: none;\n",
              "      border-radius: 50%;\n",
              "      cursor: pointer;\n",
              "      display: none;\n",
              "      fill: #1967D2;\n",
              "      height: 32px;\n",
              "      padding: 0 0 0 0;\n",
              "      width: 32px;\n",
              "    }\n",
              "\n",
              "    .colab-df-convert:hover {\n",
              "      background-color: #E2EBFA;\n",
              "      box-shadow: 0px 1px 2px rgba(60, 64, 67, 0.3), 0px 1px 3px 1px rgba(60, 64, 67, 0.15);\n",
              "      fill: #174EA6;\n",
              "    }\n",
              "\n",
              "    .colab-df-buttons div {\n",
              "      margin-bottom: 4px;\n",
              "    }\n",
              "\n",
              "    [theme=dark] .colab-df-convert {\n",
              "      background-color: #3B4455;\n",
              "      fill: #D2E3FC;\n",
              "    }\n",
              "\n",
              "    [theme=dark] .colab-df-convert:hover {\n",
              "      background-color: #434B5C;\n",
              "      box-shadow: 0px 1px 3px 1px rgba(0, 0, 0, 0.15);\n",
              "      filter: drop-shadow(0px 1px 2px rgba(0, 0, 0, 0.3));\n",
              "      fill: #FFFFFF;\n",
              "    }\n",
              "  </style>\n",
              "\n",
              "    <script>\n",
              "      const buttonEl =\n",
              "        document.querySelector('#df-1ac879aa-6a3f-4c9d-8d28-e983e7fbd91b button.colab-df-convert');\n",
              "      buttonEl.style.display =\n",
              "        google.colab.kernel.accessAllowed ? 'block' : 'none';\n",
              "\n",
              "      async function convertToInteractive(key) {\n",
              "        const element = document.querySelector('#df-1ac879aa-6a3f-4c9d-8d28-e983e7fbd91b');\n",
              "        const dataTable =\n",
              "          await google.colab.kernel.invokeFunction('convertToInteractive',\n",
              "                                                    [key], {});\n",
              "        if (!dataTable) return;\n",
              "\n",
              "        const docLinkHtml = 'Like what you see? Visit the ' +\n",
              "          '<a target=\"_blank\" href=https://colab.research.google.com/notebooks/data_table.ipynb>data table notebook</a>'\n",
              "          + ' to learn more about interactive tables.';\n",
              "        element.innerHTML = '';\n",
              "        dataTable['output_type'] = 'display_data';\n",
              "        await google.colab.output.renderOutput(dataTable, element);\n",
              "        const docLink = document.createElement('div');\n",
              "        docLink.innerHTML = docLinkHtml;\n",
              "        element.appendChild(docLink);\n",
              "      }\n",
              "    </script>\n",
              "  </div>\n",
              "\n",
              "\n",
              "<div id=\"df-a15441c5-66e3-48c4-987c-d81453d055c1\">\n",
              "  <button class=\"colab-df-quickchart\" onclick=\"quickchart('df-a15441c5-66e3-48c4-987c-d81453d055c1')\"\n",
              "            title=\"Suggest charts\"\n",
              "            style=\"display:none;\">\n",
              "\n",
              "<svg xmlns=\"http://www.w3.org/2000/svg\" height=\"24px\"viewBox=\"0 0 24 24\"\n",
              "     width=\"24px\">\n",
              "    <g>\n",
              "        <path d=\"M19 3H5c-1.1 0-2 .9-2 2v14c0 1.1.9 2 2 2h14c1.1 0 2-.9 2-2V5c0-1.1-.9-2-2-2zM9 17H7v-7h2v7zm4 0h-2V7h2v10zm4 0h-2v-4h2v4z\"/>\n",
              "    </g>\n",
              "</svg>\n",
              "  </button>\n",
              "\n",
              "<style>\n",
              "  .colab-df-quickchart {\n",
              "      --bg-color: #E8F0FE;\n",
              "      --fill-color: #1967D2;\n",
              "      --hover-bg-color: #E2EBFA;\n",
              "      --hover-fill-color: #174EA6;\n",
              "      --disabled-fill-color: #AAA;\n",
              "      --disabled-bg-color: #DDD;\n",
              "  }\n",
              "\n",
              "  [theme=dark] .colab-df-quickchart {\n",
              "      --bg-color: #3B4455;\n",
              "      --fill-color: #D2E3FC;\n",
              "      --hover-bg-color: #434B5C;\n",
              "      --hover-fill-color: #FFFFFF;\n",
              "      --disabled-bg-color: #3B4455;\n",
              "      --disabled-fill-color: #666;\n",
              "  }\n",
              "\n",
              "  .colab-df-quickchart {\n",
              "    background-color: var(--bg-color);\n",
              "    border: none;\n",
              "    border-radius: 50%;\n",
              "    cursor: pointer;\n",
              "    display: none;\n",
              "    fill: var(--fill-color);\n",
              "    height: 32px;\n",
              "    padding: 0;\n",
              "    width: 32px;\n",
              "  }\n",
              "\n",
              "  .colab-df-quickchart:hover {\n",
              "    background-color: var(--hover-bg-color);\n",
              "    box-shadow: 0 1px 2px rgba(60, 64, 67, 0.3), 0 1px 3px 1px rgba(60, 64, 67, 0.15);\n",
              "    fill: var(--button-hover-fill-color);\n",
              "  }\n",
              "\n",
              "  .colab-df-quickchart-complete:disabled,\n",
              "  .colab-df-quickchart-complete:disabled:hover {\n",
              "    background-color: var(--disabled-bg-color);\n",
              "    fill: var(--disabled-fill-color);\n",
              "    box-shadow: none;\n",
              "  }\n",
              "\n",
              "  .colab-df-spinner {\n",
              "    border: 2px solid var(--fill-color);\n",
              "    border-color: transparent;\n",
              "    border-bottom-color: var(--fill-color);\n",
              "    animation:\n",
              "      spin 1s steps(1) infinite;\n",
              "  }\n",
              "\n",
              "  @keyframes spin {\n",
              "    0% {\n",
              "      border-color: transparent;\n",
              "      border-bottom-color: var(--fill-color);\n",
              "      border-left-color: var(--fill-color);\n",
              "    }\n",
              "    20% {\n",
              "      border-color: transparent;\n",
              "      border-left-color: var(--fill-color);\n",
              "      border-top-color: var(--fill-color);\n",
              "    }\n",
              "    30% {\n",
              "      border-color: transparent;\n",
              "      border-left-color: var(--fill-color);\n",
              "      border-top-color: var(--fill-color);\n",
              "      border-right-color: var(--fill-color);\n",
              "    }\n",
              "    40% {\n",
              "      border-color: transparent;\n",
              "      border-right-color: var(--fill-color);\n",
              "      border-top-color: var(--fill-color);\n",
              "    }\n",
              "    60% {\n",
              "      border-color: transparent;\n",
              "      border-right-color: var(--fill-color);\n",
              "    }\n",
              "    80% {\n",
              "      border-color: transparent;\n",
              "      border-right-color: var(--fill-color);\n",
              "      border-bottom-color: var(--fill-color);\n",
              "    }\n",
              "    90% {\n",
              "      border-color: transparent;\n",
              "      border-bottom-color: var(--fill-color);\n",
              "    }\n",
              "  }\n",
              "</style>\n",
              "\n",
              "  <script>\n",
              "    async function quickchart(key) {\n",
              "      const quickchartButtonEl =\n",
              "        document.querySelector('#' + key + ' button');\n",
              "      quickchartButtonEl.disabled = true;  // To prevent multiple clicks.\n",
              "      quickchartButtonEl.classList.add('colab-df-spinner');\n",
              "      try {\n",
              "        const charts = await google.colab.kernel.invokeFunction(\n",
              "            'suggestCharts', [key], {});\n",
              "      } catch (error) {\n",
              "        console.error('Error during call to suggestCharts:', error);\n",
              "      }\n",
              "      quickchartButtonEl.classList.remove('colab-df-spinner');\n",
              "      quickchartButtonEl.classList.add('colab-df-quickchart-complete');\n",
              "    }\n",
              "    (() => {\n",
              "      let quickchartButtonEl =\n",
              "        document.querySelector('#df-a15441c5-66e3-48c4-987c-d81453d055c1 button');\n",
              "      quickchartButtonEl.style.display =\n",
              "        google.colab.kernel.accessAllowed ? 'block' : 'none';\n",
              "    })();\n",
              "  </script>\n",
              "</div>\n",
              "    </div>\n",
              "  </div>\n"
            ],
            "application/vnd.google.colaboratory.intrinsic+json": {
              "type": "dataframe",
              "summary": "{\n  \"name\": \"dataset\",\n  \"rows\": 8,\n  \"fields\": [\n    {\n      \"column\": \"YR\",\n      \"properties\": {\n        \"dtype\": \"number\",\n        \"std\": 746.2571004228232,\n        \"min\": 21.397005246548172,\n        \"max\": 2024.0,\n        \"num_unique_values\": 8,\n        \"samples\": [\n          1986.5421822272217,\n          1987.0,\n          889.0\n        ],\n        \"semantic_type\": \"\",\n        \"description\": \"\"\n      }\n    },\n    {\n      \"column\": \"TOTAL\",\n      \"properties\": {\n        \"dtype\": \"number\",\n        \"std\": 306.2539197619456,\n        \"min\": 0.9432044634418918,\n        \"max\": 889.0,\n        \"num_unique_values\": 8,\n        \"samples\": [\n          26.90015748031496,\n          26.95,\n          889.0\n        ],\n        \"semantic_type\": \"\",\n        \"description\": \"\"\n      }\n    },\n    {\n      \"column\": \"ANOM\",\n      \"properties\": {\n        \"dtype\": \"number\",\n        \"std\": 314.2425478242308,\n        \"min\": -2.03,\n        \"max\": 889.0,\n        \"num_unique_values\": 8,\n        \"samples\": [\n          0.011102362204724407,\n          -0.05,\n          889.0\n        ],\n        \"semantic_type\": \"\",\n        \"description\": \"\"\n      }\n    }\n  ]\n}"
            }
          },
          "metadata": {},
          "execution_count": 6
        }
      ]
    },
    {
      "cell_type": "code",
      "source": [
        "# quick viz\n",
        "# djf only\n",
        "dataset[dataset[\"SEAS\"]==\"DJF\"].plot(\"YR\",\"ANOM\")"
      ],
      "metadata": {
        "colab": {
          "base_uri": "https://localhost:8080/",
          "height": 466
        },
        "id": "3QEaavkavtQG",
        "outputId": "f6e0e55e-4d3c-4322-edd3-08348bf1e1dc"
      },
      "execution_count": 7,
      "outputs": [
        {
          "output_type": "execute_result",
          "data": {
            "text/plain": [
              "<Axes: xlabel='YR'>"
            ]
          },
          "metadata": {},
          "execution_count": 7
        },
        {
          "output_type": "display_data",
          "data": {
            "text/plain": [
              "<Figure size 640x480 with 1 Axes>"
            ],
            "image/png": "[encoded data removed]"
          },
          "metadata": {}
        }
      ]
    },
    {
      "cell_type": "code",
      "source": [
        "# train test split by years\n",
        "trainds = dataset[dataset[\"YR\"]<=2010]\n",
        "testsds = dataset[dataset[\"YR\"]>2010]"
      ],
      "metadata": {
        "id": "NtRnXk5nwQbP"
      },
      "execution_count": 8,
      "outputs": []
    },
    {
      "cell_type": "code",
      "source": [
        "# grab anoms columns (ONI) and reset index\n",
        "# reshape to be (samples, features)\n",
        "# number of features here is just 1 (ONI)\n",
        "trainds = trainds.reset_index(drop=True)[\"ANOM\"].values.reshape(-1, 1)\n",
        "testsds = testsds.reset_index(drop=True)[\"ANOM\"].values.reshape(-1, 1)"
      ],
      "metadata": {
        "id": "_O7iYwVZvEyB"
      },
      "execution_count": 9,
      "outputs": []
    },
    {
      "cell_type": "code",
      "source": [
        "# checking shapes -- make sure (samples, features)\n",
        "print(trainds.shape, testsds.shape)"
      ],
      "metadata": {
        "colab": {
          "base_uri": "https://localhost:8080/"
        },
        "id": "-qRzFiAK5oln",
        "outputId": "bda0a662-bf21-41ec-bdae-ed8a3d2b0ac2"
      },
      "execution_count": 10,
      "outputs": [
        {
          "output_type": "stream",
          "name": "stdout",
          "text": [
            "(732, 1) (157, 1)\n"
          ]
        }
      ]
    },
    {
      "cell_type": "code",
      "source": [
        "# Feature Scaling\n",
        "sc = MinMaxScaler(feature_range=(0,1))"
      ],
      "metadata": {
        "id": "7S-QdRBHmCjm"
      },
      "execution_count": 11,
      "outputs": []
    },
    {
      "cell_type": "code",
      "source": [
        "# do rescaling\n",
        "trainds_scaled = sc.fit_transform(trainds)\n",
        "testsds_scaled = sc.transform(testsds)"
      ],
      "metadata": {
        "id": "a6M2k9RF8cXZ"
      },
      "execution_count": 12,
      "outputs": []
    },
    {
      "cell_type": "markdown",
      "source": [
        "# Many-to-One LSTM"
      ],
      "metadata": {
        "id": "_1L5-a5eb3TK"
      }
    },
    {
      "cell_type": "code",
      "source": [
        "# for help with data manipulation for time series rnn training; we can use the time series generator from keras\n",
        "\n",
        "# dummy input for understanding\n",
        "# data = np.array([[i] for i in range(50)])\n",
        "\n",
        "# here goes our training data\n",
        "data = trainds_scaled\n",
        "\n",
        "# the shape of your target is your prediction shape (e.g., here we make it 1)\n",
        "target = data\n",
        "\n",
        "# the length of the input feature\n",
        "n_input=4 # you can change this! doesn't HAVE to be 4 months input\n",
        "n_features=data.shape[1]\n",
        "\n",
        "# this is the generator that will go into our rnn for training\n",
        "data_gen = TimeseriesGenerator(data,\n",
        "                               target,\n",
        "                               length=n_input,\n",
        "                               sampling_rate=1,\n",
        "                               batch_size=16, # you can try different batch sizes\n",
        "                               shuffle=True)"
      ],
      "metadata": {
        "id": "zUb6c5liFwG5"
      },
      "execution_count": 13,
      "outputs": []
    },
    {
      "cell_type": "code",
      "source": [
        "# check shapes\n",
        "print(data.shape, target.shape, n_features)"
      ],
      "metadata": {
        "colab": {
          "base_uri": "https://localhost:8080/"
        },
        "id": "FreObmKXt8Fc",
        "outputId": "44c280d5-77af-4abe-f80e-61b82c173c38"
      },
      "execution_count": 14,
      "outputs": [
        {
          "output_type": "stream",
          "name": "stdout",
          "text": [
            "(732, 1) (732, 1) 1\n"
          ]
        }
      ]
    },
    {
      "cell_type": "code",
      "source": [
        "# quick check of output\n",
        "batch_0 = data_gen[0]\n",
        "x, y = batch_0\n",
        "print(x[0], y[0])\n",
        "print(x.shape, y.shape)"
      ],
      "metadata": {
        "colab": {
          "base_uri": "https://localhost:8080/"
        },
        "id": "0KThyhWlzXq6",
        "outputId": "d178ec31-8a07-45b6-b74e-92351750704e"
      },
      "execution_count": 15,
      "outputs": [
        {
          "output_type": "stream",
          "name": "stdout",
          "text": [
            "[[0.53724605]\n",
            " [0.51241535]\n",
            " [0.51241535]\n",
            " [0.48532731]] [0.4469526]\n",
            "(16, 4, 1) (16, 1)\n"
          ]
        }
      ]
    },
    {
      "cell_type": "code",
      "source": [
        "# many-to-one example\n",
        "# lets make our rnn!\n",
        "regressor = Sequential()\n",
        "\n",
        "# LSTM; input shape is 1 (for one time step at a time) and n_features which is also 1 for our toy example\n",
        "regressor.add(keras.layers.Input(shape=(1, n_features), batch_size=16))\n",
        "\n",
        "# don't return sequence; just the last output of the input sequence\n",
        "regressor.add(LSTM(units=50, return_sequences=False))\n",
        "\n",
        "# one neuron for output prediction\n",
        "regressor.add(Dense(1))\n",
        "regressor.add(Activation('linear'))\n",
        "\n",
        "# compile model\n",
        "regressor.compile(optimizer='adam', loss='mean_squared_error', metrics=['mse', 'mae'])\n",
        "\n",
        "# what does graph look like?\n",
        "regressor.summary()"
      ],
      "metadata": {
        "id": "dCWIVnYxmCau",
        "colab": {
          "base_uri": "https://localhost:8080/"
        },
        "outputId": "61cdd044-7e2d-4030-ce5e-43c0b05e757e"
      },
      "execution_count": 16,
      "outputs": [
        {
          "output_type": "stream",
          "name": "stdout",
          "text": [
            "Model: \"sequential\"\n",
            "_________________________________________________________________\n",
            " Layer (type)                Output Shape              Param #   \n",
            "=================================================================\n",
            " lstm (LSTM)                 (16, 50)                  10400     \n",
            "                                                                 \n",
            " dense (Dense)               (16, 1)                   51        \n",
            "                                                                 \n",
            " activation (Activation)     (16, 1)                   0         \n",
            "                                                                 \n",
            "=================================================================\n",
            "Total params: 10451 (40.82 KB)\n",
            "Trainable params: 10451 (40.82 KB)\n",
            "Non-trainable params: 0 (0.00 Byte)\n",
            "_________________________________________________________________\n"
          ]
        }
      ]
    },
    {
      "cell_type": "code",
      "source": [
        "# train the lstm!\n",
        "regressor.fit(data_gen, epochs=20)"
      ],
      "metadata": {
        "colab": {
          "base_uri": "https://localhost:8080/"
        },
        "id": "Aue4JDCWyy9L",
        "outputId": "04c9b3b8-0760-45fe-dac4-db97a35fcc3e"
      },
      "execution_count": 17,
      "outputs": [
        {
          "output_type": "stream",
          "name": "stdout",
          "text": [
            "Epoch 1/20\n",
            "46/46 [==============================] - 2s 5ms/step - loss: 0.0557 - mse: 0.0557 - mae: 0.1771\n",
            "Epoch 2/20\n",
            "46/46 [==============================] - 0s 4ms/step - loss: 0.0114 - mse: 0.0114 - mae: 0.0836\n",
            "Epoch 3/20\n",
            "46/46 [==============================] - 0s 4ms/step - loss: 0.0107 - mse: 0.0107 - mae: 0.0807\n",
            "Epoch 4/20\n",
            "46/46 [==============================] - 0s 4ms/step - loss: 0.0104 - mse: 0.0104 - mae: 0.0787\n",
            "Epoch 5/20\n",
            "46/46 [==============================] - 0s 4ms/step - loss: 0.0093 - mse: 0.0093 - mae: 0.0743\n",
            "Epoch 6/20\n",
            "46/46 [==============================] - 0s 4ms/step - loss: 0.0086 - mse: 0.0086 - mae: 0.0710\n",
            "Epoch 7/20\n",
            "46/46 [==============================] - 0s 4ms/step - loss: 0.0085 - mse: 0.0085 - mae: 0.0718\n",
            "Epoch 8/20\n",
            "46/46 [==============================] - 0s 4ms/step - loss: 0.0089 - mse: 0.0089 - mae: 0.0759\n",
            "Epoch 9/20\n",
            "46/46 [==============================] - 0s 5ms/step - loss: 0.0075 - mse: 0.0075 - mae: 0.0663\n",
            "Epoch 10/20\n",
            "46/46 [==============================] - 0s 5ms/step - loss: 0.0079 - mse: 0.0079 - mae: 0.0702\n",
            "Epoch 11/20\n",
            "46/46 [==============================] - 0s 5ms/step - loss: 0.0076 - mse: 0.0076 - mae: 0.0688\n",
            "Epoch 12/20\n",
            "46/46 [==============================] - 0s 7ms/step - loss: 0.0069 - mse: 0.0069 - mae: 0.0654\n",
            "Epoch 13/20\n",
            "46/46 [==============================] - 0s 7ms/step - loss: 0.0070 - mse: 0.0070 - mae: 0.0657\n",
            "Epoch 14/20\n",
            "46/46 [==============================] - 0s 6ms/step - loss: 0.0057 - mse: 0.0057 - mae: 0.0592\n",
            "Epoch 15/20\n",
            "46/46 [==============================] - 0s 7ms/step - loss: 0.0059 - mse: 0.0059 - mae: 0.0599\n",
            "Epoch 16/20\n",
            "46/46 [==============================] - 0s 7ms/step - loss: 0.0056 - mse: 0.0056 - mae: 0.0584\n",
            "Epoch 17/20\n",
            "46/46 [==============================] - 0s 4ms/step - loss: 0.0042 - mse: 0.0042 - mae: 0.0498\n",
            "Epoch 18/20\n",
            "46/46 [==============================] - 0s 4ms/step - loss: 0.0039 - mse: 0.0039 - mae: 0.0492\n",
            "Epoch 19/20\n",
            "46/46 [==============================] - 0s 4ms/step - loss: 0.0033 - mse: 0.0033 - mae: 0.0454\n",
            "Epoch 20/20\n",
            "46/46 [==============================] - 0s 4ms/step - loss: 0.0023 - mse: 0.0023 - mae: 0.0380\n"
          ]
        },
        {
          "output_type": "execute_result",
          "data": {
            "text/plain": [
              "<keras.src.callbacks.History at 0x7f82e6c7d6c0>"
            ]
          },
          "metadata": {},
          "execution_count": 17
        }
      ]
    },
    {
      "cell_type": "code",
      "source": [
        "# here goes our testing data that was already scaled\n",
        "testdata = testsds_scaled\n",
        "\n",
        "testtarget = testdata\n",
        "\n",
        "testdata_gen = TimeseriesGenerator(\n",
        "    testdata,\n",
        "    testtarget,\n",
        "    length=n_input,\n",
        "    sampling_rate=1,\n",
        "    batch_size=testdata.shape[0], # all samples\n",
        "    shuffle=False)"
      ],
      "metadata": {
        "id": "VvqyVkKR9OgI"
      },
      "execution_count": 18,
      "outputs": []
    },
    {
      "cell_type": "code",
      "source": [
        "# quick check of output\n",
        "batch_0 = testdata_gen[0]\n",
        "x, y = batch_0\n",
        "print(x[0], y[0])\n",
        "print(x.shape, y.shape)"
      ],
      "metadata": {
        "colab": {
          "base_uri": "https://localhost:8080/"
        },
        "id": "yD-8nXD4-rZu",
        "outputId": "0ec63bbe-6301-4741-92e0-a08e748e192c"
      },
      "execution_count": 19,
      "outputs": [
        {
          "output_type": "stream",
          "name": "stdout",
          "text": [
            "[[0.13769752]\n",
            " [0.18961625]\n",
            " [0.248307  ]\n",
            " [0.29345372]] [0.33408578]\n",
            "(153, 4, 1) (153, 1)\n"
          ]
        }
      ]
    },
    {
      "cell_type": "code",
      "source": [
        "# predict using test data\n",
        "oni_predictions = regressor.predict(testdata_gen)"
      ],
      "metadata": {
        "id": "DPA3UGBsmCXX",
        "colab": {
          "base_uri": "https://localhost:8080/"
        },
        "outputId": "b23e0f12-72fe-4e57-e6d2-9f8f3d706386"
      },
      "execution_count": 20,
      "outputs": [
        {
          "output_type": "stream",
          "name": "stdout",
          "text": [
            "1/1 [==============================] - 1s 1s/step\n"
          ]
        }
      ]
    },
    {
      "cell_type": "code",
      "source": [
        "# quick check that we have a match of shapes\n",
        "print(oni_predictions.shape, y.shape)"
      ],
      "metadata": {
        "colab": {
          "base_uri": "https://localhost:8080/"
        },
        "id": "dHY10TFu_Hp5",
        "outputId": "299ca18f-af15-4321-ef66-290c57c6d41b"
      },
      "execution_count": 21,
      "outputs": [
        {
          "output_type": "stream",
          "name": "stdout",
          "text": [
            "(153, 1) (153, 1)\n"
          ]
        }
      ]
    },
    {
      "cell_type": "code",
      "source": [
        "# how did we do!?\n",
        "plt.scatter(\n",
        "    sc.inverse_transform(y).reshape(-1),\n",
        "    sc.inverse_transform(oni_predictions).reshape(-1)\n",
        "    )\n",
        "plt.xlim([-3,3])\n",
        "plt.ylim([-3,3])\n",
        "plt.show()"
      ],
      "metadata": {
        "colab": {
          "base_uri": "https://localhost:8080/",
          "height": 435
        },
        "id": "ZPeSf6qzGrd1",
        "outputId": "6e7bba32-1720-49d8-99e9-a6553ed28dc9"
      },
      "execution_count": 22,
      "outputs": [
        {
          "output_type": "display_data",
          "data": {
            "text/plain": [
              "<Figure size 640x480 with 1 Axes>"
            ],
            "image/png": "[encoded data removed]"
          },
          "metadata": {}
        }
      ]
    },
    {
      "cell_type": "markdown",
      "source": [
        "# Many-to-Many LSTM"
      ],
      "metadata": {
        "id": "ydKfkPRzfuLD"
      }
    },
    {
      "cell_type": "code",
      "source": [
        "# redoing data preprocessing steps here more quickly\n",
        "\n",
        "# reading dataset from NOAA online\n",
        "dataset = pd.read_csv(\n",
        "    'http://www.cpc.ncep.noaa.gov/data/indices/oni.ascii.txt',\n",
        "    delim_whitespace=True)\n",
        "\n",
        "# drop any nans\n",
        "dataset = dataset.dropna(subset=[\"ANOM\"])\n",
        "\n",
        "# train test split by years\n",
        "trainds = dataset[dataset[\"YR\"]<=2010]\n",
        "testsds = dataset[dataset[\"YR\"]>2010]\n",
        "\n",
        "# grab anoms columns (ONI) and reset index\n",
        "# reshape to be (samples, features)\n",
        "# number of features here is just 1 (ONI)\n",
        "trainds = trainds.reset_index(drop=True)[\"ANOM\"].values.reshape(-1, 1)\n",
        "testsds = testsds.reset_index(drop=True)[\"ANOM\"].values.reshape(-1, 1)\n",
        "\n",
        "# Feature Scaling\n",
        "sc = MinMaxScaler(feature_range=(0,1))\n",
        "\n",
        "# do rescaling\n",
        "trainds_scaled = sc.fit_transform(trainds)\n",
        "testsds_scaled = sc.transform(testsds)"
      ],
      "metadata": {
        "id": "HyKsK1p2frBp"
      },
      "execution_count": 23,
      "outputs": []
    },
    {
      "cell_type": "code",
      "source": [
        "# for help with data manipulation for time series rnn training; we can use the time series generator from keras\n",
        "\n",
        "# dummy input for understanding\n",
        "# data = np.array([[i] for i in range(50)])\n",
        "\n",
        "# here goes our training data\n",
        "data = trainds_scaled\n",
        "\n",
        "# the shape of your target is your prediction shape\n",
        "target = np.concatenate((np.roll(data, 0, axis=0),\n",
        "                         np.roll(data, -1, axis=0),\n",
        "                         np.roll(data, -2, axis=0),\n",
        "                         #np.roll(data, -3, axis=0)\n",
        "                        ), axis=1)\n",
        "\n",
        "# the length of the input feature\n",
        "n_input=4\n",
        "n_features=data.shape[1]\n",
        "n_pred=target.shape[1]\n",
        "\n",
        "# this is the generator that will go into our rnn for training\n",
        "data_gen = TimeseriesGenerator(data,\n",
        "                               target,\n",
        "                               length=n_input,\n",
        "                               sampling_rate=1,\n",
        "                               batch_size=16,\n",
        "                               shuffle=True)"
      ],
      "metadata": {
        "id": "780eNEwefrJt"
      },
      "execution_count": 24,
      "outputs": []
    },
    {
      "cell_type": "code",
      "source": [
        "# quick check of output\n",
        "batch_0 = data_gen[0]\n",
        "x, y = batch_0\n",
        "print(x[0], y[0])\n",
        "print(x.shape, y.shape, n_features)"
      ],
      "metadata": {
        "colab": {
          "base_uri": "https://localhost:8080/"
        },
        "id": "UFMqsQTdfrM2",
        "outputId": "3b36c3c0-76c0-4a28-feec-b049909d4cea"
      },
      "execution_count": 25,
      "outputs": [
        {
          "output_type": "stream",
          "name": "stdout",
          "text": [
            "[[0.37923251]\n",
            " [0.4717833 ]\n",
            " [0.55079007]\n",
            " [0.60948081]] [0.66591422 0.71331828 0.76749436]\n",
            "(16, 4, 1) (16, 3) 1\n"
          ]
        }
      ]
    },
    {
      "cell_type": "code",
      "source": [
        "# many-to-one example\n",
        "\n",
        "# lets make our rnn!\n",
        "regressor = Sequential()\n",
        "\n",
        "# LSTM; input shape is 1 (for one time step at a time) and n_features which is also 1 for our toy example\n",
        "regressor.add(keras.layers.Input(shape=(1, n_features), batch_size=16))\n",
        "\n",
        "# encoder is needed because we are using many to predict future manys\n",
        "# return sequence\n",
        "regressor.add(LSTM(units=50, return_sequences=False))\n",
        "\n",
        "# one neuron for output prediction needs to be repeated for each future many prediction\n",
        "regressor.add(RepeatVector(n_pred))\n",
        "\n",
        "# decoder to predict; return each prediction so return_sequence=True\n",
        "# return sequence\n",
        "regressor.add(LSTM(units=50, return_sequences=True))\n",
        "\n",
        "# predict 1 value per returned sequence value\n",
        "regressor.add(TimeDistributed(Dense(1)))\n",
        "regressor.add(Activation('linear'))\n",
        "\n",
        "# compile model\n",
        "regressor.compile(optimizer='adam', loss='mean_squared_error', metrics=['mse', 'mae'])\n",
        "\n",
        "# what does graph look like?\n",
        "regressor.summary()"
      ],
      "metadata": {
        "colab": {
          "base_uri": "https://localhost:8080/"
        },
        "id": "6FVy06vcfrPe",
        "outputId": "29636342-b45f-4831-b945-ddb633d27d89"
      },
      "execution_count": 26,
      "outputs": [
        {
          "output_type": "stream",
          "name": "stdout",
          "text": [
            "Model: \"sequential_1\"\n",
            "_________________________________________________________________\n",
            " Layer (type)                Output Shape              Param #   \n",
            "=================================================================\n",
            " lstm_1 (LSTM)               (16, 50)                  10400     \n",
            "                                                                 \n",
            " repeat_vector (RepeatVecto  (16, 3, 50)               0         \n",
            " r)                                                              \n",
            "                                                                 \n",
            " lstm_2 (LSTM)               (16, 3, 50)               20200     \n",
            "                                                                 \n",
            " time_distributed (TimeDist  (16, 3, 1)                51        \n",
            " ributed)                                                        \n",
            "                                                                 \n",
            " activation_1 (Activation)   (16, 3, 1)                0         \n",
            "                                                                 \n",
            "=================================================================\n",
            "Total params: 30651 (119.73 KB)\n",
            "Trainable params: 30651 (119.73 KB)\n",
            "Non-trainable params: 0 (0.00 Byte)\n",
            "_________________________________________________________________\n"
          ]
        }
      ]
    },
    {
      "cell_type": "code",
      "source": [
        "# train the lstm!\n",
        "regressor.fit(data_gen, epochs=20)"
      ],
      "metadata": {
        "colab": {
          "base_uri": "https://localhost:8080/"
        },
        "id": "kaipkME-hYxO",
        "outputId": "d3b9c523-3e5a-47a0-db8d-11ae679b27c6"
      },
      "execution_count": 27,
      "outputs": [
        {
          "output_type": "stream",
          "name": "stdout",
          "text": [
            "Epoch 1/20\n",
            "46/46 [==============================] - 6s 13ms/step - loss: 0.0764 - mse: 0.0764 - mae: 0.2227\n",
            "Epoch 2/20\n",
            "46/46 [==============================] - 1s 14ms/step - loss: 0.0258 - mse: 0.0258 - mae: 0.1262\n",
            "Epoch 3/20\n",
            "46/46 [==============================] - 1s 15ms/step - loss: 0.0155 - mse: 0.0155 - mae: 0.0965\n",
            "Epoch 4/20\n",
            "46/46 [==============================] - 1s 13ms/step - loss: 0.0146 - mse: 0.0146 - mae: 0.0930\n",
            "Epoch 5/20\n",
            "46/46 [==============================] - 1s 14ms/step - loss: 0.0157 - mse: 0.0157 - mae: 0.0954\n",
            "Epoch 6/20\n",
            "46/46 [==============================] - 1s 15ms/step - loss: 0.0142 - mse: 0.0142 - mae: 0.0920\n",
            "Epoch 7/20\n",
            "46/46 [==============================] - 1s 16ms/step - loss: 0.0125 - mse: 0.0125 - mae: 0.0860\n",
            "Epoch 8/20\n",
            "46/46 [==============================] - 1s 19ms/step - loss: 0.0109 - mse: 0.0109 - mae: 0.0814\n",
            "Epoch 9/20\n",
            "46/46 [==============================] - 1s 12ms/step - loss: 0.0103 - mse: 0.0103 - mae: 0.0787\n",
            "Epoch 10/20\n",
            "46/46 [==============================] - 1s 15ms/step - loss: 0.0068 - mse: 0.0068 - mae: 0.0642\n",
            "Epoch 11/20\n",
            "46/46 [==============================] - 0s 8ms/step - loss: 0.0061 - mse: 0.0061 - mae: 0.0596\n",
            "Epoch 12/20\n",
            "46/46 [==============================] - 0s 10ms/step - loss: 0.0066 - mse: 0.0066 - mae: 0.0626\n",
            "Epoch 13/20\n",
            "46/46 [==============================] - 1s 14ms/step - loss: 0.0054 - mse: 0.0054 - mae: 0.0573\n",
            "Epoch 14/20\n",
            "46/46 [==============================] - 1s 14ms/step - loss: 0.0052 - mse: 0.0052 - mae: 0.0550\n",
            "Epoch 15/20\n",
            "46/46 [==============================] - 1s 11ms/step - loss: 0.0057 - mse: 0.0057 - mae: 0.0572\n",
            "Epoch 16/20\n",
            "46/46 [==============================] - 1s 11ms/step - loss: 0.0059 - mse: 0.0059 - mae: 0.0590\n",
            "Epoch 17/20\n",
            "46/46 [==============================] - 0s 9ms/step - loss: 0.0058 - mse: 0.0058 - mae: 0.0579\n",
            "Epoch 18/20\n",
            "46/46 [==============================] - 0s 7ms/step - loss: 0.0056 - mse: 0.0056 - mae: 0.0572\n",
            "Epoch 19/20\n",
            "46/46 [==============================] - 0s 7ms/step - loss: 0.0053 - mse: 0.0053 - mae: 0.0551\n",
            "Epoch 20/20\n",
            "46/46 [==============================] - 0s 7ms/step - loss: 0.0052 - mse: 0.0052 - mae: 0.0550\n"
          ]
        },
        {
          "output_type": "execute_result",
          "data": {
            "text/plain": [
              "<keras.src.callbacks.History at 0x7f82d76d6d10>"
            ]
          },
          "metadata": {},
          "execution_count": 27
        }
      ]
    },
    {
      "cell_type": "code",
      "source": [
        "# here goes our testing data\n",
        "testdata = testsds_scaled\n",
        "\n",
        "# make sure you make this match your training target\n",
        "testtarget = np.concatenate((\n",
        "    np.roll(testdata, 0, axis=0),\n",
        "    np.roll(testdata, -1, axis=0),\n",
        "    np.roll(testdata, -2, axis=0),\n",
        "    #np.roll(testdata, -3, axis=0)\n",
        "    ), axis=1)\n",
        "\n",
        "testdata_gen = TimeseriesGenerator(\n",
        "    testdata,\n",
        "    testtarget,\n",
        "    length=n_input,\n",
        "    sampling_rate=1,\n",
        "    batch_size=testdata.shape[0], # all samples\n",
        "    shuffle=False)"
      ],
      "metadata": {
        "id": "3_b36aCChZPy"
      },
      "execution_count": 28,
      "outputs": []
    },
    {
      "cell_type": "code",
      "source": [
        "# quick check of output\n",
        "batch_0 = testdata_gen[0]\n",
        "x, y = batch_0\n",
        "print(x[0], y[0])\n",
        "print(x.shape, y.shape)"
      ],
      "metadata": {
        "colab": {
          "base_uri": "https://localhost:8080/"
        },
        "id": "Pa9VaqHPiDoE",
        "outputId": "ff6da512-1858-4061-f51a-0153990fc1ec"
      },
      "execution_count": 29,
      "outputs": [
        {
          "output_type": "stream",
          "name": "stdout",
          "text": [
            "[[0.13769752]\n",
            " [0.18961625]\n",
            " [0.248307  ]\n",
            " [0.29345372]] [0.33408578 0.35891648 0.34988713]\n",
            "(153, 4, 1) (153, 3)\n"
          ]
        }
      ]
    },
    {
      "cell_type": "code",
      "source": [
        "# make predictions\n",
        "oni_predictions = regressor.predict(testdata_gen)"
      ],
      "metadata": {
        "colab": {
          "base_uri": "https://localhost:8080/"
        },
        "id": "4ZQlHOxuh0Zy",
        "outputId": "c845e2e4-e9b6-432a-e951-7753e5219060"
      },
      "execution_count": 30,
      "outputs": [
        {
          "output_type": "stream",
          "name": "stdout",
          "text": [
            "1/1 [==============================] - 2s 2s/step\n"
          ]
        }
      ]
    },
    {
      "cell_type": "code",
      "source": [
        "# check shapes match\n",
        "print(oni_predictions.shape, y.shape)"
      ],
      "metadata": {
        "colab": {
          "base_uri": "https://localhost:8080/"
        },
        "id": "tIHWVyFIFBxt",
        "outputId": "4093be74-8b58-4622-bdb1-d48b0f0beeca"
      },
      "execution_count": 31,
      "outputs": [
        {
          "output_type": "stream",
          "name": "stdout",
          "text": [
            "(153, 3, 1) (153, 3)\n"
          ]
        }
      ]
    },
    {
      "cell_type": "code",
      "source": [
        "for i in range(0, n_pred):\n",
        "    # how did we do!?\n",
        "    plt.scatter(\n",
        "        sc.inverse_transform(y[:, i].reshape(-1, 1)).reshape(-1),\n",
        "        sc.inverse_transform(oni_predictions[:, i].reshape(-1, 1)).reshape(-1)\n",
        "        )\n",
        "    plt.xlim([-3,3])\n",
        "    plt.ylim([-3,3])\n",
        "    plt.show()"
      ],
      "metadata": {
        "colab": {
          "base_uri": "https://localhost:8080/",
          "height": 1000
        },
        "id": "WMaxU9aZkjFP",
        "outputId": "221d0cf8-8071-4c0f-9510-2b0c664ae98f"
      },
      "execution_count": 32,
      "outputs": [
        {
          "output_type": "display_data",
          "data": {
            "text/plain": [
              "<Figure size 640x480 with 1 Axes>"
            ],
            "image/png": "[encoded data removed]"
          },
          "metadata": {}
        },
        {
          "output_type": "display_data",
          "data": {
            "text/plain": [
              "<Figure size 640x480 with 1 Axes>"
            ],
            "image/png": "[encoded data removed]"
          },
          "metadata": {}
        },
        {
          "output_type": "display_data",
          "data": {
            "text/plain": [
              "<Figure size 640x480 with 1 Axes>"
            ],
            "image/png": "[encoded data removed]"
          },
          "metadata": {}
        }
      ]
    },
    {
      "cell_type": "code",
      "source": [],
      "metadata": {
        "id": "aZz0E1tTmlaI"
      },
      "execution_count": 34,
      "outputs": []
    }
  ]
}