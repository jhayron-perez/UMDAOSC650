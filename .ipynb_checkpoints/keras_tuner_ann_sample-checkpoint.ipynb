{
  "nbformat": 4,
  "nbformat_minor": 0,
  "metadata": {
    "colab": {
      "provenance": [],
      "include_colab_link": true
    },
    "kernelspec": {
      "name": "python3",
      "display_name": "Python 3"
    },
    "language_info": {
      "name": "python"
    }
  },
  "cells": [
    {
      "cell_type": "markdown",
      "metadata": {
        "id": "view-in-github",
        "colab_type": "text"
      },
      "source": [
        "<a href=\"https://colab.research.google.com/github/mariajmolina/UMDAOSC650/blob/main/keras_tuner_ann_sample.ipynb\" target=\"_parent\"><img src=\"https://colab.research.google.com/assets/colab-badge.svg\" alt=\"Open In Colab\"/></a>"
      ]
    },
    {
      "cell_type": "markdown",
      "source": [
        "# Choosing hyperparameters for your ANN\n",
        "\n",
        "How do you decide on how many hidden layers to use, how many nodes each layer should have, or what loss function to use?\n",
        "\n",
        "KerasTuner is an easy-to-use, scalable hyperparameter optimization framework that helps conduct a hyperparameter search for your specific problem.\n",
        "\n",
        "Docs: https://keras.io/keras_tuner/"
      ],
      "metadata": {
        "id": "qOksAfsbQssH"
      }
    },
    {
      "cell_type": "code",
      "execution_count": 1,
      "metadata": {
        "id": "WSGzNdvgfyXP"
      },
      "outputs": [],
      "source": [
        "import numpy as np\n",
        "import matplotlib.pyplot as plt\n",
        "import pandas as pd\n",
        "import xarray as xr\n",
        "import sklearn\n",
        "from sklearn.preprocessing import MinMaxScaler\n",
        "import keras\n",
        "from keras import layers"
      ]
    },
    {
      "cell_type": "code",
      "source": [
        "# keras-tuner doesn't come installed in colab so lets install\n",
        "!pip install keras-tuner -q"
      ],
      "metadata": {
        "id": "klt6sxIYgDTx"
      },
      "execution_count": 2,
      "outputs": []
    },
    {
      "cell_type": "code",
      "source": [
        "import keras_tuner"
      ],
      "metadata": {
        "id": "HhowxjsCf2Fc"
      },
      "execution_count": 3,
      "outputs": []
    },
    {
      "cell_type": "markdown",
      "source": [
        "Similar to our first ann notebook, we will create some toy data to play with."
      ],
      "metadata": {
        "id": "ygw5psJCRTWK"
      }
    },
    {
      "cell_type": "code",
      "source": [
        "np.random.seed(123)\n",
        "\n",
        "# set the time range from 1999-2019\n",
        "times = pd.date_range(\"1999-01-01\", \"2019-12-31\", name=\"time\")\n",
        "\n",
        "# create an \"annual cycle\"\n",
        "annual_cycle = np.sin(2 * np.pi * (times.dayofyear.values / 365.25 - 0.28))\n",
        "\n",
        "# create some base \"temperatures\"\n",
        "base = 10 + 15 * annual_cycle.reshape(-1, 1)\n",
        "tmin_values = base + 3 * np.random.randn(annual_cycle.size, 1)\n",
        "tmax_values = base + 10 + 3 * np.random.randn(annual_cycle.size, 1)\n",
        "\n",
        "# let's put these dummy temperatures into an xarray dataset\n",
        "ds = xr.Dataset(\n",
        "    {\n",
        "        \"tmin\": ((\"time\", \"location\"), tmin_values),\n",
        "        \"tmax\": ((\"time\", \"location\"), tmax_values),\n",
        "    },\n",
        "    {\"time\": times, \"location\": [\"IA\"]},\n",
        ")"
      ],
      "metadata": {
        "id": "JuGfd3z8gXWi"
      },
      "execution_count": 4,
      "outputs": []
    },
    {
      "cell_type": "code",
      "source": [
        "# lets split our data into train/test sets using dates\n",
        "train = ds.sel(time=slice('1999-01-01T00:00:00.000000000','2014-12-31T00:00:00.000000000'))\n",
        "test = ds.sel(time=slice('2015-01-01T00:00:00.000000000','2019-12-31T00:00:00.000000000'))\n",
        "\n",
        "# and grab the input feature and labels\n",
        "input_train = train.tmin\n",
        "label_train = train.tmax"
      ],
      "metadata": {
        "id": "e5aeZRTHgL5W"
      },
      "execution_count": 5,
      "outputs": []
    },
    {
      "cell_type": "code",
      "source": [
        "# create our scaler object\n",
        "scaler_input = MinMaxScaler()\n",
        "scaler_label = MinMaxScaler()\n",
        "\n",
        "# fit it to our training set\n",
        "scaler_input.fit(input_train)\n",
        "scaler_label.fit(label_train)\n",
        "\n",
        "# now transform our input data and labels\n",
        "input_train_scaled = scaler_input.transform(input_train)\n",
        "label_train_scaled = scaler_label.transform(label_train)"
      ],
      "metadata": {
        "id": "ISaBVKjDgRh8"
      },
      "execution_count": 6,
      "outputs": []
    },
    {
      "cell_type": "markdown",
      "source": [
        "### Searching hyperparameters\n",
        "\n",
        "To start our hyperparameter search, we will build our ANN sequentially, as we did in the first ann notebook. However, we will place this model into a function call build_model(hp). hp will be our hyperparameter object used during the search. Additionally, we will use hyperparameter objects with predefined ranges and sampling/steps, depending on what we want to explore."
      ],
      "metadata": {
        "id": "AR1PTx9LRpVy"
      }
    },
    {
      "cell_type": "code",
      "source": [
        "def build_model(hp):\n",
        "    # start building model\n",
        "    model = keras.Sequential()\n",
        "    # input layer stays the same as before\n",
        "    model.add(keras.Input(shape=(1,), name=\"input_layer\"))\n",
        "    # instead of choosing the number of nodes, we add an hp object\n",
        "    model.add(\n",
        "        keras.layers.Dense(\n",
        "            units=hp.Int(\"units\", min_value=2, max_value=12, step=1),\n",
        "            activation=keras.activations.relu\n",
        "            )\n",
        "        )\n",
        "    model.add(\n",
        "        keras.layers.Dense(\n",
        "            units=hp.Int(\"units\", min_value=2, max_value=12, step=1),\n",
        "            activation=keras.activations.relu\n",
        "            )\n",
        "        )\n",
        "    # likewise, we will search for the learning rate\n",
        "    learning_rate = hp.Float(\n",
        "        \"lr\", min_value=1e-4, max_value=1e-2, sampling=\"log\"\n",
        "        )\n",
        "    model.compile(\n",
        "        keras.optimizers.SGD(learning_rate=learning_rate),\n",
        "        loss='mse'\n",
        "        )\n",
        "    return model"
      ],
      "metadata": {
        "id": "rq4eNl5dgRqi"
      },
      "execution_count": 7,
      "outputs": []
    },
    {
      "cell_type": "markdown",
      "source": [
        "hyperparameter method options include: https://keras.io/api/keras_tuner/hyperparameters/"
      ],
      "metadata": {
        "id": "BBM9njSUUd89"
      }
    },
    {
      "cell_type": "code",
      "source": [
        "build_model(keras_tuner.HyperParameters())"
      ],
      "metadata": {
        "colab": {
          "base_uri": "https://localhost:8080/"
        },
        "id": "_u7TZdv4WC05",
        "outputId": "a0ea6e48-e6d5-4cb8-d975-6476ebeedae2"
      },
      "execution_count": 8,
      "outputs": [
        {
          "output_type": "execute_result",
          "data": {
            "text/plain": [
              "<keras.src.engine.sequential.Sequential at 0x7dc26942e590>"
            ]
          },
          "metadata": {},
          "execution_count": 8
        }
      ]
    },
    {
      "cell_type": "markdown",
      "source": [
        "Next up, we initialize a tuner.\n",
        "\n",
        "Here we use RandomSearch (https://keras.io/api/keras_tuner/tuners/random/), but you can also use a Bayesian option (https://keras.io/api/keras_tuner/tuners/bayesian/).\n",
        "\n",
        "We use objective to specify the objective to select the best models, which in our case we base it on the validation set loss. We then use max_trials to specify the number of different models to try."
      ],
      "metadata": {
        "id": "_VrTBpIwUppJ"
      }
    },
    {
      "cell_type": "code",
      "source": [
        "tuner = keras_tuner.RandomSearch(\n",
        "    hypermodel=build_model,\n",
        "    objective=\"val_loss\",\n",
        "    max_trials=10,\n",
        "    seed=123,\n",
        ")"
      ],
      "metadata": {
        "id": "3V1lpOmKh93A",
        "colab": {
          "base_uri": "https://localhost:8080/"
        },
        "outputId": "acdf6fbe-8fcf-4beb-883a-64f0f3d12bff"
      },
      "execution_count": 9,
      "outputs": [
        {
          "output_type": "stream",
          "name": "stdout",
          "text": [
            "Reloading Tuner from ./untitled_project/tuner0.json\n"
          ]
        }
      ]
    },
    {
      "cell_type": "markdown",
      "source": [
        "You can print a summary of the search space:"
      ],
      "metadata": {
        "id": "nnbxe0T6WMlp"
      }
    },
    {
      "cell_type": "code",
      "source": [
        "tuner.search_space_summary()"
      ],
      "metadata": {
        "colab": {
          "base_uri": "https://localhost:8080/"
        },
        "id": "Edv-B-PNiIiZ",
        "outputId": "4f23bf16-464d-4dfd-ecb9-3ee80a0659d6"
      },
      "execution_count": 10,
      "outputs": [
        {
          "output_type": "stream",
          "name": "stdout",
          "text": [
            "Search space summary\n",
            "Default search space size: 2\n",
            "units (Int)\n",
            "{'default': None, 'conditions': [], 'min_value': 2, 'max_value': 12, 'step': 1, 'sampling': 'linear'}\n",
            "lr (Float)\n",
            "{'default': 0.0001, 'conditions': [], 'min_value': 0.0001, 'max_value': 0.01, 'step': None, 'sampling': 'log'}\n"
          ]
        }
      ]
    },
    {
      "cell_type": "markdown",
      "source": [
        "Make sure input and label data are ready for training..."
      ],
      "metadata": {
        "id": "C5GLkq8dWWz1"
      }
    },
    {
      "cell_type": "code",
      "source": [
        "input_train_scaled.reshape(1,-1).squeeze().shape"
      ],
      "metadata": {
        "colab": {
          "base_uri": "https://localhost:8080/"
        },
        "id": "Ckb61CVIjyN1",
        "outputId": "0f44adc0-b327-4fb3-b3aa-597926c39290"
      },
      "execution_count": 11,
      "outputs": [
        {
          "output_type": "execute_result",
          "data": {
            "text/plain": [
              "(5844,)"
            ]
          },
          "metadata": {},
          "execution_count": 11
        }
      ]
    },
    {
      "cell_type": "code",
      "source": [
        "label_train_scaled.reshape(1,-1).squeeze().shape"
      ],
      "metadata": {
        "colab": {
          "base_uri": "https://localhost:8080/"
        },
        "id": "apeV4A7TkBuZ",
        "outputId": "ee4ffcb0-3787-4258-e078-f71a161af102"
      },
      "execution_count": 12,
      "outputs": [
        {
          "output_type": "execute_result",
          "data": {
            "text/plain": [
              "(5844,)"
            ]
          },
          "metadata": {},
          "execution_count": 12
        }
      ]
    },
    {
      "cell_type": "markdown",
      "source": [
        "Now start the hyperparameter search! Here we set the first 5000 samples for training and the remaining samples as the validation set."
      ],
      "metadata": {
        "id": "ZlJXoToRWa_0"
      }
    },
    {
      "cell_type": "code",
      "source": [
        "tuner.search(\n",
        "    input_train_scaled.reshape(1,-1).squeeze()[:5000],\n",
        "    label_train_scaled.reshape(1,-1).squeeze()[:5000],\n",
        "    epochs=20,\n",
        "    validation_data=(\n",
        "        input_train_scaled.reshape(1,-1).squeeze()[5000:],\n",
        "        label_train_scaled.reshape(1,-1).squeeze()[5000:])\n",
        "    )"
      ],
      "metadata": {
        "id": "Pr5J50MoiKzx"
      },
      "execution_count": 13,
      "outputs": []
    },
    {
      "cell_type": "markdown",
      "source": [
        "# Querying the results\n",
        "\n",
        "When hyperparameter search is over, you can retrieve the best model(s). The model is saved at its best performing epoch evaluated on the validation_loss because we set that as the objective."
      ],
      "metadata": {
        "id": "8eTQevp_WzBH"
      }
    },
    {
      "cell_type": "code",
      "source": [
        "# we can now query the tuner object and grab the best models\n",
        "# here we grab the best two models\n",
        "models = tuner.get_best_models(num_models=2)"
      ],
      "metadata": {
        "id": "bJHkP2OxiWpw"
      },
      "execution_count": 14,
      "outputs": []
    },
    {
      "cell_type": "code",
      "source": [
        "models"
      ],
      "metadata": {
        "colab": {
          "base_uri": "https://localhost:8080/"
        },
        "id": "9LqK37RDXJlt",
        "outputId": "4563bbd0-33e8-4be1-9475-b9688e61dc0b"
      },
      "execution_count": 15,
      "outputs": [
        {
          "output_type": "execute_result",
          "data": {
            "text/plain": [
              "[<keras.src.engine.sequential.Sequential at 0x7dc2693350c0>,\n",
              " <keras.src.engine.sequential.Sequential at 0x7dc269335e70>]"
            ]
          },
          "metadata": {},
          "execution_count": 15
        }
      ]
    },
    {
      "cell_type": "code",
      "source": [
        "# here is the best model\n",
        "best_model = models[0]\n",
        "best_model.summary()"
      ],
      "metadata": {
        "colab": {
          "base_uri": "https://localhost:8080/"
        },
        "id": "nJqC7Y-7XLaW",
        "outputId": "78ce1fb3-9696-4b06-8edc-5a83ca9c01b4"
      },
      "execution_count": 16,
      "outputs": [
        {
          "output_type": "stream",
          "name": "stdout",
          "text": [
            "Model: \"sequential\"\n",
            "_________________________________________________________________\n",
            " Layer (type)                Output Shape              Param #   \n",
            "=================================================================\n",
            " dense (Dense)               (None, 2)                 4         \n",
            "                                                                 \n",
            " dense_1 (Dense)             (None, 2)                 6         \n",
            "                                                                 \n",
            "=================================================================\n",
            "Total params: 10 (40.00 Byte)\n",
            "Trainable params: 10 (40.00 Byte)\n",
            "Non-trainable params: 0 (0.00 Byte)\n",
            "_________________________________________________________________\n"
          ]
        }
      ]
    },
    {
      "cell_type": "code",
      "source": [
        "# here is the second best model\n",
        "best_model = models[1]\n",
        "best_model.summary()"
      ],
      "metadata": {
        "colab": {
          "base_uri": "https://localhost:8080/"
        },
        "id": "mME219pKXPyE",
        "outputId": "c7c83fdb-bb9f-415a-f94a-220c8b5ff0e9"
      },
      "execution_count": 17,
      "outputs": [
        {
          "output_type": "stream",
          "name": "stdout",
          "text": [
            "Model: \"sequential\"\n",
            "_________________________________________________________________\n",
            " Layer (type)                Output Shape              Param #   \n",
            "=================================================================\n",
            " dense (Dense)               (None, 9)                 18        \n",
            "                                                                 \n",
            " dense_1 (Dense)             (None, 9)                 90        \n",
            "                                                                 \n",
            "=================================================================\n",
            "Total params: 108 (432.00 Byte)\n",
            "Trainable params: 108 (432.00 Byte)\n",
            "Non-trainable params: 0 (0.00 Byte)\n",
            "_________________________________________________________________\n"
          ]
        }
      ]
    },
    {
      "cell_type": "markdown",
      "source": [
        "You can also print a summary of the search results."
      ],
      "metadata": {
        "id": "NOfyFZSvXa4d"
      }
    },
    {
      "cell_type": "code",
      "source": [
        "tuner.results_summary()"
      ],
      "metadata": {
        "colab": {
          "base_uri": "https://localhost:8080/"
        },
        "id": "Bx2qodBmlP8c",
        "outputId": "716c5c8a-d210-4687-d693-194c8c8230e8"
      },
      "execution_count": 18,
      "outputs": [
        {
          "output_type": "stream",
          "name": "stdout",
          "text": [
            "Results summary\n",
            "Results in ./untitled_project\n",
            "Showing 10 best trials\n",
            "Objective(name=\"val_loss\", direction=\"min\")\n",
            "\n",
            "Trial 00 summary\n",
            "Hyperparameters:\n",
            "units: 2\n",
            "lr: 0.008347597753558379\n",
            "Score: 17.08672523498535\n",
            "\n",
            "Trial 06 summary\n",
            "Hyperparameters:\n",
            "units: 9\n",
            "lr: 0.0014172041528226799\n",
            "Score: 17.131345748901367\n",
            "\n",
            "Trial 01 summary\n",
            "Hyperparameters:\n",
            "units: 11\n",
            "lr: 0.0013968619216753887\n",
            "Score: 17.15448570251465\n",
            "\n",
            "Trial 08 summary\n",
            "Hyperparameters:\n",
            "units: 2\n",
            "lr: 0.0034928656354620575\n",
            "Score: 17.23360252380371\n",
            "\n",
            "Trial 02 summary\n",
            "Hyperparameters:\n",
            "units: 2\n",
            "lr: 0.007586966748878234\n",
            "Score: 17.478857040405273\n",
            "\n",
            "Trial 05 summary\n",
            "Hyperparameters:\n",
            "units: 7\n",
            "lr: 0.0009294745699713808\n",
            "Score: 17.782363891601562\n",
            "\n",
            "Trial 04 summary\n",
            "Hyperparameters:\n",
            "units: 5\n",
            "lr: 0.0006681248953196665\n",
            "Score: 25.011133193969727\n",
            "\n",
            "Trial 09 summary\n",
            "Hyperparameters:\n",
            "units: 7\n",
            "lr: 0.001462772808938758\n",
            "Score: 85.84021759033203\n",
            "\n",
            "Trial 03 summary\n",
            "Hyperparameters:\n",
            "units: 8\n",
            "lr: 0.0010953574938066576\n",
            "Score: 137.32691955566406\n",
            "\n",
            "Trial 07 summary\n",
            "Hyperparameters:\n",
            "units: 2\n",
            "lr: 0.00024370961846589565\n",
            "Score: 275.4319763183594\n"
          ]
        }
      ]
    },
    {
      "cell_type": "markdown",
      "source": [
        "### Retrain the model\n",
        "\n",
        "Keras-tuner also makes it easy to retrain a model using the set of hyperparameters that performed well.\n",
        "If you want to train the model with the entire dataset, you may retrieve the best hyperparameters and retrain the model by yourself."
      ],
      "metadata": {
        "id": "nY3xnVAEXoOh"
      }
    },
    {
      "cell_type": "code",
      "source": [
        "# Get the top hyperparameters.\n",
        "best_hps = tuner.get_best_hyperparameters(num_trials=1)"
      ],
      "metadata": {
        "id": "vHwtfeqZimEv"
      },
      "execution_count": 19,
      "outputs": []
    },
    {
      "cell_type": "code",
      "source": [
        "best_hps"
      ],
      "metadata": {
        "colab": {
          "base_uri": "https://localhost:8080/"
        },
        "id": "6-1njMTzXxZe",
        "outputId": "3762c323-1c18-4d63-b95a-e418ac5cd3d1"
      },
      "execution_count": 20,
      "outputs": [
        {
          "output_type": "execute_result",
          "data": {
            "text/plain": [
              "[<keras_tuner.src.engine.hyperparameters.hyperparameters.HyperParameters at 0x7dc269336ef0>]"
            ]
          },
          "metadata": {},
          "execution_count": 20
        }
      ]
    },
    {
      "cell_type": "code",
      "source": [
        "# Build the model with the best hp.\n",
        "model = build_model(best_hps[0])"
      ],
      "metadata": {
        "id": "NENhnlbjkxdY"
      },
      "execution_count": 21,
      "outputs": []
    },
    {
      "cell_type": "code",
      "source": [
        "# now train!\n",
        "history = model.fit(\n",
        "    x=input_train_scaled.reshape(1,-1).squeeze(),\n",
        "    y=label_train_scaled.reshape(1,-1).squeeze(),\n",
        "    epochs=20,\n",
        "    validation_split=0.1,\n",
        "    batch_size=16\n",
        "    )"
      ],
      "metadata": {
        "colab": {
          "base_uri": "https://localhost:8080/"
        },
        "id": "WY-BGK8pX1mj",
        "outputId": "e5abda6e-3831-47a4-b63b-09c1a4ce9e33"
      },
      "execution_count": 22,
      "outputs": [
        {
          "output_type": "stream",
          "name": "stdout",
          "text": [
            "Epoch 1/20\n",
            "329/329 [==============================] - 1s 3ms/step - loss: 0.1873 - val_loss: 0.1862\n",
            "Epoch 2/20\n",
            "329/329 [==============================] - 1s 3ms/step - loss: 0.1671 - val_loss: 0.1837\n",
            "Epoch 3/20\n",
            "329/329 [==============================] - 1s 3ms/step - loss: 0.1651 - val_loss: 0.1819\n",
            "Epoch 4/20\n",
            "329/329 [==============================] - 1s 4ms/step - loss: 0.1634 - val_loss: 0.1803\n",
            "Epoch 5/20\n",
            "329/329 [==============================] - 1s 3ms/step - loss: 0.1620 - val_loss: 0.1788\n",
            "Epoch 6/20\n",
            "329/329 [==============================] - 1s 4ms/step - loss: 0.1609 - val_loss: 0.1778\n",
            "Epoch 7/20\n",
            "329/329 [==============================] - 1s 3ms/step - loss: 0.1599 - val_loss: 0.1770\n",
            "Epoch 8/20\n",
            "329/329 [==============================] - 1s 3ms/step - loss: 0.1592 - val_loss: 0.1763\n",
            "Epoch 9/20\n",
            "329/329 [==============================] - 2s 5ms/step - loss: 0.1587 - val_loss: 0.1758\n",
            "Epoch 10/20\n",
            "329/329 [==============================] - 2s 5ms/step - loss: 0.1583 - val_loss: 0.1755\n",
            "Epoch 11/20\n",
            "329/329 [==============================] - 1s 3ms/step - loss: 0.1580 - val_loss: 0.1752\n",
            "Epoch 12/20\n",
            "329/329 [==============================] - 2s 7ms/step - loss: 0.1578 - val_loss: 0.1750\n",
            "Epoch 13/20\n",
            "329/329 [==============================] - 2s 6ms/step - loss: 0.1577 - val_loss: 0.1748\n",
            "Epoch 14/20\n",
            "329/329 [==============================] - 1s 3ms/step - loss: 0.1576 - val_loss: 0.1748\n",
            "Epoch 15/20\n",
            "329/329 [==============================] - 1s 3ms/step - loss: 0.1576 - val_loss: 0.1747\n",
            "Epoch 16/20\n",
            "329/329 [==============================] - 1s 4ms/step - loss: 0.1575 - val_loss: 0.1747\n",
            "Epoch 17/20\n",
            "329/329 [==============================] - 1s 4ms/step - loss: 0.1575 - val_loss: 0.1746\n",
            "Epoch 18/20\n",
            "329/329 [==============================] - 1s 3ms/step - loss: 0.1575 - val_loss: 0.1746\n",
            "Epoch 19/20\n",
            "329/329 [==============================] - 1s 4ms/step - loss: 0.1575 - val_loss: 0.1746\n",
            "Epoch 20/20\n",
            "329/329 [==============================] - 2s 6ms/step - loss: 0.1575 - val_loss: 0.1746\n"
          ]
        }
      ]
    },
    {
      "cell_type": "code",
      "source": [
        "plt.plot(range(0,20), history.history['loss'], c='k')\n",
        "plt.plot(range(0,20), history.history['val_loss'], c='r')\n",
        "plt.show()"
      ],
      "metadata": {
        "colab": {
          "base_uri": "https://localhost:8080/",
          "height": 430
        },
        "id": "d2aE2Es0X60M",
        "outputId": "3ac965bd-da8f-4098-b982-eb8c08a02415"
      },
      "execution_count": 23,
      "outputs": [
        {
          "output_type": "display_data",
          "data": {
            "text/plain": [
              "<Figure size 640x480 with 1 Axes>"
            ],
            "image/png": "[encoded data removed]"
          },
          "metadata": {}
        }
      ]
    },
    {
      "cell_type": "markdown",
      "source": [
        "Seems like our results can vary depending on the validation set we \"hold out.\" Ensuring that our ANN is robust to subsets of our data distribution necessitates k-fold cross-validation. Read here for how to use sklearn cross validation utilities with keras models: https://github.com/christianversloot/machine-learning-articles/blob/main/how-to-use-k-fold-cross-validation-with-keras.md"
      ],
      "metadata": {
        "id": "nqURctigavi2"
      }
    },
    {
      "cell_type": "code",
      "source": [],
      "metadata": {
        "id": "4BJ3kK4Ka_WK"
      },
      "execution_count": null,
      "outputs": []
    }
  ]
}