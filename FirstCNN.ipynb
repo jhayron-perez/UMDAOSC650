{
  "nbformat": 4,
  "nbformat_minor": 0,
  "metadata": {
    "colab": {
      "provenance": [],
      "authorship_tag": "ABX9TyN7BstjHGObCWlBzklXPpS6",
      "include_colab_link": true
    },
    "kernelspec": {
      "name": "python3",
      "display_name": "Python 3"
    },
    "language_info": {
      "name": "python"
    }
  },
  "cells": [
    {
      "cell_type": "markdown",
      "metadata": {
        "id": "view-in-github",
        "colab_type": "text"
      },
      "source": [
        "<a href=\"https://colab.research.google.com/github/mariajmolina/UMDAOSC650/blob/main/FirstCNN.ipynb\" target=\"_parent\"><img src=\"https://colab.research.google.com/assets/colab-badge.svg\" alt=\"Open In Colab\"/></a>"
      ]
    },
    {
      "cell_type": "markdown",
      "source": [
        "# Our first CNN!"
      ],
      "metadata": {
        "id": "pwgWAFL8GZWw"
      }
    },
    {
      "cell_type": "markdown",
      "source": [
        "Here we have some helper functions for normalizing and standardizing our data using numpy."
      ],
      "metadata": {
        "id": "WmqM9d_sEJHu"
      }
    },
    {
      "cell_type": "code",
      "source": [
        "import numpy as np\n",
        "\n",
        "def z_score(da):\n",
        "    \"\"\"\n",
        "    Compute z-score for training data.\n",
        "    Normalizing data for ML model training.\n",
        "    Args:\n",
        "        da (array): Array of training variable.\n",
        "    \"\"\"\n",
        "    return (da - np.mean(da)) / np.std(da)\n",
        "\n",
        "def min_max_scale(da):\n",
        "    \"\"\"\n",
        "    Scale training data by minimum and maximum values.\n",
        "    Args:\n",
        "        da (array): Array of training variable.\n",
        "    \"\"\"\n",
        "    return (da - np.min(da)) / (np.max(da) - np.min(da))"
      ],
      "metadata": {
        "id": "uA1hA1WUC-R-"
      },
      "execution_count": null,
      "outputs": []
    },
    {
      "cell_type": "markdown",
      "source": [
        "## **Supervised Learning Regression Example**"
      ],
      "metadata": {
        "id": "JBirR3cdICH8"
      }
    },
    {
      "cell_type": "markdown",
      "source": [
        "Now, we will proceed with training a neural network in a supervised learning regression application."
      ],
      "metadata": {
        "id": "rT22AWjwIIeX"
      }
    },
    {
      "cell_type": "markdown",
      "source": [
        "We will use a dataset from Molina et al. (2021) consisting of thunderstorms generated using a 4-km horizontal resolution WRF simulation. We are using a small portion of the dataset, specifically thunderstorms simulated for April 27, 2011 over the continental United States."
      ],
      "metadata": {
        "id": "Z6MIe4xpeOQq"
      }
    },
    {
      "cell_type": "code",
      "source": [
        "!wget https://zenodo.org/records/10576726/files/current_SP3hourly_20110427.nc"
      ],
      "metadata": {
        "colab": {
          "base_uri": "https://localhost:8080/"
        },
        "id": "YIDtIzo3IJFS",
        "outputId": "bf27811d-97d3-443e-dc67-e12b98e925ce"
      },
      "execution_count": null,
      "outputs": [
        {
          "output_type": "stream",
          "name": "stdout",
          "text": [
            "--2024-02-29 17:21:05--  https://zenodo.org/records/10576726/files/current_SP3hourly_20110427.nc\n",
            "Resolving zenodo.org (zenodo.org)... 188.184.103.159, 188.185.79.172, 188.184.98.238, ...\n",
            "Connecting to zenodo.org (zenodo.org)|188.184.103.159|:443... connected.\n",
            "HTTP request sent, awaiting response... 200 OK\n",
            "Length: 109400556 (104M) [application/octet-stream]\n",
            "Saving to: ‘current_SP3hourly_20110427.nc’\n",
            "\n",
            "current_SP3hourly_2 100%[===================>] 104.33M  21.7MB/s    in 5.7s    \n",
            "\n",
            "2024-02-29 17:21:12 (18.4 MB/s) - ‘current_SP3hourly_20110427.nc’ saved [109400556/109400556]\n",
            "\n"
          ]
        }
      ]
    },
    {
      "cell_type": "markdown",
      "source": [
        "Let's visualize the dataset. We can use python libraries for this."
      ],
      "metadata": {
        "id": "FTRe0rEpexSJ"
      }
    },
    {
      "cell_type": "code",
      "source": [
        "import matplotlib.pyplot as plt\n",
        "import xarray as xr"
      ],
      "metadata": {
        "id": "V-_wY-Lqewnh"
      },
      "execution_count": null,
      "outputs": []
    },
    {
      "cell_type": "code",
      "source": [
        "ds = xr.open_dataset('current_SP3hourly_20110427.nc')"
      ],
      "metadata": {
        "id": "pY1Bn-N8d7pB"
      },
      "execution_count": null,
      "outputs": []
    },
    {
      "cell_type": "code",
      "source": [
        "ds"
      ],
      "metadata": {
        "colab": {
          "base_uri": "https://localhost:8080/",
          "height": 459
        },
        "id": "YYoMRMW9ewrH",
        "outputId": "97be0784-01c8-4652-acf5-9a482f69ef9f"
      },
      "execution_count": null,
      "outputs": [
        {
          "output_type": "execute_result",
          "data": {
            "text/plain": [
              "<xarray.Dataset>\n",
              "Dimensions:      (starttime: 2224, y: 32, x: 32)\n",
              "Coordinates:\n",
              "  * starttime    (starttime) float64 9.264e+04 9.264e+04 ... 9.266e+04 9.266e+04\n",
              "    endtime      (starttime) float64 ...\n",
              "    x_speed      (starttime) int64 ...\n",
              "    y_speed      (starttime) int64 ...\n",
              "Dimensions without coordinates: y, x\n",
              "Data variables:\n",
              "    uh25_grid    (starttime, y, x) float32 ...\n",
              "    uh03_grid    (starttime, y, x) float32 ...\n",
              "    ctt_grid     (starttime, y, x) float32 ...\n",
              "    dbz_grid     (starttime, y, x) float32 ...\n",
              "    mask         (starttime, y, x) int64 ...\n",
              "    row_indices  (starttime, y, x) int64 ...\n",
              "    col_indices  (starttime, y, x) int64 ...\n",
              "    lats         (starttime, y, x) float32 ...\n",
              "    lons         (starttime, y, x) float32 ..."
            ],
            "text/html": [
              "<div><svg style=\"position: absolute; width: 0; height: 0; overflow: hidden\">\n",
              "<defs>\n",
              "<symbol id=\"icon-database\" viewBox=\"0 0 32 32\">\n",
              "<path d=\"M16 0c-8.837 0-16 2.239-16 5v4c0 2.761 7.163 5 16 5s16-2.239 16-5v-4c0-2.761-7.163-5-16-5z\"></path>\n",
              "<path d=\"M16 17c-8.837 0-16-2.239-16-5v6c0 2.761 7.163 5 16 5s16-2.239 16-5v-6c0 2.761-7.163 5-16 5z\"></path>\n",
              "<path d=\"M16 26c-8.837 0-16-2.239-16-5v6c0 2.761 7.163 5 16 5s16-2.239 16-5v-6c0 2.761-7.163 5-16 5z\"></path>\n",
              "</symbol>\n",
              "<symbol id=\"icon-file-text2\" viewBox=\"0 0 32 32\">\n",
              "<path d=\"M28.681 7.159c-0.694-0.947-1.662-2.053-2.724-3.116s-2.169-2.030-3.116-2.724c-1.612-1.182-2.393-1.319-2.841-1.319h-15.5c-1.378 0-2.5 1.121-2.5 2.5v27c0 1.378 1.122 2.5 2.5 2.5h23c1.378 0 2.5-1.122 2.5-2.5v-19.5c0-0.448-0.137-1.23-1.319-2.841zM24.543 5.457c0.959 0.959 1.712 1.825 2.268 2.543h-4.811v-4.811c0.718 0.556 1.584 1.309 2.543 2.268zM28 29.5c0 0.271-0.229 0.5-0.5 0.5h-23c-0.271 0-0.5-0.229-0.5-0.5v-27c0-0.271 0.229-0.5 0.5-0.5 0 0 15.499-0 15.5 0v7c0 0.552 0.448 1 1 1h7v19.5z\"></path>\n",
              "<path d=\"M23 26h-14c-0.552 0-1-0.448-1-1s0.448-1 1-1h14c0.552 0 1 0.448 1 1s-0.448 1-1 1z\"></path>\n",
              "<path d=\"M23 22h-14c-0.552 0-1-0.448-1-1s0.448-1 1-1h14c0.552 0 1 0.448 1 1s-0.448 1-1 1z\"></path>\n",
              "<path d=\"M23 18h-14c-0.552 0-1-0.448-1-1s0.448-1 1-1h14c0.552 0 1 0.448 1 1s-0.448 1-1 1z\"></path>\n",
              "</symbol>\n",
              "</defs>\n",
              "</svg>\n",
              "<style>/* CSS stylesheet for displaying xarray objects in jupyterlab.\n",
              " *\n",
              " */\n",
              "\n",
              ":root {\n",
              "  --xr-font-color0: var(--jp-content-font-color0, rgba(0, 0, 0, 1));\n",
              "  --xr-font-color2: var(--jp-content-font-color2, rgba(0, 0, 0, 0.54));\n",
              "  --xr-font-color3: var(--jp-content-font-color3, rgba(0, 0, 0, 0.38));\n",
              "  --xr-border-color: var(--jp-border-color2, #e0e0e0);\n",
              "  --xr-disabled-color: var(--jp-layout-color3, #bdbdbd);\n",
              "  --xr-background-color: var(--jp-layout-color0, white);\n",
              "  --xr-background-color-row-even: var(--jp-layout-color1, white);\n",
              "  --xr-background-color-row-odd: var(--jp-layout-color2, #eeeeee);\n",
              "}\n",
              "\n",
              "html[theme=dark],\n",
              "body[data-theme=dark],\n",
              "body.vscode-dark {\n",
              "  --xr-font-color0: rgba(255, 255, 255, 1);\n",
              "  --xr-font-color2: rgba(255, 255, 255, 0.54);\n",
              "  --xr-font-color3: rgba(255, 255, 255, 0.38);\n",
              "  --xr-border-color: #1F1F1F;\n",
              "  --xr-disabled-color: #515151;\n",
              "  --xr-background-color: #111111;\n",
              "  --xr-background-color-row-even: #111111;\n",
              "  --xr-background-color-row-odd: #313131;\n",
              "}\n",
              "\n",
              ".xr-wrap {\n",
              "  display: block !important;\n",
              "  min-width: 300px;\n",
              "  max-width: 700px;\n",
              "}\n",
              "\n",
              ".xr-text-repr-fallback {\n",
              "  /* fallback to plain text repr when CSS is not injected (untrusted notebook) */\n",
              "  display: none;\n",
              "}\n",
              "\n",
              ".xr-header {\n",
              "  padding-top: 6px;\n",
              "  padding-bottom: 6px;\n",
              "  margin-bottom: 4px;\n",
              "  border-bottom: solid 1px var(--xr-border-color);\n",
              "}\n",
              "\n",
              ".xr-header > div,\n",
              ".xr-header > ul {\n",
              "  display: inline;\n",
              "  margin-top: 0;\n",
              "  margin-bottom: 0;\n",
              "}\n",
              "\n",
              ".xr-obj-type,\n",
              ".xr-array-name {\n",
              "  margin-left: 2px;\n",
              "  margin-right: 10px;\n",
              "}\n",
              "\n",
              ".xr-obj-type {\n",
              "  color: var(--xr-font-color2);\n",
              "}\n",
              "\n",
              ".xr-sections {\n",
              "  padding-left: 0 !important;\n",
              "  display: grid;\n",
              "  grid-template-columns: 150px auto auto 1fr 20px 20px;\n",
              "}\n",
              "\n",
              ".xr-section-item {\n",
              "  display: contents;\n",
              "}\n",
              "\n",
              ".xr-section-item input {\n",
              "  display: none;\n",
              "}\n",
              "\n",
              ".xr-section-item input + label {\n",
              "  color: var(--xr-disabled-color);\n",
              "}\n",
              "\n",
              ".xr-section-item input:enabled + label {\n",
              "  cursor: pointer;\n",
              "  color: var(--xr-font-color2);\n",
              "}\n",
              "\n",
              ".xr-section-item input:enabled + label:hover {\n",
              "  color: var(--xr-font-color0);\n",
              "}\n",
              "\n",
              ".xr-section-summary {\n",
              "  grid-column: 1;\n",
              "  color: var(--xr-font-color2);\n",
              "  font-weight: 500;\n",
              "}\n",
              "\n",
              ".xr-section-summary > span {\n",
              "  display: inline-block;\n",
              "  padding-left: 0.5em;\n",
              "}\n",
              "\n",
              ".xr-section-summary-in:disabled + label {\n",
              "  color: var(--xr-font-color2);\n",
              "}\n",
              "\n",
              ".xr-section-summary-in + label:before {\n",
              "  display: inline-block;\n",
              "  content: '►';\n",
              "  font-size: 11px;\n",
              "  width: 15px;\n",
              "  text-align: center;\n",
              "}\n",
              "\n",
              ".xr-section-summary-in:disabled + label:before {\n",
              "  color: var(--xr-disabled-color);\n",
              "}\n",
              "\n",
              ".xr-section-summary-in:checked + label:before {\n",
              "  content: '▼';\n",
              "}\n",
              "\n",
              ".xr-section-summary-in:checked + label > span {\n",
              "  display: none;\n",
              "}\n",
              "\n",
              ".xr-section-summary,\n",
              ".xr-section-inline-details {\n",
              "  padding-top: 4px;\n",
              "  padding-bottom: 4px;\n",
              "}\n",
              "\n",
              ".xr-section-inline-details {\n",
              "  grid-column: 2 / -1;\n",
              "}\n",
              "\n",
              ".xr-section-details {\n",
              "  display: none;\n",
              "  grid-column: 1 / -1;\n",
              "  margin-bottom: 5px;\n",
              "}\n",
              "\n",
              ".xr-section-summary-in:checked ~ .xr-section-details {\n",
              "  display: contents;\n",
              "}\n",
              "\n",
              ".xr-array-wrap {\n",
              "  grid-column: 1 / -1;\n",
              "  display: grid;\n",
              "  grid-template-columns: 20px auto;\n",
              "}\n",
              "\n",
              ".xr-array-wrap > label {\n",
              "  grid-column: 1;\n",
              "  vertical-align: top;\n",
              "}\n",
              "\n",
              ".xr-preview {\n",
              "  color: var(--xr-font-color3);\n",
              "}\n",
              "\n",
              ".xr-array-preview,\n",
              ".xr-array-data {\n",
              "  padding: 0 5px !important;\n",
              "  grid-column: 2;\n",
              "}\n",
              "\n",
              ".xr-array-data,\n",
              ".xr-array-in:checked ~ .xr-array-preview {\n",
              "  display: none;\n",
              "}\n",
              "\n",
              ".xr-array-in:checked ~ .xr-array-data,\n",
              ".xr-array-preview {\n",
              "  display: inline-block;\n",
              "}\n",
              "\n",
              ".xr-dim-list {\n",
              "  display: inline-block !important;\n",
              "  list-style: none;\n",
              "  padding: 0 !important;\n",
              "  margin: 0;\n",
              "}\n",
              "\n",
              ".xr-dim-list li {\n",
              "  display: inline-block;\n",
              "  padding: 0;\n",
              "  margin: 0;\n",
              "}\n",
              "\n",
              ".xr-dim-list:before {\n",
              "  content: '(';\n",
              "}\n",
              "\n",
              ".xr-dim-list:after {\n",
              "  content: ')';\n",
              "}\n",
              "\n",
              ".xr-dim-list li:not(:last-child):after {\n",
              "  content: ',';\n",
              "  padding-right: 5px;\n",
              "}\n",
              "\n",
              ".xr-has-index {\n",
              "  font-weight: bold;\n",
              "}\n",
              "\n",
              ".xr-var-list,\n",
              ".xr-var-item {\n",
              "  display: contents;\n",
              "}\n",
              "\n",
              ".xr-var-item > div,\n",
              ".xr-var-item label,\n",
              ".xr-var-item > .xr-var-name span {\n",
              "  background-color: var(--xr-background-color-row-even);\n",
              "  margin-bottom: 0;\n",
              "}\n",
              "\n",
              ".xr-var-item > .xr-var-name:hover span {\n",
              "  padding-right: 5px;\n",
              "}\n",
              "\n",
              ".xr-var-list > li:nth-child(odd) > div,\n",
              ".xr-var-list > li:nth-child(odd) > label,\n",
              ".xr-var-list > li:nth-child(odd) > .xr-var-name span {\n",
              "  background-color: var(--xr-background-color-row-odd);\n",
              "}\n",
              "\n",
              ".xr-var-name {\n",
              "  grid-column: 1;\n",
              "}\n",
              "\n",
              ".xr-var-dims {\n",
              "  grid-column: 2;\n",
              "}\n",
              "\n",
              ".xr-var-dtype {\n",
              "  grid-column: 3;\n",
              "  text-align: right;\n",
              "  color: var(--xr-font-color2);\n",
              "}\n",
              "\n",
              ".xr-var-preview {\n",
              "  grid-column: 4;\n",
              "}\n",
              "\n",
              ".xr-index-preview {\n",
              "  grid-column: 2 / 5;\n",
              "  color: var(--xr-font-color2);\n",
              "}\n",
              "\n",
              ".xr-var-name,\n",
              ".xr-var-dims,\n",
              ".xr-var-dtype,\n",
              ".xr-preview,\n",
              ".xr-attrs dt {\n",
              "  white-space: nowrap;\n",
              "  overflow: hidden;\n",
              "  text-overflow: ellipsis;\n",
              "  padding-right: 10px;\n",
              "}\n",
              "\n",
              ".xr-var-name:hover,\n",
              ".xr-var-dims:hover,\n",
              ".xr-var-dtype:hover,\n",
              ".xr-attrs dt:hover {\n",
              "  overflow: visible;\n",
              "  width: auto;\n",
              "  z-index: 1;\n",
              "}\n",
              "\n",
              ".xr-var-attrs,\n",
              ".xr-var-data,\n",
              ".xr-index-data {\n",
              "  display: none;\n",
              "  background-color: var(--xr-background-color) !important;\n",
              "  padding-bottom: 5px !important;\n",
              "}\n",
              "\n",
              ".xr-var-attrs-in:checked ~ .xr-var-attrs,\n",
              ".xr-var-data-in:checked ~ .xr-var-data,\n",
              ".xr-index-data-in:checked ~ .xr-index-data {\n",
              "  display: block;\n",
              "}\n",
              "\n",
              ".xr-var-data > table {\n",
              "  float: right;\n",
              "}\n",
              "\n",
              ".xr-var-name span,\n",
              ".xr-var-data,\n",
              ".xr-index-name div,\n",
              ".xr-index-data,\n",
              ".xr-attrs {\n",
              "  padding-left: 25px !important;\n",
              "}\n",
              "\n",
              ".xr-attrs,\n",
              ".xr-var-attrs,\n",
              ".xr-var-data,\n",
              ".xr-index-data {\n",
              "  grid-column: 1 / -1;\n",
              "}\n",
              "\n",
              "dl.xr-attrs {\n",
              "  padding: 0;\n",
              "  margin: 0;\n",
              "  display: grid;\n",
              "  grid-template-columns: 125px auto;\n",
              "}\n",
              "\n",
              ".xr-attrs dt,\n",
              ".xr-attrs dd {\n",
              "  padding: 0;\n",
              "  margin: 0;\n",
              "  float: left;\n",
              "  padding-right: 10px;\n",
              "  width: auto;\n",
              "}\n",
              "\n",
              ".xr-attrs dt {\n",
              "  font-weight: normal;\n",
              "  grid-column: 1;\n",
              "}\n",
              "\n",
              ".xr-attrs dt:hover span {\n",
              "  display: inline-block;\n",
              "  background: var(--xr-background-color);\n",
              "  padding-right: 10px;\n",
              "}\n",
              "\n",
              ".xr-attrs dd {\n",
              "  grid-column: 2;\n",
              "  white-space: pre-wrap;\n",
              "  word-break: break-all;\n",
              "}\n",
              "\n",
              ".xr-icon-database,\n",
              ".xr-icon-file-text2,\n",
              ".xr-no-icon {\n",
              "  display: inline-block;\n",
              "  vertical-align: middle;\n",
              "  width: 1em;\n",
              "  height: 1.5em !important;\n",
              "  stroke-width: 0;\n",
              "  stroke: currentColor;\n",
              "  fill: currentColor;\n",
              "}\n",
              "</style><pre class='xr-text-repr-fallback'>&lt;xarray.Dataset&gt;\n",
              "Dimensions:      (starttime: 2224, y: 32, x: 32)\n",
              "Coordinates:\n",
              "  * starttime    (starttime) float64 9.264e+04 9.264e+04 ... 9.266e+04 9.266e+04\n",
              "    endtime      (starttime) float64 ...\n",
              "    x_speed      (starttime) int64 ...\n",
              "    y_speed      (starttime) int64 ...\n",
              "Dimensions without coordinates: y, x\n",
              "Data variables:\n",
              "    uh25_grid    (starttime, y, x) float32 ...\n",
              "    uh03_grid    (starttime, y, x) float32 ...\n",
              "    ctt_grid     (starttime, y, x) float32 ...\n",
              "    dbz_grid     (starttime, y, x) float32 ...\n",
              "    mask         (starttime, y, x) int64 ...\n",
              "    row_indices  (starttime, y, x) int64 ...\n",
              "    col_indices  (starttime, y, x) int64 ...\n",
              "    lats         (starttime, y, x) float32 ...\n",
              "    lons         (starttime, y, x) float32 ...</pre><div class='xr-wrap' style='display:none'><div class='xr-header'><div class='xr-obj-type'>xarray.Dataset</div></div><ul class='xr-sections'><li class='xr-section-item'><input id='section-2d36412a-ff59-4bce-91eb-8f73d092a5dc' class='xr-section-summary-in' type='checkbox' disabled ><label for='section-2d36412a-ff59-4bce-91eb-8f73d092a5dc' class='xr-section-summary'  title='Expand/collapse section'>Dimensions:</label><div class='xr-section-inline-details'><ul class='xr-dim-list'><li><span class='xr-has-index'>starttime</span>: 2224</li><li><span>y</span>: 32</li><li><span>x</span>: 32</li></ul></div><div class='xr-section-details'></div></li><li class='xr-section-item'><input id='section-ff6aa02e-57c2-4d59-8e6f-c3c69263e265' class='xr-section-summary-in' type='checkbox'  checked><label for='section-ff6aa02e-57c2-4d59-8e6f-c3c69263e265' class='xr-section-summary' >Coordinates: <span>(4)</span></label><div class='xr-section-inline-details'></div><div class='xr-section-details'><ul class='xr-var-list'><li class='xr-var-item'><div class='xr-var-name'><span class='xr-has-index'>starttime</span></div><div class='xr-var-dims'>(starttime)</div><div class='xr-var-dtype'>float64</div><div class='xr-var-preview xr-preview'>9.264e+04 9.264e+04 ... 9.266e+04</div><input id='attrs-44722e6d-6aca-4916-9ef4-3c2085846ae4' class='xr-var-attrs-in' type='checkbox' disabled><label for='attrs-44722e6d-6aca-4916-9ef4-3c2085846ae4' title='Show/Hide attributes'><svg class='icon xr-icon-file-text2'><use xlink:href='#icon-file-text2'></use></svg></label><input id='data-7e4196bd-9d46-4e6b-b616-ecead924aac6' class='xr-var-data-in' type='checkbox'><label for='data-7e4196bd-9d46-4e6b-b616-ecead924aac6' title='Show/Hide data repr'><svg class='icon xr-icon-database'><use xlink:href='#icon-database'></use></svg></label><div class='xr-var-attrs'><dl class='xr-attrs'></dl></div><div class='xr-var-data'><pre>array([92640., 92640., 92640., ..., 92661., 92661., 92661.])</pre></div></li><li class='xr-var-item'><div class='xr-var-name'><span>endtime</span></div><div class='xr-var-dims'>(starttime)</div><div class='xr-var-dtype'>float64</div><div class='xr-var-preview xr-preview'>...</div><input id='attrs-b7e7aa89-8955-4ab5-a22f-5447adc63a0a' class='xr-var-attrs-in' type='checkbox' disabled><label for='attrs-b7e7aa89-8955-4ab5-a22f-5447adc63a0a' title='Show/Hide attributes'><svg class='icon xr-icon-file-text2'><use xlink:href='#icon-file-text2'></use></svg></label><input id='data-bfd52939-da62-48c4-9d5a-6520a8153bb6' class='xr-var-data-in' type='checkbox'><label for='data-bfd52939-da62-48c4-9d5a-6520a8153bb6' title='Show/Hide data repr'><svg class='icon xr-icon-database'><use xlink:href='#icon-database'></use></svg></label><div class='xr-var-attrs'><dl class='xr-attrs'></dl></div><div class='xr-var-data'><pre>[2224 values with dtype=float64]</pre></div></li><li class='xr-var-item'><div class='xr-var-name'><span>x_speed</span></div><div class='xr-var-dims'>(starttime)</div><div class='xr-var-dtype'>int64</div><div class='xr-var-preview xr-preview'>...</div><input id='attrs-73b18da9-d197-4d5e-98fd-53b39a73ac00' class='xr-var-attrs-in' type='checkbox' disabled><label for='attrs-73b18da9-d197-4d5e-98fd-53b39a73ac00' title='Show/Hide attributes'><svg class='icon xr-icon-file-text2'><use xlink:href='#icon-file-text2'></use></svg></label><input id='data-9eb0b26f-d1c5-418b-af59-9679dbaacf9d' class='xr-var-data-in' type='checkbox'><label for='data-9eb0b26f-d1c5-418b-af59-9679dbaacf9d' title='Show/Hide data repr'><svg class='icon xr-icon-database'><use xlink:href='#icon-database'></use></svg></label><div class='xr-var-attrs'><dl class='xr-attrs'></dl></div><div class='xr-var-data'><pre>[2224 values with dtype=int64]</pre></div></li><li class='xr-var-item'><div class='xr-var-name'><span>y_speed</span></div><div class='xr-var-dims'>(starttime)</div><div class='xr-var-dtype'>int64</div><div class='xr-var-preview xr-preview'>...</div><input id='attrs-64f5017b-8af2-4ba0-a40f-adcec886d962' class='xr-var-attrs-in' type='checkbox' disabled><label for='attrs-64f5017b-8af2-4ba0-a40f-adcec886d962' title='Show/Hide attributes'><svg class='icon xr-icon-file-text2'><use xlink:href='#icon-file-text2'></use></svg></label><input id='data-2e55c5ab-2750-4fbc-ad73-8ee24b948aa8' class='xr-var-data-in' type='checkbox'><label for='data-2e55c5ab-2750-4fbc-ad73-8ee24b948aa8' title='Show/Hide data repr'><svg class='icon xr-icon-database'><use xlink:href='#icon-database'></use></svg></label><div class='xr-var-attrs'><dl class='xr-attrs'></dl></div><div class='xr-var-data'><pre>[2224 values with dtype=int64]</pre></div></li></ul></div></li><li class='xr-section-item'><input id='section-024e008f-9c8c-485b-ab62-96d4d54f1ec9' class='xr-section-summary-in' type='checkbox'  checked><label for='section-024e008f-9c8c-485b-ab62-96d4d54f1ec9' class='xr-section-summary' >Data variables: <span>(9)</span></label><div class='xr-section-inline-details'></div><div class='xr-section-details'><ul class='xr-var-list'><li class='xr-var-item'><div class='xr-var-name'><span>uh25_grid</span></div><div class='xr-var-dims'>(starttime, y, x)</div><div class='xr-var-dtype'>float32</div><div class='xr-var-preview xr-preview'>...</div><input id='attrs-93e870b0-7fed-40fe-bb3a-e09d17364811' class='xr-var-attrs-in' type='checkbox' disabled><label for='attrs-93e870b0-7fed-40fe-bb3a-e09d17364811' title='Show/Hide attributes'><svg class='icon xr-icon-file-text2'><use xlink:href='#icon-file-text2'></use></svg></label><input id='data-fb7ef0a2-ac60-4389-bee5-0d3f083b83ec' class='xr-var-data-in' type='checkbox'><label for='data-fb7ef0a2-ac60-4389-bee5-0d3f083b83ec' title='Show/Hide data repr'><svg class='icon xr-icon-database'><use xlink:href='#icon-database'></use></svg></label><div class='xr-var-attrs'><dl class='xr-attrs'></dl></div><div class='xr-var-data'><pre>[2277376 values with dtype=float32]</pre></div></li><li class='xr-var-item'><div class='xr-var-name'><span>uh03_grid</span></div><div class='xr-var-dims'>(starttime, y, x)</div><div class='xr-var-dtype'>float32</div><div class='xr-var-preview xr-preview'>...</div><input id='attrs-af182e4b-2e32-40c6-9f0a-b554052e8e38' class='xr-var-attrs-in' type='checkbox' disabled><label for='attrs-af182e4b-2e32-40c6-9f0a-b554052e8e38' title='Show/Hide attributes'><svg class='icon xr-icon-file-text2'><use xlink:href='#icon-file-text2'></use></svg></label><input id='data-e4f3f21f-4f6c-45c4-8949-3abda5d759ee' class='xr-var-data-in' type='checkbox'><label for='data-e4f3f21f-4f6c-45c4-8949-3abda5d759ee' title='Show/Hide data repr'><svg class='icon xr-icon-database'><use xlink:href='#icon-database'></use></svg></label><div class='xr-var-attrs'><dl class='xr-attrs'></dl></div><div class='xr-var-data'><pre>[2277376 values with dtype=float32]</pre></div></li><li class='xr-var-item'><div class='xr-var-name'><span>ctt_grid</span></div><div class='xr-var-dims'>(starttime, y, x)</div><div class='xr-var-dtype'>float32</div><div class='xr-var-preview xr-preview'>...</div><input id='attrs-0b4c14d9-8280-4ee9-972e-5e9e5a90ab6b' class='xr-var-attrs-in' type='checkbox' disabled><label for='attrs-0b4c14d9-8280-4ee9-972e-5e9e5a90ab6b' title='Show/Hide attributes'><svg class='icon xr-icon-file-text2'><use xlink:href='#icon-file-text2'></use></svg></label><input id='data-315d3f41-a927-4c28-a694-48dca6996c78' class='xr-var-data-in' type='checkbox'><label for='data-315d3f41-a927-4c28-a694-48dca6996c78' title='Show/Hide data repr'><svg class='icon xr-icon-database'><use xlink:href='#icon-database'></use></svg></label><div class='xr-var-attrs'><dl class='xr-attrs'></dl></div><div class='xr-var-data'><pre>[2277376 values with dtype=float32]</pre></div></li><li class='xr-var-item'><div class='xr-var-name'><span>dbz_grid</span></div><div class='xr-var-dims'>(starttime, y, x)</div><div class='xr-var-dtype'>float32</div><div class='xr-var-preview xr-preview'>...</div><input id='attrs-8b00e18b-931e-456e-b6ef-d8f53bea65ae' class='xr-var-attrs-in' type='checkbox' disabled><label for='attrs-8b00e18b-931e-456e-b6ef-d8f53bea65ae' title='Show/Hide attributes'><svg class='icon xr-icon-file-text2'><use xlink:href='#icon-file-text2'></use></svg></label><input id='data-09583916-948a-43f3-abfb-ef18387623ab' class='xr-var-data-in' type='checkbox'><label for='data-09583916-948a-43f3-abfb-ef18387623ab' title='Show/Hide data repr'><svg class='icon xr-icon-database'><use xlink:href='#icon-database'></use></svg></label><div class='xr-var-attrs'><dl class='xr-attrs'></dl></div><div class='xr-var-data'><pre>[2277376 values with dtype=float32]</pre></div></li><li class='xr-var-item'><div class='xr-var-name'><span>mask</span></div><div class='xr-var-dims'>(starttime, y, x)</div><div class='xr-var-dtype'>int64</div><div class='xr-var-preview xr-preview'>...</div><input id='attrs-84aaa5e3-50bb-4d3d-9da8-2b4cbfec3892' class='xr-var-attrs-in' type='checkbox' disabled><label for='attrs-84aaa5e3-50bb-4d3d-9da8-2b4cbfec3892' title='Show/Hide attributes'><svg class='icon xr-icon-file-text2'><use xlink:href='#icon-file-text2'></use></svg></label><input id='data-9e55f18b-412b-4c80-ba2e-92f020627807' class='xr-var-data-in' type='checkbox'><label for='data-9e55f18b-412b-4c80-ba2e-92f020627807' title='Show/Hide data repr'><svg class='icon xr-icon-database'><use xlink:href='#icon-database'></use></svg></label><div class='xr-var-attrs'><dl class='xr-attrs'></dl></div><div class='xr-var-data'><pre>[2277376 values with dtype=int64]</pre></div></li><li class='xr-var-item'><div class='xr-var-name'><span>row_indices</span></div><div class='xr-var-dims'>(starttime, y, x)</div><div class='xr-var-dtype'>int64</div><div class='xr-var-preview xr-preview'>...</div><input id='attrs-c689abb1-7a56-4bd3-8e6d-1949dfef47af' class='xr-var-attrs-in' type='checkbox' disabled><label for='attrs-c689abb1-7a56-4bd3-8e6d-1949dfef47af' title='Show/Hide attributes'><svg class='icon xr-icon-file-text2'><use xlink:href='#icon-file-text2'></use></svg></label><input id='data-5eab4461-7494-4ed0-b956-5c73dbcf02bf' class='xr-var-data-in' type='checkbox'><label for='data-5eab4461-7494-4ed0-b956-5c73dbcf02bf' title='Show/Hide data repr'><svg class='icon xr-icon-database'><use xlink:href='#icon-database'></use></svg></label><div class='xr-var-attrs'><dl class='xr-attrs'></dl></div><div class='xr-var-data'><pre>[2277376 values with dtype=int64]</pre></div></li><li class='xr-var-item'><div class='xr-var-name'><span>col_indices</span></div><div class='xr-var-dims'>(starttime, y, x)</div><div class='xr-var-dtype'>int64</div><div class='xr-var-preview xr-preview'>...</div><input id='attrs-98df2d41-c5bd-4f40-a3c4-acf50e094ecc' class='xr-var-attrs-in' type='checkbox' disabled><label for='attrs-98df2d41-c5bd-4f40-a3c4-acf50e094ecc' title='Show/Hide attributes'><svg class='icon xr-icon-file-text2'><use xlink:href='#icon-file-text2'></use></svg></label><input id='data-06e34d19-10a2-4851-b5b8-f135fdc93ac1' class='xr-var-data-in' type='checkbox'><label for='data-06e34d19-10a2-4851-b5b8-f135fdc93ac1' title='Show/Hide data repr'><svg class='icon xr-icon-database'><use xlink:href='#icon-database'></use></svg></label><div class='xr-var-attrs'><dl class='xr-attrs'></dl></div><div class='xr-var-data'><pre>[2277376 values with dtype=int64]</pre></div></li><li class='xr-var-item'><div class='xr-var-name'><span>lats</span></div><div class='xr-var-dims'>(starttime, y, x)</div><div class='xr-var-dtype'>float32</div><div class='xr-var-preview xr-preview'>...</div><input id='attrs-3a00d801-a25a-4762-a045-bb8e333d94d9' class='xr-var-attrs-in' type='checkbox' disabled><label for='attrs-3a00d801-a25a-4762-a045-bb8e333d94d9' title='Show/Hide attributes'><svg class='icon xr-icon-file-text2'><use xlink:href='#icon-file-text2'></use></svg></label><input id='data-d170abc4-7776-4629-b648-ced292a6832f' class='xr-var-data-in' type='checkbox'><label for='data-d170abc4-7776-4629-b648-ced292a6832f' title='Show/Hide data repr'><svg class='icon xr-icon-database'><use xlink:href='#icon-database'></use></svg></label><div class='xr-var-attrs'><dl class='xr-attrs'></dl></div><div class='xr-var-data'><pre>[2277376 values with dtype=float32]</pre></div></li><li class='xr-var-item'><div class='xr-var-name'><span>lons</span></div><div class='xr-var-dims'>(starttime, y, x)</div><div class='xr-var-dtype'>float32</div><div class='xr-var-preview xr-preview'>...</div><input id='attrs-1fb85da1-5705-4866-8733-a9ca55596397' class='xr-var-attrs-in' type='checkbox' disabled><label for='attrs-1fb85da1-5705-4866-8733-a9ca55596397' title='Show/Hide attributes'><svg class='icon xr-icon-file-text2'><use xlink:href='#icon-file-text2'></use></svg></label><input id='data-9e06a35c-12f5-4631-9158-317b3ac3da51' class='xr-var-data-in' type='checkbox'><label for='data-9e06a35c-12f5-4631-9158-317b3ac3da51' title='Show/Hide data repr'><svg class='icon xr-icon-database'><use xlink:href='#icon-database'></use></svg></label><div class='xr-var-attrs'><dl class='xr-attrs'></dl></div><div class='xr-var-data'><pre>[2277376 values with dtype=float32]</pre></div></li></ul></div></li><li class='xr-section-item'><input id='section-310564f4-46ee-4b4a-992f-0982c7792081' class='xr-section-summary-in' type='checkbox'  ><label for='section-310564f4-46ee-4b4a-992f-0982c7792081' class='xr-section-summary' >Indexes: <span>(1)</span></label><div class='xr-section-inline-details'></div><div class='xr-section-details'><ul class='xr-var-list'><li class='xr-var-item'><div class='xr-index-name'><div>starttime</div></div><div class='xr-index-preview'>PandasIndex</div><div></div><input id='index-7f0c52ed-7303-4f54-8a90-a0a788fa84a0' class='xr-index-data-in' type='checkbox'/><label for='index-7f0c52ed-7303-4f54-8a90-a0a788fa84a0' title='Show/Hide index repr'><svg class='icon xr-icon-database'><use xlink:href='#icon-database'></use></svg></label><div class='xr-index-data'><pre>PandasIndex(Float64Index([92640.0, 92640.0, 92640.0, 92640.0, 92640.0, 92640.0, 92640.0,\n",
              "              92640.0, 92640.0, 92640.0,\n",
              "              ...\n",
              "              92661.0, 92661.0, 92661.0, 92661.0, 92661.0, 92661.0, 92661.0,\n",
              "              92661.0, 92661.0, 92661.0],\n",
              "             dtype=&#x27;float64&#x27;, name=&#x27;starttime&#x27;, length=2224))</pre></div></li></ul></div></li><li class='xr-section-item'><input id='section-099e9b0c-de96-4641-9747-4f0ad87eb6e1' class='xr-section-summary-in' type='checkbox' disabled ><label for='section-099e9b0c-de96-4641-9747-4f0ad87eb6e1' class='xr-section-summary'  title='Expand/collapse section'>Attributes: <span>(0)</span></label><div class='xr-section-inline-details'></div><div class='xr-section-details'><dl class='xr-attrs'></dl></div></li></ul></div></div>"
            ]
          },
          "metadata": {},
          "execution_count": 5
        }
      ]
    },
    {
      "cell_type": "markdown",
      "source": [
        "The dataset contains 2,224 storm samples that were generated using the github reposity [deep-conus](https://github.com/mariajmolina/deep-conus). Each sample is 32x32 grid cells (i.e., pixels) with each grid cell spanning 4-km.\n",
        "\n",
        "Let's visualize some of the variables."
      ],
      "metadata": {
        "id": "yw6ewfZee-lr"
      }
    },
    {
      "cell_type": "code",
      "source": [
        "# simulated radar reflectivity\n",
        "ds['dbz_grid'].isel(starttime=0).plot()"
      ],
      "metadata": {
        "colab": {
          "base_uri": "https://localhost:8080/",
          "height": 489
        },
        "id": "DsoCCgnSfnhJ",
        "outputId": "0f122f5f-92c8-45fe-85e5-b9a0f9e8d05e"
      },
      "execution_count": null,
      "outputs": [
        {
          "output_type": "execute_result",
          "data": {
            "text/plain": [
              "<matplotlib.collections.QuadMesh at 0x78a1ff3a2c50>"
            ]
          },
          "metadata": {},
          "execution_count": 6
        },
        {
          "output_type": "display_data",
          "data": {
            "text/plain": [
              "<Figure size 640x480 with 2 Axes>"
            ],
            "image/png": "[encoded data removed]"
          },
          "metadata": {}
        }
      ]
    },
    {
      "cell_type": "code",
      "source": [
        "# gridded updraft helicity from 2-5 km\n",
        "ds['uh25_grid'].isel(starttime=0).plot()"
      ],
      "metadata": {
        "colab": {
          "base_uri": "https://localhost:8080/",
          "height": 489
        },
        "id": "bFIWAsD0ewu-",
        "outputId": "98a18572-0b24-4427-eea7-8ba3699f7952"
      },
      "execution_count": null,
      "outputs": [
        {
          "output_type": "execute_result",
          "data": {
            "text/plain": [
              "<matplotlib.collections.QuadMesh at 0x78a1fd13e050>"
            ]
          },
          "metadata": {},
          "execution_count": 7
        },
        {
          "output_type": "display_data",
          "data": {
            "text/plain": [
              "<Figure size 640x480 with 2 Axes>"
            ],
            "image/png": "[encoded data removed]"
          },
          "metadata": {}
        }
      ]
    },
    {
      "cell_type": "code",
      "source": [
        "# gridded cloud top temperature\n",
        "ds['ctt_grid'].isel(starttime=0).plot()"
      ],
      "metadata": {
        "colab": {
          "base_uri": "https://localhost:8080/",
          "height": 489
        },
        "id": "dzBY7eYRfncK",
        "outputId": "5279c469-7547-4423-f989-6c9f6b58308c"
      },
      "execution_count": null,
      "outputs": [
        {
          "output_type": "execute_result",
          "data": {
            "text/plain": [
              "<matplotlib.collections.QuadMesh at 0x78a1fd22d390>"
            ]
          },
          "metadata": {},
          "execution_count": 8
        },
        {
          "output_type": "display_data",
          "data": {
            "text/plain": [
              "<Figure size 640x480 with 2 Axes>"
            ],
            "image/png": "[encoded data removed]"
          },
          "metadata": {}
        }
      ]
    },
    {
      "cell_type": "markdown",
      "source": [
        "Now we will preprocess our training and testing data. We need to split our data into a training and testing sets, and standardize."
      ],
      "metadata": {
        "id": "UlzHzBsPhpe1"
      }
    },
    {
      "cell_type": "code",
      "source": [
        "def random_split(data, label, split=0.3, seed=0):\n",
        "    \"\"\"\n",
        "    Help spliting data randomly for training and testing.\n",
        "    \"\"\"\n",
        "    np.random.seed(0)\n",
        "    da_indx = np.random.permutation(data.shape[0])\n",
        "    data  = data[da_indx.astype(int)]\n",
        "    label = label[da_indx.astype(int)]\n",
        "    init_range = int(data.shape[0] * (1 - 0.3))\n",
        "    return data[:init_range], label[:init_range], data[init_range:], label[init_range:]"
      ],
      "metadata": {
        "id": "BYfUl7q0IJBl"
      },
      "execution_count": null,
      "outputs": []
    },
    {
      "cell_type": "code",
      "source": [
        "features = xr.concat([\n",
        "    ds['dbz_grid'].expand_dims(dim='feature', axis=3),\n",
        "    ds['ctt_grid'].expand_dims(dim='feature', axis=3)],\n",
        "          dim='feature')"
      ],
      "metadata": {
        "id": "QmZSDOrvd50f"
      },
      "execution_count": null,
      "outputs": []
    },
    {
      "cell_type": "code",
      "source": [
        "print(features.shape)"
      ],
      "metadata": {
        "colab": {
          "base_uri": "https://localhost:8080/"
        },
        "id": "rt4Sl3cii7SY",
        "outputId": "f84225ec-8392-44b0-eab3-776c7ce74f9d"
      },
      "execution_count": null,
      "outputs": [
        {
          "output_type": "stream",
          "name": "stdout",
          "text": [
            "(2224, 32, 32, 2)\n"
          ]
        }
      ]
    },
    {
      "cell_type": "code",
      "source": [
        "# grab the maximum of the dbz to use as our labels (regression)\n",
        "labels = ds['dbz_grid'].expand_dims(dim='feature', axis=3).max('x').max('y')"
      ],
      "metadata": {
        "id": "HgsBcfJ2ivWE"
      },
      "execution_count": null,
      "outputs": []
    },
    {
      "cell_type": "code",
      "source": [
        "print(labels)"
      ],
      "metadata": {
        "colab": {
          "base_uri": "https://localhost:8080/"
        },
        "id": "kZ57QrQXi3HV",
        "outputId": "1ba0a0cd-1495-412e-acf2-822ec6855097"
      },
      "execution_count": null,
      "outputs": [
        {
          "output_type": "stream",
          "name": "stdout",
          "text": [
            "<xarray.DataArray 'dbz_grid' (starttime: 2224, feature: 1)>\n",
            "array([[65.721054],\n",
            "       [58.54062 ],\n",
            "       [58.54062 ],\n",
            "       ...,\n",
            "       [45.41483 ],\n",
            "       [37.786957],\n",
            "       [42.48563 ]], dtype=float32)\n",
            "Coordinates:\n",
            "  * starttime  (starttime) float64 9.264e+04 9.264e+04 ... 9.266e+04 9.266e+04\n",
            "    endtime    (starttime) float64 ...\n",
            "    x_speed    (starttime) int64 ...\n",
            "    y_speed    (starttime) int64 ...\n",
            "Dimensions without coordinates: feature\n"
          ]
        }
      ]
    },
    {
      "cell_type": "code",
      "source": [
        "train_feats, train_label, test_feats, test_label = random_split(features, labels)"
      ],
      "metadata": {
        "id": "1xt_5E0DjOPD"
      },
      "execution_count": null,
      "outputs": []
    },
    {
      "cell_type": "code",
      "source": [
        "print(train_feats.shape[0], train_label.shape[0], test_feats.shape[0], test_label.shape[0])"
      ],
      "metadata": {
        "colab": {
          "base_uri": "https://localhost:8080/"
        },
        "id": "q5kQ6CXcjOek",
        "outputId": "5e5fae4e-46e3-4f8c-a214-585e20673b6f"
      },
      "execution_count": null,
      "outputs": [
        {
          "output_type": "stream",
          "name": "stdout",
          "text": [
            "1556 1556 668 668\n"
          ]
        }
      ]
    },
    {
      "cell_type": "code",
      "source": [
        "# normalization of our training data (note each feature individually processed!)\n",
        "train_feats_standardized = xr.concat([\n",
        "    z_score(train_feats.isel(feature=0).expand_dims(dim='feature', axis=3)),\n",
        "    z_score(train_feats.isel(feature=1).expand_dims(dim='feature', axis=3))],\n",
        "                                     dim='feature')\n",
        "\n",
        "train_label_standardized = z_score(train_label)"
      ],
      "metadata": {
        "id": "-UM89woPj8Ep"
      },
      "execution_count": null,
      "outputs": []
    },
    {
      "cell_type": "code",
      "source": [
        "train_feats.isel(feature=0,starttime=15).plot()"
      ],
      "metadata": {
        "colab": {
          "base_uri": "https://localhost:8080/",
          "height": 489
        },
        "id": "1HV4mCLnlIMF",
        "outputId": "d17fbe49-eb21-4a20-8ce4-0811f0fa4971"
      },
      "execution_count": null,
      "outputs": [
        {
          "output_type": "execute_result",
          "data": {
            "text/plain": [
              "<matplotlib.collections.QuadMesh at 0x78a1f8f0c8b0>"
            ]
          },
          "metadata": {},
          "execution_count": 17
        },
        {
          "output_type": "display_data",
          "data": {
            "text/plain": [
              "<Figure size 640x480 with 2 Axes>"
            ],
            "image/png": "[encoded data removed]"
          },
          "metadata": {}
        }
      ]
    },
    {
      "cell_type": "code",
      "source": [
        "train_feats_standardized.isel(feature=0,starttime=15).plot()"
      ],
      "metadata": {
        "colab": {
          "base_uri": "https://localhost:8080/",
          "height": 489
        },
        "id": "w2T48h8ykonf",
        "outputId": "62749587-1d43-4002-c4eb-5f0cf56d1bf6"
      },
      "execution_count": null,
      "outputs": [
        {
          "output_type": "execute_result",
          "data": {
            "text/plain": [
              "<matplotlib.collections.QuadMesh at 0x78a1f8df0f70>"
            ]
          },
          "metadata": {},
          "execution_count": 18
        },
        {
          "output_type": "display_data",
          "data": {
            "text/plain": [
              "<Figure size 640x480 with 2 Axes>"
            ],
            "image/png": "[encoded data removed]"
          },
          "metadata": {}
        }
      ]
    },
    {
      "cell_type": "code",
      "source": [
        "train_feats.isel(feature=1,starttime=100).plot()"
      ],
      "metadata": {
        "colab": {
          "base_uri": "https://localhost:8080/",
          "height": 489
        },
        "id": "PJh6t50olRlG",
        "outputId": "33ba319b-9f17-45de-d09b-d03217d46836"
      },
      "execution_count": null,
      "outputs": [
        {
          "output_type": "execute_result",
          "data": {
            "text/plain": [
              "<matplotlib.collections.QuadMesh at 0x78a1f8ecc220>"
            ]
          },
          "metadata": {},
          "execution_count": 19
        },
        {
          "output_type": "display_data",
          "data": {
            "text/plain": [
              "<Figure size 640x480 with 2 Axes>"
            ],
            "image/png": "[encoded data removed]"
          },
          "metadata": {}
        }
      ]
    },
    {
      "cell_type": "code",
      "source": [
        "train_feats_standardized.isel(feature=1,starttime=100).plot()"
      ],
      "metadata": {
        "colab": {
          "base_uri": "https://localhost:8080/",
          "height": 489
        },
        "id": "EO_ugNfykwE2",
        "outputId": "00e2cfbb-6877-4d10-fa29-ba0f626c9574"
      },
      "execution_count": null,
      "outputs": [
        {
          "output_type": "execute_result",
          "data": {
            "text/plain": [
              "<matplotlib.collections.QuadMesh at 0x78a1f8d8b160>"
            ]
          },
          "metadata": {},
          "execution_count": 20
        },
        {
          "output_type": "display_data",
          "data": {
            "text/plain": [
              "<Figure size 640x480 with 2 Axes>"
            ],
            "image/png": "[encoded data removed]"
          },
          "metadata": {}
        }
      ]
    },
    {
      "cell_type": "markdown",
      "source": [
        "Let's proceed to build a simple convolutional neural network that will take images as the input and predict the respective storm's maximum updraft helicity."
      ],
      "metadata": {
        "id": "yS-guBx7gOkQ"
      }
    },
    {
      "cell_type": "code",
      "source": [
        "import keras\n",
        "from keras import layers"
      ],
      "metadata": {
        "id": "KDM-f2a1fnlB"
      },
      "execution_count": null,
      "outputs": []
    },
    {
      "cell_type": "code",
      "source": [
        "# Set the seed using keras.utils.set_random_seed. This will set:\n",
        "# 1) `numpy` seed\n",
        "# 2) backend random seed\n",
        "# 3) `python` random seed\n",
        "keras.utils.set_random_seed(812)"
      ],
      "metadata": {
        "id": "AM2xE0yy6NPY"
      },
      "execution_count": null,
      "outputs": []
    },
    {
      "cell_type": "code",
      "source": [
        "# lets use two input variables (dbz_grid and ctt_grid)\n",
        "number_of_features = 2"
      ],
      "metadata": {
        "id": "94Cj7eVlhByj"
      },
      "execution_count": null,
      "outputs": []
    },
    {
      "cell_type": "code",
      "source": [
        "model = keras.Sequential()\n",
        "\n",
        "# input\n",
        "model.add(keras.Input(shape=(32, 32, number_of_features)))  # 32x32 images\n",
        "\n",
        "# data augmentation layers\n",
        "#model.add(layers.RandomFlip(\"horizontal_and_vertical\"))\n",
        "#model.add(layers.RandomRotation(factor=(-0.5, 0.5)))\n",
        "\n",
        "# hidden layers\n",
        "model.add(layers.Conv2D(32, 3, strides=1, padding=\"same\", activation=\"relu\"))\n",
        "model.add(layers.MaxPooling2D(2))\n",
        "model.add(layers.Dropout(0.2))\n",
        "\n",
        "model.add(layers.Conv2D(64, 3, strides=1, padding=\"same\", activation=\"relu\"))\n",
        "model.add(layers.MaxPooling2D(2))\n",
        "model.add(layers.Dropout(0.2))\n",
        "\n",
        "model.add(layers.Conv2D(128, 3, strides=1, padding=\"same\", activation=\"relu\"))\n",
        "model.add(layers.MaxPooling2D(2))\n",
        "model.add(layers.Dropout(0.2))\n",
        "\n",
        "# Now that we have 4x4 feature maps, now apply global max pooling.\n",
        "model.add(layers.GlobalMaxPooling2D())\n",
        "\n",
        "# Finally, we add last fully connected (dense) layers\n",
        "model.add(layers.Dense(64))\n",
        "model.add(layers.Dense(1, activation=\"linear\"))\n",
        "\n",
        "# print model summary\n",
        "model.summary()"
      ],
      "metadata": {
        "colab": {
          "base_uri": "https://localhost:8080/"
        },
        "id": "aGZqhCVfII4J",
        "outputId": "7cacfe5f-e9eb-4265-f86d-389ba16393b2"
      },
      "execution_count": null,
      "outputs": [
        {
          "output_type": "stream",
          "name": "stdout",
          "text": [
            "Model: \"sequential\"\n",
            "_________________________________________________________________\n",
            " Layer (type)                Output Shape              Param #   \n",
            "=================================================================\n",
            " conv2d (Conv2D)             (None, 32, 32, 32)        608       \n",
            "                                                                 \n",
            " max_pooling2d (MaxPooling2  (None, 16, 16, 32)        0         \n",
            " D)                                                              \n",
            "                                                                 \n",
            " dropout (Dropout)           (None, 16, 16, 32)        0         \n",
            "                                                                 \n",
            " conv2d_1 (Conv2D)           (None, 16, 16, 64)        18496     \n",
            "                                                                 \n",
            " max_pooling2d_1 (MaxPoolin  (None, 8, 8, 64)          0         \n",
            " g2D)                                                            \n",
            "                                                                 \n",
            " dropout_1 (Dropout)         (None, 8, 8, 64)          0         \n",
            "                                                                 \n",
            " conv2d_2 (Conv2D)           (None, 8, 8, 128)         73856     \n",
            "                                                                 \n",
            " max_pooling2d_2 (MaxPoolin  (None, 4, 4, 128)         0         \n",
            " g2D)                                                            \n",
            "                                                                 \n",
            " dropout_2 (Dropout)         (None, 4, 4, 128)         0         \n",
            "                                                                 \n",
            " global_max_pooling2d (Glob  (None, 128)               0         \n",
            " alMaxPooling2D)                                                 \n",
            "                                                                 \n",
            " dense (Dense)               (None, 64)                8256      \n",
            "                                                                 \n",
            " dense_1 (Dense)             (None, 1)                 65        \n",
            "                                                                 \n",
            "=================================================================\n",
            "Total params: 101281 (395.63 KB)\n",
            "Trainable params: 101281 (395.63 KB)\n",
            "Non-trainable params: 0 (0.00 Byte)\n",
            "_________________________________________________________________\n"
          ]
        }
      ]
    },
    {
      "cell_type": "markdown",
      "source": [
        "Proceeding with compiling our model and selecting some metrics to use."
      ],
      "metadata": {
        "id": "AXkjSNM3mD2u"
      }
    },
    {
      "cell_type": "markdown",
      "source": [
        "Some common evaluation metrics used with regression problems are:\n",
        "\n",
        "Mean absolute error (MAE): $\\frac{1}{N} \\sum\\limits_{i = 1}^{N} \\lvert \\hat{y}_i - y_i \\rvert$\n",
        "\n",
        "Mean squared error (MSE): $\\frac{1}{N} \\sum\\limits_{i = 1}^{N} (\\hat{y}_i - y_i)^2$\n",
        "\n",
        "\n",
        "More evalution metrics can be found [here](https://scikit-learn.org/stable/modules/model_evaluation.html)."
      ],
      "metadata": {
        "id": "knrWFwJ5LU2A"
      }
    },
    {
      "cell_type": "code",
      "source": [
        "METRICS = [\n",
        "    keras.metrics.MeanSquaredError(name='mean_squared_error'),\n",
        "    keras.metrics.RootMeanSquaredError(name='root_mean_squared_error'),\n",
        "]"
      ],
      "metadata": {
        "id": "lPb4PhGRlZgN"
      },
      "execution_count": null,
      "outputs": []
    },
    {
      "cell_type": "code",
      "source": [
        "model.compile(\n",
        "    optimizer=keras.optimizers.Adam(learning_rate=0.001),\n",
        "    loss=\"mean_squared_error\",\n",
        "    metrics=METRICS\n",
        ")"
      ],
      "metadata": {
        "id": "o82dwXizjNTa"
      },
      "execution_count": null,
      "outputs": []
    },
    {
      "cell_type": "code",
      "source": [
        "BATCH_SIZE = 32\n",
        "EPOCHS = 10"
      ],
      "metadata": {
        "id": "QEdyoR97MTrv"
      },
      "execution_count": null,
      "outputs": []
    },
    {
      "cell_type": "code",
      "source": [
        "history = model.fit(\n",
        "    x=train_feats_standardized.values,\n",
        "    y=train_label_standardized.values,\n",
        "    batch_size=BATCH_SIZE,\n",
        "    epochs=EPOCHS,\n",
        "    validation_split=0.1,\n",
        "    shuffle=True,\n",
        ")"
      ],
      "metadata": {
        "colab": {
          "base_uri": "https://localhost:8080/"
        },
        "id": "QfhYCYuVmXu7",
        "outputId": "8e851630-aa8b-4f67-adbf-11dfda510d3a"
      },
      "execution_count": null,
      "outputs": [
        {
          "output_type": "stream",
          "name": "stdout",
          "text": [
            "Epoch 1/10\n",
            "44/44 [==============================] - 11s 162ms/step - loss: 0.7521 - mean_squared_error: 0.7521 - root_mean_squared_error: 0.8672 - val_loss: 0.6207 - val_mean_squared_error: 0.6207 - val_root_mean_squared_error: 0.7878\n",
            "Epoch 2/10\n",
            "44/44 [==============================] - 3s 79ms/step - loss: 0.4133 - mean_squared_error: 0.4133 - root_mean_squared_error: 0.6429 - val_loss: 0.4454 - val_mean_squared_error: 0.4454 - val_root_mean_squared_error: 0.6674\n",
            "Epoch 3/10\n",
            "44/44 [==============================] - 4s 81ms/step - loss: 0.3027 - mean_squared_error: 0.3027 - root_mean_squared_error: 0.5502 - val_loss: 0.3515 - val_mean_squared_error: 0.3515 - val_root_mean_squared_error: 0.5929\n",
            "Epoch 4/10\n",
            "44/44 [==============================] - 5s 107ms/step - loss: 0.2466 - mean_squared_error: 0.2466 - root_mean_squared_error: 0.4966 - val_loss: 0.3009 - val_mean_squared_error: 0.3009 - val_root_mean_squared_error: 0.5486\n",
            "Epoch 5/10\n",
            "44/44 [==============================] - 4s 80ms/step - loss: 0.1916 - mean_squared_error: 0.1916 - root_mean_squared_error: 0.4377 - val_loss: 0.2054 - val_mean_squared_error: 0.2054 - val_root_mean_squared_error: 0.4532\n",
            "Epoch 6/10\n",
            "44/44 [==============================] - 4s 80ms/step - loss: 0.1348 - mean_squared_error: 0.1348 - root_mean_squared_error: 0.3672 - val_loss: 0.2482 - val_mean_squared_error: 0.2482 - val_root_mean_squared_error: 0.4982\n",
            "Epoch 7/10\n",
            "44/44 [==============================] - 4s 89ms/step - loss: 0.1415 - mean_squared_error: 0.1415 - root_mean_squared_error: 0.3762 - val_loss: 0.2775 - val_mean_squared_error: 0.2775 - val_root_mean_squared_error: 0.5268\n",
            "Epoch 8/10\n",
            "44/44 [==============================] - 4s 96ms/step - loss: 0.1140 - mean_squared_error: 0.1140 - root_mean_squared_error: 0.3376 - val_loss: 0.2109 - val_mean_squared_error: 0.2109 - val_root_mean_squared_error: 0.4592\n",
            "Epoch 9/10\n",
            "44/44 [==============================] - 3s 80ms/step - loss: 0.1008 - mean_squared_error: 0.1008 - root_mean_squared_error: 0.3175 - val_loss: 0.1528 - val_mean_squared_error: 0.1528 - val_root_mean_squared_error: 0.3909\n",
            "Epoch 10/10\n",
            "44/44 [==============================] - 4s 82ms/step - loss: 0.1179 - mean_squared_error: 0.1179 - root_mean_squared_error: 0.3433 - val_loss: 0.2002 - val_mean_squared_error: 0.2002 - val_root_mean_squared_error: 0.4474\n"
          ]
        }
      ]
    },
    {
      "cell_type": "code",
      "source": [
        "plt.plot(history.history[\"mean_squared_error\"], c='k')\n",
        "plt.plot(history.history[\"val_mean_squared_error\"], c='r')\n",
        "plt.show()"
      ],
      "metadata": {
        "colab": {
          "base_uri": "https://localhost:8080/",
          "height": 430
        },
        "id": "KD2-89DcoW44",
        "outputId": "cd4a9372-0eb2-48d5-a70d-5ca043d7c276"
      },
      "execution_count": null,
      "outputs": [
        {
          "output_type": "display_data",
          "data": {
            "text/plain": [
              "<Figure size 640x480 with 1 Axes>"
            ],
            "image/png": "[encoded data removed]"
          },
          "metadata": {}
        }
      ]
    },
    {
      "cell_type": "markdown",
      "source": [
        "Lets now evaluate the model using the test dataset. We need to standardize the data, but using the mean and standard deviation of the training set."
      ],
      "metadata": {
        "id": "rwxlG2G0xcQ6"
      }
    },
    {
      "cell_type": "code",
      "source": [
        "def z_score_testing(da, testdata):\n",
        "    \"\"\"\n",
        "    Compute z-score for testing data.\n",
        "    Args:\n",
        "        da (array): Array of training variable.\n",
        "    \"\"\"\n",
        "    return (testdata - np.mean(da)) / np.std(da)"
      ],
      "metadata": {
        "id": "7zaFmAIUorvC"
      },
      "execution_count": null,
      "outputs": []
    },
    {
      "cell_type": "code",
      "source": [
        "# normalization of our training data (note each feature individually processed!)\n",
        "test_feats_standardized = xr.concat([\n",
        "    z_score_testing(\n",
        "        train_feats.isel(feature=0).expand_dims(dim='feature', axis=3),\n",
        "        test_feats.isel(feature=0).expand_dims(dim='feature', axis=3)\n",
        "        ),\n",
        "    z_score_testing(\n",
        "        train_feats.isel(feature=1).expand_dims(dim='feature', axis=3),\n",
        "        test_feats.isel(feature=1).expand_dims(dim='feature', axis=3)\n",
        "        )],\n",
        "                                     dim='feature')\n",
        "\n",
        "test_label_standardized = z_score_testing(train_label, test_label)"
      ],
      "metadata": {
        "id": "3jR6rF-lx55_"
      },
      "execution_count": null,
      "outputs": []
    },
    {
      "cell_type": "code",
      "source": [
        "# Evaluate the model on the test data using `evaluate`\n",
        "print(\"Evaluate on test data\")\n",
        "results = model.evaluate(test_feats_standardized.values, test_label_standardized.values, batch_size=128)\n",
        "print(results)"
      ],
      "metadata": {
        "colab": {
          "base_uri": "https://localhost:8080/"
        },
        "id": "ZXfumUFnor4-",
        "outputId": "4614a02d-d537-45ad-eec2-6af3af3bf0b6"
      },
      "execution_count": null,
      "outputs": [
        {
          "output_type": "stream",
          "name": "stdout",
          "text": [
            "Evaluate on test data\n",
            "6/6 [==============================] - 0s 68ms/step - loss: 0.2082 - mean_squared_error: 0.2082 - root_mean_squared_error: 0.4563\n",
            "[0.20816494524478912, 0.20816494524478912, 0.45625096559524536]\n"
          ]
        }
      ]
    },
    {
      "cell_type": "code",
      "source": [
        "# generate predictions using the trained model\n",
        "predictions = model.predict(test_feats_standardized.values)"
      ],
      "metadata": {
        "colab": {
          "base_uri": "https://localhost:8080/"
        },
        "id": "tSHfeMExzVqb",
        "outputId": "919c9865-21f9-497b-fb45-42a39b51e3a1"
      },
      "execution_count": null,
      "outputs": [
        {
          "output_type": "stream",
          "name": "stdout",
          "text": [
            "21/21 [==============================] - 1s 21ms/step\n"
          ]
        }
      ]
    },
    {
      "cell_type": "code",
      "source": [
        "# visualize predictions vs ground truth\n",
        "plt.scatter(predictions, test_label_standardized.values)\n",
        "plt.show()"
      ],
      "metadata": {
        "colab": {
          "base_uri": "https://localhost:8080/",
          "height": 430
        },
        "id": "xzOMgkXozb6V",
        "outputId": "b35291e9-80ce-4a9a-8846-ef0ab937f15b"
      },
      "execution_count": null,
      "outputs": [
        {
          "output_type": "display_data",
          "data": {
            "text/plain": [
              "<Figure size 640x480 with 1 Axes>"
            ],
            "image/png": "[encoded data removed]"
          },
          "metadata": {}
        }
      ]
    },
    {
      "cell_type": "markdown",
      "source": [
        "# Tutorial Practice: How does batch size impact model training?\n",
        "\n",
        "---"
      ],
      "metadata": {
        "id": "6soWOXwjyo8t"
      }
    },
    {
      "cell_type": "code",
      "source": [
        "# recreate the model object"
      ],
      "metadata": {
        "id": "PZlR8mqqy3py"
      },
      "execution_count": null,
      "outputs": []
    },
    {
      "cell_type": "code",
      "source": [
        "# recompile the model"
      ],
      "metadata": {
        "id": "HOB_0mQEzJwz"
      },
      "execution_count": null,
      "outputs": []
    },
    {
      "cell_type": "code",
      "source": [
        "# retrain the model"
      ],
      "metadata": {
        "id": "5oNHXJ4_zJ3I"
      },
      "execution_count": null,
      "outputs": []
    },
    {
      "cell_type": "code",
      "source": [
        "# evaluate the new model's skill"
      ],
      "metadata": {
        "id": "rMHPapkbzJ9m"
      },
      "execution_count": null,
      "outputs": []
    },
    {
      "cell_type": "markdown",
      "source": [
        "Other sample questions for practice:\n",
        "\n",
        "*   How does the learning rate impact model training?\n",
        "*   Does data augmentation help with model skill?\n",
        "*   Does reducing regularization impact overfitting (hint: reduce dropout percentage)?"
      ],
      "metadata": {
        "id": "hsqlwFRY1aXd"
      }
    },
    {
      "cell_type": "code",
      "source": [
        "# more cells for practicing"
      ],
      "metadata": {
        "id": "8rhORSiS4Dz3"
      },
      "execution_count": null,
      "outputs": []
    },
    {
      "cell_type": "markdown",
      "source": [
        "# Supervised Learning Classification Example\n",
        "\n",
        "---"
      ],
      "metadata": {
        "id": "Hd9l4RhAC6gu"
      }
    },
    {
      "cell_type": "markdown",
      "source": [
        "Using our work from the previous section, we will now use the data and reframe our problem to be a classification task. As before, we will use two input features."
      ],
      "metadata": {
        "id": "CFMnVVa5zti6"
      }
    },
    {
      "cell_type": "markdown",
      "source": [
        "However, we will use updraft helicity values (which represent storm updraft rotation) and convert this continuous value into two classes, \"not potentially severe\" and \"potentially severe\". More strongly rotating storms have a greater likelihood of producing severe hazards like tornadoes and large hail. We will use 75 m2/s2 as the delineation mark between the two classes. The two classes will be creating using integer encoding first, with 0 representing non-severe and 1 representing potentially severe, and then converting using one-hot encoding for subsequent training."
      ],
      "metadata": {
        "id": "y5R40_674lUy"
      }
    },
    {
      "cell_type": "code",
      "source": [
        "features = xr.concat([\n",
        "    ds['dbz_grid'].expand_dims(dim='feature', axis=3),\n",
        "    ds['ctt_grid'].expand_dims(dim='feature', axis=3)],\n",
        "          dim='feature')\n",
        "\n",
        "labels = ds['uh25_grid'].expand_dims(dim='feature', axis=3).max('x').max('y')\n",
        "\n",
        "train_feats, train_label, test_feats, test_label = random_split(features, labels)\n",
        "\n",
        "# normalization of our training data (note each feature individually processed!)\n",
        "train_feats_standardized = xr.concat([\n",
        "    z_score(train_feats.isel(feature=0).expand_dims(dim='feature', axis=3)),\n",
        "    z_score(train_feats.isel(feature=1).expand_dims(dim='feature', axis=3))],\n",
        "                                     dim='feature')\n",
        "\n",
        "train_label_ints = xr.where(train_label >= 75, 1, 0)"
      ],
      "metadata": {
        "id": "hj6bAjZ7zt5v"
      },
      "execution_count": null,
      "outputs": []
    },
    {
      "cell_type": "code",
      "source": [
        "print(train_label.values[-2:])\n",
        "print(train_label_ints.values[-2:])"
      ],
      "metadata": {
        "colab": {
          "base_uri": "https://localhost:8080/"
        },
        "id": "dnlyxpuOzuCl",
        "outputId": "6419f7da-9130-47c1-895a-fa5798673af1"
      },
      "execution_count": null,
      "outputs": [
        {
          "output_type": "stream",
          "name": "stdout",
          "text": [
            "[[162.55905  ]\n",
            " [  1.8748366]]\n",
            "[[1]\n",
            " [0]]\n"
          ]
        }
      ]
    },
    {
      "cell_type": "code",
      "source": [
        "# convert labels into classes using one-hot encoding\n",
        "onehot_layer = keras.layers.CategoryEncoding(num_tokens=2, output_mode=\"one_hot\")\n",
        "train_y = onehot_layer(train_label_ints.astype(int))"
      ],
      "metadata": {
        "id": "LzGNl7wUzuKz"
      },
      "execution_count": null,
      "outputs": []
    },
    {
      "cell_type": "code",
      "source": [
        "train_y[-2:]"
      ],
      "metadata": {
        "colab": {
          "base_uri": "https://localhost:8080/"
        },
        "id": "K7axDV9KzuY3",
        "outputId": "c1344e4f-24c3-4697-b37a-8ad12fffba96"
      },
      "execution_count": null,
      "outputs": [
        {
          "output_type": "execute_result",
          "data": {
            "text/plain": [
              "<tf.Tensor: shape=(2, 2), dtype=float32, numpy=\n",
              "array([[0., 1.],\n",
              "       [1., 0.]], dtype=float32)>"
            ]
          },
          "metadata": {},
          "execution_count": 42
        }
      ]
    },
    {
      "cell_type": "code",
      "source": [
        "# out of more than 1000 samples, only 189 are the \"severe\" class\n",
        "print(train_y[:,1].numpy().sum())\n",
        "print(train_y[:,1].numpy().shape)"
      ],
      "metadata": {
        "colab": {
          "base_uri": "https://localhost:8080/"
        },
        "id": "lsRwqJjG7_Ec",
        "outputId": "2f2df4a6-2cb9-49c5-fa35-d16040fd681c"
      },
      "execution_count": null,
      "outputs": [
        {
          "output_type": "stream",
          "name": "stdout",
          "text": [
            "189.0\n",
            "(1556,)\n"
          ]
        }
      ]
    },
    {
      "cell_type": "markdown",
      "source": [
        "Class imbalance is a major issue with a minority class that is a rare event, like severe hazards. To address this limitation, we create class weights that help the machine learning model learn that the minority class is important to get correct."
      ],
      "metadata": {
        "id": "12FrqE9C7_mS"
      }
    },
    {
      "cell_type": "code",
      "source": [
        "# generate class weights due to class imbalance issues\n",
        "# use the second class as the positive one (using 1 index)\n",
        "counts = np.bincount(train_y[:,1].numpy().astype(int))\n",
        "\n",
        "print(\"Number of positive samples in training data: {} ({:.2f}% of total)\".format(\n",
        "    counts[1], 100 * float(counts[1]) / len(train_y)))\n",
        "\n",
        "weight_for_0 = 1.0 / counts[0]\n",
        "weight_for_1 = 1.0 / counts[1]\n",
        "\n",
        "class_weight = {0: weight_for_0, 1: weight_for_1}\n",
        "print(class_weight)"
      ],
      "metadata": {
        "colab": {
          "base_uri": "https://localhost:8080/"
        },
        "id": "asYu-Bio70M6",
        "outputId": "c2857cec-a728-4f21-e3b2-38e17de83d59"
      },
      "execution_count": null,
      "outputs": [
        {
          "output_type": "stream",
          "name": "stdout",
          "text": [
            "Number of positive samples in training data: 189 (12.15% of total)\n",
            "{0: 0.000731528895391368, 1: 0.005291005291005291}\n"
          ]
        }
      ]
    },
    {
      "cell_type": "code",
      "source": [
        "# metrics that are useful for classification, particularly for two classes\n",
        "METRICS = [\n",
        "    keras.metrics.BinaryCrossentropy(name='cross entropy'),  # same as model's loss\n",
        "    keras.metrics.TruePositives(name='tp'),\n",
        "    keras.metrics.FalsePositives(name='fp'),\n",
        "    keras.metrics.TrueNegatives(name='tn'),\n",
        "    keras.metrics.FalseNegatives(name='fn'),\n",
        "    keras.metrics.BinaryAccuracy(name='accuracy'),\n",
        "    keras.metrics.Precision(name='precision'),\n",
        "    keras.metrics.Recall(name='recall'),\n",
        "    keras.metrics.AUC(name='auc'),\n",
        "    keras.metrics.AUC(name='prc', curve='PR'), # precision-recall curve\n",
        "]"
      ],
      "metadata": {
        "id": "xHmN3l2z70QS"
      },
      "execution_count": null,
      "outputs": []
    },
    {
      "cell_type": "code",
      "source": [
        "model = keras.Sequential()\n",
        "\n",
        "# input\n",
        "model.add(keras.Input(shape=(32, 32, number_of_features)))  # 32x32 images\n",
        "\n",
        "# data augmentation layers\n",
        "#model.add(layers.RandomFlip(\"horizontal_and_vertical\"))\n",
        "#model.add(layers.RandomRotation(factor=(-0.5,0.5)))\n",
        "\n",
        "# hidden layers\n",
        "model.add(layers.Conv2D(32, 3, strides=1, padding=\"same\", activation=\"relu\"))\n",
        "model.add(layers.MaxPooling2D(2))\n",
        "model.add(layers.Dropout(0.2))\n",
        "\n",
        "model.add(layers.Conv2D(64, 3, strides=1, padding=\"same\", activation=\"relu\"))\n",
        "model.add(layers.MaxPooling2D(2))\n",
        "model.add(layers.Dropout(0.2))\n",
        "\n",
        "model.add(layers.Conv2D(128, 3, strides=1, padding=\"same\", activation=\"relu\"))\n",
        "model.add(layers.MaxPooling2D(2))\n",
        "model.add(layers.Dropout(0.2))\n",
        "\n",
        "# Now that we have 4x4 feature maps, now apply global max pooling.\n",
        "model.add(layers.GlobalMaxPooling2D())\n",
        "\n",
        "# Finally, we add last fully connected (dense) layers\n",
        "model.add(layers.Dense(64))\n",
        "model.add(layers.Dense(2, activation=\"softmax\"))\n",
        "\n",
        "# print model summary\n",
        "model.summary()"
      ],
      "metadata": {
        "colab": {
          "base_uri": "https://localhost:8080/"
        },
        "id": "BHBpYKnh70WR",
        "outputId": "53175725-91e9-4f03-acaa-f468edbcacee"
      },
      "execution_count": null,
      "outputs": [
        {
          "output_type": "stream",
          "name": "stdout",
          "text": [
            "Model: \"sequential_1\"\n",
            "_________________________________________________________________\n",
            " Layer (type)                Output Shape              Param #   \n",
            "=================================================================\n",
            " conv2d_3 (Conv2D)           (None, 32, 32, 32)        608       \n",
            "                                                                 \n",
            " max_pooling2d_3 (MaxPoolin  (None, 16, 16, 32)        0         \n",
            " g2D)                                                            \n",
            "                                                                 \n",
            " dropout_3 (Dropout)         (None, 16, 16, 32)        0         \n",
            "                                                                 \n",
            " conv2d_4 (Conv2D)           (None, 16, 16, 64)        18496     \n",
            "                                                                 \n",
            " max_pooling2d_4 (MaxPoolin  (None, 8, 8, 64)          0         \n",
            " g2D)                                                            \n",
            "                                                                 \n",
            " dropout_4 (Dropout)         (None, 8, 8, 64)          0         \n",
            "                                                                 \n",
            " conv2d_5 (Conv2D)           (None, 8, 8, 128)         73856     \n",
            "                                                                 \n",
            " max_pooling2d_5 (MaxPoolin  (None, 4, 4, 128)         0         \n",
            " g2D)                                                            \n",
            "                                                                 \n",
            " dropout_5 (Dropout)         (None, 4, 4, 128)         0         \n",
            "                                                                 \n",
            " global_max_pooling2d_1 (Gl  (None, 128)               0         \n",
            " obalMaxPooling2D)                                               \n",
            "                                                                 \n",
            " dense_2 (Dense)             (None, 64)                8256      \n",
            "                                                                 \n",
            " dense_3 (Dense)             (None, 2)                 130       \n",
            "                                                                 \n",
            "=================================================================\n",
            "Total params: 101346 (395.88 KB)\n",
            "Trainable params: 101346 (395.88 KB)\n",
            "Non-trainable params: 0 (0.00 Byte)\n",
            "_________________________________________________________________\n"
          ]
        }
      ]
    },
    {
      "cell_type": "code",
      "source": [
        "model.compile(\n",
        "    optimizer=keras.optimizers.Adam(learning_rate=0.001),\n",
        "    loss=keras.losses.BinaryCrossentropy(), # categorical loss function\n",
        "    metrics=METRICS\n",
        ")"
      ],
      "metadata": {
        "id": "xS8iZ6Ro70bD"
      },
      "execution_count": null,
      "outputs": []
    },
    {
      "cell_type": "code",
      "source": [
        "BATCH_SIZE = 32\n",
        "EPOCHS = 10"
      ],
      "metadata": {
        "id": "m0jmE_7k823F"
      },
      "execution_count": null,
      "outputs": []
    },
    {
      "cell_type": "code",
      "source": [
        "print(\"Fit model on training data\")\n",
        "history = model.fit(\n",
        "    x=train_feats_standardized.values,\n",
        "    y=train_y,\n",
        "    batch_size=BATCH_SIZE,\n",
        "    epochs=EPOCHS,\n",
        "    validation_split=0.1,\n",
        "    shuffle=True,\n",
        "    class_weight=class_weight,\n",
        ")"
      ],
      "metadata": {
        "colab": {
          "base_uri": "https://localhost:8080/"
        },
        "id": "o3wCne8Q826e",
        "outputId": "1fc23ce2-824e-4764-e222-fc4cd4422722"
      },
      "execution_count": null,
      "outputs": [
        {
          "output_type": "stream",
          "name": "stdout",
          "text": [
            "Fit model on training data\n",
            "Epoch 1/10\n",
            "44/44 [==============================] - 8s 127ms/step - loss: 7.3008e-04 - cross entropy: 0.6251 - tp: 778.0000 - fp: 622.0000 - tn: 778.0000 - fn: 622.0000 - accuracy: 0.5557 - precision: 0.5557 - recall: 0.5557 - auc: 0.6789 - prc: 0.7216 - val_loss: 0.5818 - val_cross entropy: 0.5818 - val_tp: 83.0000 - val_fp: 73.0000 - val_tn: 83.0000 - val_fn: 73.0000 - val_accuracy: 0.5321 - val_precision: 0.5321 - val_recall: 0.5321 - val_auc: 0.7129 - val_prc: 0.7584\n",
            "Epoch 2/10\n",
            "44/44 [==============================] - 4s 99ms/step - loss: 5.8429e-04 - cross entropy: 0.5035 - tp: 947.0000 - fp: 453.0000 - tn: 947.0000 - fn: 453.0000 - accuracy: 0.6764 - precision: 0.6764 - recall: 0.6764 - auc: 0.8062 - prc: 0.8262 - val_loss: 0.4368 - val_cross entropy: 0.4368 - val_tp: 121.0000 - val_fp: 35.0000 - val_tn: 121.0000 - val_fn: 35.0000 - val_accuracy: 0.7756 - val_precision: 0.7756 - val_recall: 0.7756 - val_auc: 0.8727 - val_prc: 0.8823\n",
            "Epoch 3/10\n",
            "44/44 [==============================] - 4s 82ms/step - loss: 5.1437e-04 - cross entropy: 0.4644 - tp: 1042.0000 - fp: 358.0000 - tn: 1042.0000 - fn: 358.0000 - accuracy: 0.7443 - precision: 0.7443 - recall: 0.7443 - auc: 0.8480 - prc: 0.8557 - val_loss: 0.4306 - val_cross entropy: 0.4306 - val_tp: 129.0000 - val_fp: 27.0000 - val_tn: 129.0000 - val_fn: 27.0000 - val_accuracy: 0.8269 - val_precision: 0.8269 - val_recall: 0.8269 - val_auc: 0.8882 - val_prc: 0.8919\n",
            "Epoch 4/10\n",
            "44/44 [==============================] - 5s 108ms/step - loss: 4.2505e-04 - cross entropy: 0.3559 - tp: 1180.0000 - fp: 220.0000 - tn: 1180.0000 - fn: 220.0000 - accuracy: 0.8429 - precision: 0.8429 - recall: 0.8429 - auc: 0.9219 - prc: 0.9216 - val_loss: 0.2431 - val_cross entropy: 0.2431 - val_tp: 148.0000 - val_fp: 8.0000 - val_tn: 148.0000 - val_fn: 8.0000 - val_accuracy: 0.9487 - val_precision: 0.9487 - val_recall: 0.9487 - val_auc: 0.9866 - val_prc: 0.9870\n",
            "Epoch 5/10\n",
            "44/44 [==============================] - 4s 80ms/step - loss: 4.0987e-04 - cross entropy: 0.3486 - tp: 1207.0000 - fp: 193.0000 - tn: 1207.0000 - fn: 193.0000 - accuracy: 0.8621 - precision: 0.8621 - recall: 0.8621 - auc: 0.9237 - prc: 0.9198 - val_loss: 0.2236 - val_cross entropy: 0.2236 - val_tp: 148.0000 - val_fp: 8.0000 - val_tn: 148.0000 - val_fn: 8.0000 - val_accuracy: 0.9487 - val_precision: 0.9487 - val_recall: 0.9487 - val_auc: 0.9931 - val_prc: 0.9933\n",
            "Epoch 6/10\n",
            "44/44 [==============================] - 4s 80ms/step - loss: 3.7793e-04 - cross entropy: 0.3000 - tp: 1260.0000 - fp: 140.0000 - tn: 1260.0000 - fn: 140.0000 - accuracy: 0.9000 - precision: 0.9000 - recall: 0.9000 - auc: 0.9486 - prc: 0.9445 - val_loss: 0.2968 - val_cross entropy: 0.2968 - val_tp: 141.0000 - val_fp: 15.0000 - val_tn: 141.0000 - val_fn: 15.0000 - val_accuracy: 0.9038 - val_precision: 0.9038 - val_recall: 0.9038 - val_auc: 0.9685 - val_prc: 0.9686\n",
            "Epoch 7/10\n",
            "44/44 [==============================] - 5s 112ms/step - loss: 2.9649e-04 - cross entropy: 0.2460 - tp: 1269.0000 - fp: 131.0000 - tn: 1269.0000 - fn: 131.0000 - accuracy: 0.9064 - precision: 0.9064 - recall: 0.9064 - auc: 0.9624 - prc: 0.9579 - val_loss: 0.4005 - val_cross entropy: 0.4005 - val_tp: 131.0000 - val_fp: 25.0000 - val_tn: 131.0000 - val_fn: 25.0000 - val_accuracy: 0.8397 - val_precision: 0.8397 - val_recall: 0.8397 - val_auc: 0.8950 - val_prc: 0.8836\n",
            "Epoch 8/10\n",
            "44/44 [==============================] - 4s 81ms/step - loss: 2.7169e-04 - cross entropy: 0.2344 - tp: 1271.0000 - fp: 129.0000 - tn: 1271.0000 - fn: 129.0000 - accuracy: 0.9079 - precision: 0.9079 - recall: 0.9079 - auc: 0.9675 - prc: 0.9639 - val_loss: 0.3004 - val_cross entropy: 0.3004 - val_tp: 138.0000 - val_fp: 18.0000 - val_tn: 138.0000 - val_fn: 18.0000 - val_accuracy: 0.8846 - val_precision: 0.8846 - val_recall: 0.8846 - val_auc: 0.9419 - val_prc: 0.9370\n",
            "Epoch 9/10\n",
            "44/44 [==============================] - 4s 80ms/step - loss: 2.3649e-04 - cross entropy: 0.1940 - tp: 1298.0000 - fp: 102.0000 - tn: 1298.0000 - fn: 102.0000 - accuracy: 0.9271 - precision: 0.9271 - recall: 0.9271 - auc: 0.9770 - prc: 0.9746 - val_loss: 0.2613 - val_cross entropy: 0.2613 - val_tp: 137.0000 - val_fp: 19.0000 - val_tn: 137.0000 - val_fn: 19.0000 - val_accuracy: 0.8782 - val_precision: 0.8782 - val_recall: 0.8782 - val_auc: 0.9625 - val_prc: 0.9626\n",
            "Epoch 10/10\n",
            "44/44 [==============================] - 4s 93ms/step - loss: 2.0359e-04 - cross entropy: 0.1631 - tp: 1315.0000 - fp: 85.0000 - tn: 1315.0000 - fn: 85.0000 - accuracy: 0.9393 - precision: 0.9393 - recall: 0.9393 - auc: 0.9819 - prc: 0.9792 - val_loss: 0.2113 - val_cross entropy: 0.2113 - val_tp: 143.0000 - val_fp: 13.0000 - val_tn: 143.0000 - val_fn: 13.0000 - val_accuracy: 0.9167 - val_precision: 0.9167 - val_recall: 0.9167 - val_auc: 0.9783 - val_prc: 0.9788\n"
          ]
        }
      ]
    },
    {
      "cell_type": "code",
      "source": [
        "plt.plot(history.history[\"accuracy\"])\n",
        "plt.plot(history.history[\"val_accuracy\"])\n",
        "plt.show()"
      ],
      "metadata": {
        "colab": {
          "base_uri": "https://localhost:8080/",
          "height": 430
        },
        "id": "H1FKdrnY829W",
        "outputId": "0afcbf6e-6bca-4a81-fcea-bc432aba349d"
      },
      "execution_count": null,
      "outputs": [
        {
          "output_type": "display_data",
          "data": {
            "text/plain": [
              "<Figure size 640x480 with 1 Axes>"
            ],
            "image/png": "[encoded data removed]"
          },
          "metadata": {}
        }
      ]
    },
    {
      "cell_type": "code",
      "source": [
        "# normalization of our training data (note each feature individually processed!)\n",
        "test_feats_standardized = xr.concat([\n",
        "    z_score_testing(\n",
        "        train_feats.isel(feature=0).expand_dims(dim='feature', axis=3),\n",
        "        test_feats.isel(feature=0).expand_dims(dim='feature', axis=3)\n",
        "        ),\n",
        "    z_score_testing(\n",
        "        train_feats.isel(feature=1).expand_dims(dim='feature', axis=3),\n",
        "        test_feats.isel(feature=1).expand_dims(dim='feature', axis=3)\n",
        "        )],\n",
        "                                     dim='feature')\n",
        "\n",
        "test_label_ints = xr.where(test_label >= 75, 1, 0)\n",
        "test_y = onehot_layer(test_label_ints.astype(int))"
      ],
      "metadata": {
        "id": "zMbEUR_O83Aw"
      },
      "execution_count": null,
      "outputs": []
    },
    {
      "cell_type": "code",
      "source": [
        "# Evaluate the model on the test data using `evaluate`\n",
        "print(\"Evaluate on test data\")\n",
        "results = model.evaluate(test_feats_standardized.values, test_y, batch_size=128)\n",
        "print(results)"
      ],
      "metadata": {
        "colab": {
          "base_uri": "https://localhost:8080/"
        },
        "id": "KZ4Zljo_-a7c",
        "outputId": "6e47a10c-f0c0-4ffd-9c13-9871dd3ef44f"
      },
      "execution_count": null,
      "outputs": [
        {
          "output_type": "stream",
          "name": "stdout",
          "text": [
            "Evaluate on test data\n",
            "6/6 [==============================] - 0s 70ms/step - loss: 0.2836 - cross entropy: 0.2836 - tp: 605.0000 - fp: 63.0000 - tn: 605.0000 - fn: 63.0000 - accuracy: 0.9057 - precision: 0.9057 - recall: 0.9057 - auc: 0.9548 - prc: 0.9461\n",
            "[0.28363198041915894, 0.28363198041915894, 605.0, 63.0, 605.0, 63.0, 0.9056886434555054, 0.9056886434555054, 0.9056886434555054, 0.954757034778595, 0.946064293384552]\n"
          ]
        }
      ]
    },
    {
      "cell_type": "code",
      "source": [
        "# generate predictions using the trained model\n",
        "predictions = model.predict(test_feats_standardized.values)"
      ],
      "metadata": {
        "colab": {
          "base_uri": "https://localhost:8080/"
        },
        "id": "9fcwNVSZ-a_X",
        "outputId": "e5191ee7-11f5-45f4-e0d2-ed31e4145504"
      },
      "execution_count": null,
      "outputs": [
        {
          "output_type": "stream",
          "name": "stdout",
          "text": [
            "21/21 [==============================] - 1s 21ms/step\n"
          ]
        }
      ]
    },
    {
      "cell_type": "code",
      "source": [
        "pred_ints = xr.where(predictions[:,1]>0.5, 1, 0)"
      ],
      "metadata": {
        "id": "tHLyxWLVAqed"
      },
      "execution_count": null,
      "outputs": []
    },
    {
      "cell_type": "code",
      "source": [
        "from sklearn.metrics.cluster import contingency_matrix\n",
        "contingency_matrix(test_label_ints.astype(int).values.squeeze(), pred_ints)\n",
        "# tend to predict more false positives"
      ],
      "metadata": {
        "colab": {
          "base_uri": "https://localhost:8080/"
        },
        "id": "JrZYzjM9_eLj",
        "outputId": "1495ca11-b9ec-46d2-fe28-650495dd2151"
      },
      "execution_count": null,
      "outputs": [
        {
          "output_type": "execute_result",
          "data": {
            "text/plain": [
              "array([[515,  61],\n",
              "       [  2,  90]])"
            ]
          },
          "metadata": {},
          "execution_count": 55
        }
      ]
    },
    {
      "cell_type": "code",
      "source": [
        "test_label_ints.astype(int).sum().values"
      ],
      "metadata": {
        "colab": {
          "base_uri": "https://localhost:8080/"
        },
        "id": "UwAmxuqcBJ1K",
        "outputId": "0e0f8aea-f86a-4613-fa09-bbd83f770529"
      },
      "execution_count": null,
      "outputs": [
        {
          "output_type": "execute_result",
          "data": {
            "text/plain": [
              "array(92)"
            ]
          },
          "metadata": {},
          "execution_count": 56
        }
      ]
    },
    {
      "cell_type": "code",
      "source": [
        "pred_ints.sum() - 92"
      ],
      "metadata": {
        "colab": {
          "base_uri": "https://localhost:8080/"
        },
        "id": "Bb-w77AwBfUV",
        "outputId": "e49fa2a5-d2e9-42ad-81b0-b6326639c809"
      },
      "execution_count": null,
      "outputs": [
        {
          "output_type": "execute_result",
          "data": {
            "text/plain": [
              "59"
            ]
          },
          "metadata": {},
          "execution_count": 57
        }
      ]
    },
    {
      "cell_type": "markdown",
      "source": [
        "# Tutorial Practice: What happens if we do not use class weights during training?\n",
        "\n",
        "---"
      ],
      "metadata": {
        "id": "KmokO1cq9_RS"
      }
    },
    {
      "cell_type": "code",
      "source": [
        "# recreate the model object"
      ],
      "metadata": {
        "id": "0a43SpER-Mxd"
      },
      "execution_count": null,
      "outputs": []
    },
    {
      "cell_type": "code",
      "source": [
        "# recompile the model"
      ],
      "metadata": {
        "id": "ITEZzW3y-M02"
      },
      "execution_count": null,
      "outputs": []
    },
    {
      "cell_type": "code",
      "source": [
        "# retrain the model without class weights"
      ],
      "metadata": {
        "id": "Xak_WCCB-M3-"
      },
      "execution_count": null,
      "outputs": []
    },
    {
      "cell_type": "code",
      "source": [
        "# evaluate the new model's skill"
      ],
      "metadata": {
        "id": "qwdW6YEP-NCM"
      },
      "execution_count": null,
      "outputs": []
    },
    {
      "cell_type": "markdown",
      "source": [
        "# References\n",
        "\n",
        "Campbell, T., G. M. Lackmann, M. J. Molina, and M. D. Parker (2024). Severe Convective Storms in Limited Instability Organized by Pattern and Distribution. Weather and Forecasting. https://journals.ametsoc.org/view/journals/wefo/39/1/WAF-D-23-0130.1.xml\n",
        "\n",
        "DuVivier, A. K., M. J. Molina, A. L. Deppenmeier, M. M. Holland, L. Landrum, K. Krumhardt, and S. Jenouvrier (2023). Projections of Winter Polynyas and Their Biophysical Impacts in the Ross Sea Antarctica. Climate Dynamics. https://link.springer.com/article/10.1007/s00382-023-06951-z\n",
        "\n",
        "Molina, M. J., D. J. Gagne, and A. F. Prein (2021). A benchmark to test generalization capabilities of deep learning methods to classify severe convective storms in a changing climate. Earth and Space Science. https://agupubs.onlinelibrary.wiley.com/doi/full/10.1029/2020EA001490\n",
        "\n",
        "Molina, M. J., T. A. O'Brien, G. Anderson, M. Ashfaq, K. E. Bennett, W. D. Collins, K. Dagon, J. M. Restrepo, and P. A. Ullrich (2023). A Review of Recent and Emerging Machine Learning Applications for Climate Variability and Weather Phenomena. Artificial Intelligence for the Earth Systems. https://journals.ametsoc.org/view/journals/aies/2/4/AIES-D-22-0086.1.xml\n",
        "\n",
        "Molina, M. J., J. H. Richter, A. A. Glanville, K. Dagon, J. Berner, A. Hu, and G. A. Meehl (2023). Subseasonal Representation and Predictability of North American Weather Regimes using Cluster Analysis. Artificial Intelligence for the Earth Systems. https://journals.ametsoc.org/view/journals/aies/2/2/AIES-D-22-0051.1.xml\n",
        "\n",
        "Passarella, L.S. and Mahajan, S., 2023. Assessing Tropical Pacific–Induced Predictability of Southern California Precipitation Using a Novel Multi-Input Multioutput Autoencoder. Artificial Intelligence for the Earth Systems, 2(4), p.e230003. https://journals.ametsoc.org/view/journals/aies/2/4/AIES-D-23-0003.1.xml"
      ],
      "metadata": {
        "id": "Y8DYzxtePqCH"
      }
    }
  ]
}