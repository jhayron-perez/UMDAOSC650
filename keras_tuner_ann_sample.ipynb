{
  "nbformat": 4,
  "nbformat_minor": 0,
  "metadata": {
    "colab": {
      "provenance": [],
      "include_colab_link": true
    },
    "kernelspec": {
      "name": "python3",
      "display_name": "Python 3"
    },
    "language_info": {
      "name": "python"
    }
  },
  "cells": [
    {
      "cell_type": "markdown",
      "metadata": {
        "id": "view-in-github",
        "colab_type": "text"
      },
      "source": [
        "<a href=\"https://colab.research.google.com/github/mariajmolina/UMDAOSC650/blob/main/keras_tuner_ann_sample.ipynb\" target=\"_parent\"><img src=\"https://colab.research.google.com/assets/colab-badge.svg\" alt=\"Open In Colab\"/></a>"
      ]
    },
    {
      "cell_type": "markdown",
      "source": [
        "# Choosing hyperparameters for your ANN\n",
        "\n",
        "How do you decide on how many hidden layers to use, how many nodes each layer should have, or what loss function to use?\n",
        "\n",
        "KerasTuner is an easy-to-use, scalable hyperparameter optimization framework that helps conduct a hyperparameter search for your specific problem.\n",
        "\n",
        "Docs: https://keras.io/keras_tuner/"
      ],
      "metadata": {
        "id": "qOksAfsbQssH"
      }
    },
    {
      "cell_type": "code",
      "execution_count": 1,
      "metadata": {
        "id": "WSGzNdvgfyXP"
      },
      "outputs": [],
      "source": [
        "import numpy as np\n",
        "import matplotlib.pyplot as plt\n",
        "import pandas as pd\n",
        "import xarray as xr\n",
        "import sklearn\n",
        "from sklearn.preprocessing import MinMaxScaler\n",
        "import keras\n",
        "from keras import layers"
      ]
    },
    {
      "cell_type": "code",
      "source": [
        "# keras-tuner doesn't come installed in colab so lets install\n",
        "!pip install keras-tuner -q"
      ],
      "metadata": {
        "id": "klt6sxIYgDTx"
      },
      "execution_count": 2,
      "outputs": []
    },
    {
      "cell_type": "code",
      "source": [
        "import keras_tuner"
      ],
      "metadata": {
        "id": "HhowxjsCf2Fc"
      },
      "execution_count": 3,
      "outputs": []
    },
    {
      "cell_type": "markdown",
      "source": [
        "Similar to our first ann notebook, we will create some toy data to play with."
      ],
      "metadata": {
        "id": "ygw5psJCRTWK"
      }
    },
    {
      "cell_type": "code",
      "source": [
        "np.random.seed(123)\n",
        "\n",
        "# set the time range from 1999-2019\n",
        "times = pd.date_range(\"1999-01-01\", \"2019-12-31\", name=\"time\")\n",
        "\n",
        "# create an \"annual cycle\"\n",
        "annual_cycle = np.sin(2 * np.pi * (times.dayofyear.values / 365.25 - 0.28))\n",
        "\n",
        "# create some base \"temperatures\"\n",
        "base = 10 + 15 * annual_cycle.reshape(-1, 1)\n",
        "tmin_values = base + 3 * np.random.randn(annual_cycle.size, 1)\n",
        "tmax_values = base + 10 + 3 * np.random.randn(annual_cycle.size, 1)\n",
        "\n",
        "# let's put these dummy temperatures into an xarray dataset\n",
        "ds = xr.Dataset(\n",
        "    {\n",
        "        \"tmin\": ((\"time\", \"location\"), tmin_values),\n",
        "        \"tmax\": ((\"time\", \"location\"), tmax_values),\n",
        "    },\n",
        "    {\"time\": times, \"location\": [\"IA\"]},\n",
        ")"
      ],
      "metadata": {
        "id": "JuGfd3z8gXWi"
      },
      "execution_count": 4,
      "outputs": []
    },
    {
      "cell_type": "code",
      "source": [
        "# lets split our data into train/test sets using dates\n",
        "train = ds.sel(time=slice('1999-01-01T00:00:00.000000000','2014-12-31T00:00:00.000000000'))\n",
        "test = ds.sel(time=slice('2015-01-01T00:00:00.000000000','2019-12-31T00:00:00.000000000'))\n",
        "\n",
        "# and grab the input feature and labels\n",
        "input_train = train.tmin\n",
        "label_train = train.tmax"
      ],
      "metadata": {
        "id": "e5aeZRTHgL5W"
      },
      "execution_count": 5,
      "outputs": []
    },
    {
      "cell_type": "code",
      "source": [
        "# create our scaler object\n",
        "scaler_input = MinMaxScaler()\n",
        "scaler_label = MinMaxScaler()\n",
        "\n",
        "# fit it to our training set\n",
        "scaler_input.fit(input_train)\n",
        "scaler_label.fit(label_train)\n",
        "\n",
        "# now transform our input data and labels\n",
        "input_train_scaled = scaler_input.transform(input_train)\n",
        "label_train_scaled = scaler_label.transform(label_train)"
      ],
      "metadata": {
        "id": "ISaBVKjDgRh8"
      },
      "execution_count": 6,
      "outputs": []
    },
    {
      "cell_type": "markdown",
      "source": [
        "### Searching hyperparameters\n",
        "\n",
        "To start our hyperparameter search, we will build our ANN sequentially, as we did in the first ann notebook. However, we will place this model into a function call build_model(hp). hp will be our hyperparameter object used during the search. Additionally, we will use hyperparameter objects with predefined ranges and sampling/steps, depending on what we want to explore."
      ],
      "metadata": {
        "id": "AR1PTx9LRpVy"
      }
    },
    {
      "cell_type": "code",
      "source": [
        "def build_model(hp):\n",
        "    # start building model\n",
        "    model = keras.Sequential()\n",
        "    # input layer stays the same as before\n",
        "    model.add(keras.Input(shape=(1,), name=\"input_layer\"))\n",
        "    # instead of choosing the number of nodes, we add an hp object\n",
        "    hp_units_1 = hp.Int('units_1', min_value=2, max_value=12, step=1)\n",
        "    hp_units_2 = hp.Int('units_2', min_value=2, max_value=12, step=1)\n",
        "    model.add(\n",
        "        keras.layers.Dense(\n",
        "            units=hp_units_1,\n",
        "            activation=keras.activations.relu\n",
        "            )\n",
        "        )\n",
        "    model.add(\n",
        "        keras.layers.Dense(\n",
        "            units=hp_units_2,\n",
        "            activation=keras.activations.relu\n",
        "            )\n",
        "        )\n",
        "    # likewise, we will search for the learning rate\n",
        "    learning_rate = hp.Float(\n",
        "        \"lr\", min_value=1e-4, max_value=1e-2, sampling=\"log\"\n",
        "        )\n",
        "    model.compile(\n",
        "        keras.optimizers.SGD(learning_rate=learning_rate),\n",
        "        loss='mse'\n",
        "        )\n",
        "    return model"
      ],
      "metadata": {
        "id": "rq4eNl5dgRqi"
      },
      "execution_count": 7,
      "outputs": []
    },
    {
      "cell_type": "markdown",
      "source": [
        "hyperparameter method options include: https://keras.io/api/keras_tuner/hyperparameters/"
      ],
      "metadata": {
        "id": "BBM9njSUUd89"
      }
    },
    {
      "cell_type": "code",
      "source": [
        "build_model(keras_tuner.HyperParameters())"
      ],
      "metadata": {
        "colab": {
          "base_uri": "https://localhost:8080/"
        },
        "id": "_u7TZdv4WC05",
        "outputId": "8bf7b971-d42d-4d8f-bed5-a9f00e4f2802"
      },
      "execution_count": 12,
      "outputs": [
        {
          "output_type": "execute_result",
          "data": {
            "text/plain": [
              "<keras.src.engine.sequential.Sequential at 0x7e4db01ce8c0>"
            ]
          },
          "metadata": {},
          "execution_count": 12
        }
      ]
    },
    {
      "cell_type": "markdown",
      "source": [
        "Next up, we initialize a tuner.\n",
        "\n",
        "Here we use RandomSearch (https://keras.io/api/keras_tuner/tuners/random/), but you can also use a Bayesian option (https://keras.io/api/keras_tuner/tuners/bayesian/).\n",
        "\n",
        "We use objective to specify the objective to select the best models, which in our case we base it on the validation set loss. We then use max_trials to specify the number of different models to try."
      ],
      "metadata": {
        "id": "_VrTBpIwUppJ"
      }
    },
    {
      "cell_type": "code",
      "source": [
        "#tuner = keras_tuner.RandomSearch(\n",
        "#    hypermodel=build_model,\n",
        "#    objective=\"val_loss\",\n",
        "#    max_trials=100,\n",
        "#    seed=123,\n",
        "#    overwrite=True\n",
        "#)\n",
        "\n",
        "tuner = keras_tuner.BayesianOptimization(\n",
        "    hypermodel=build_model,\n",
        "    objective=\"val_loss\",\n",
        "    max_trials=100,\n",
        "    num_initial_points=50,\n",
        "    alpha=0.0001,\n",
        "    beta=2.6,\n",
        "    seed=123,\n",
        "    # hyperparameters=None,\n",
        "    tune_new_entries=True,\n",
        "    allow_new_entries=True,\n",
        "    max_retries_per_trial=0,\n",
        "    max_consecutive_failed_trials=3,\n",
        "    overwrite=True\n",
        ")"
      ],
      "metadata": {
        "id": "3V1lpOmKh93A"
      },
      "execution_count": 13,
      "outputs": []
    },
    {
      "cell_type": "markdown",
      "source": [
        "You can print a summary of the search space:"
      ],
      "metadata": {
        "id": "nnbxe0T6WMlp"
      }
    },
    {
      "cell_type": "code",
      "source": [
        "tuner.search_space_summary()"
      ],
      "metadata": {
        "colab": {
          "base_uri": "https://localhost:8080/"
        },
        "id": "Edv-B-PNiIiZ",
        "outputId": "fef68f12-867f-4f34-dfb8-f4819de6c48d"
      },
      "execution_count": 14,
      "outputs": [
        {
          "output_type": "stream",
          "name": "stdout",
          "text": [
            "Search space summary\n",
            "Default search space size: 3\n",
            "units_1 (Int)\n",
            "{'default': None, 'conditions': [], 'min_value': 2, 'max_value': 12, 'step': 1, 'sampling': 'linear'}\n",
            "units_2 (Int)\n",
            "{'default': None, 'conditions': [], 'min_value': 2, 'max_value': 12, 'step': 1, 'sampling': 'linear'}\n",
            "lr (Float)\n",
            "{'default': 0.0001, 'conditions': [], 'min_value': 0.0001, 'max_value': 0.01, 'step': None, 'sampling': 'log'}\n"
          ]
        }
      ]
    },
    {
      "cell_type": "markdown",
      "source": [
        "Make sure input and label data are ready for training..."
      ],
      "metadata": {
        "id": "C5GLkq8dWWz1"
      }
    },
    {
      "cell_type": "code",
      "source": [
        "input_train_scaled.reshape(1,-1).squeeze().shape"
      ],
      "metadata": {
        "colab": {
          "base_uri": "https://localhost:8080/"
        },
        "id": "Ckb61CVIjyN1",
        "outputId": "b1fe21ef-ed49-4303-89f3-8a77e8365d37"
      },
      "execution_count": 15,
      "outputs": [
        {
          "output_type": "execute_result",
          "data": {
            "text/plain": [
              "(5844,)"
            ]
          },
          "metadata": {},
          "execution_count": 15
        }
      ]
    },
    {
      "cell_type": "code",
      "source": [
        "label_train_scaled.reshape(1,-1).squeeze().shape"
      ],
      "metadata": {
        "colab": {
          "base_uri": "https://localhost:8080/"
        },
        "id": "apeV4A7TkBuZ",
        "outputId": "b86ad1cb-082e-481d-96ad-f6ebeb59e192"
      },
      "execution_count": 16,
      "outputs": [
        {
          "output_type": "execute_result",
          "data": {
            "text/plain": [
              "(5844,)"
            ]
          },
          "metadata": {},
          "execution_count": 16
        }
      ]
    },
    {
      "cell_type": "markdown",
      "source": [
        "Now start the hyperparameter search! Here we set the first 5000 samples for training and the remaining samples as the validation set."
      ],
      "metadata": {
        "id": "ZlJXoToRWa_0"
      }
    },
    {
      "cell_type": "code",
      "source": [
        "tuner.search(\n",
        "    input_train_scaled.reshape(1,-1).squeeze()[:5000],\n",
        "    label_train_scaled.reshape(1,-1).squeeze()[:5000],\n",
        "    epochs=20,\n",
        "    validation_data=(\n",
        "        input_train_scaled.reshape(1,-1).squeeze()[5000:],\n",
        "        label_train_scaled.reshape(1,-1).squeeze()[5000:])\n",
        "    )"
      ],
      "metadata": {
        "id": "Pr5J50MoiKzx",
        "outputId": "49899ca7-8340-4c8a-d7dd-47e86b6fb137",
        "colab": {
          "base_uri": "https://localhost:8080/"
        }
      },
      "execution_count": 17,
      "outputs": [
        {
          "output_type": "stream",
          "name": "stdout",
          "text": [
            "Trial 100 Complete [00h 00m 09s]\n",
            "val_loss: 0.22613386809825897\n",
            "\n",
            "Best val_loss So Far: 0.008198599331080914\n",
            "Total elapsed time: 00h 16m 47s\n"
          ]
        }
      ]
    },
    {
      "cell_type": "markdown",
      "source": [
        "# Querying the results\n",
        "\n",
        "When hyperparameter search is over, you can retrieve the best model(s). The model is saved at its best performing epoch evaluated on the validation_loss because we set that as the objective."
      ],
      "metadata": {
        "id": "8eTQevp_WzBH"
      }
    },
    {
      "cell_type": "code",
      "source": [
        "# we can now query the tuner object and grab the best models\n",
        "# here we grab the best two models\n",
        "models = tuner.get_best_models(num_models=2)"
      ],
      "metadata": {
        "id": "bJHkP2OxiWpw"
      },
      "execution_count": 18,
      "outputs": []
    },
    {
      "cell_type": "code",
      "source": [
        "models"
      ],
      "metadata": {
        "colab": {
          "base_uri": "https://localhost:8080/"
        },
        "id": "9LqK37RDXJlt",
        "outputId": "ed15922a-0454-4bc2-db78-cf828d92cd4c"
      },
      "execution_count": 19,
      "outputs": [
        {
          "output_type": "execute_result",
          "data": {
            "text/plain": [
              "[<keras.src.engine.sequential.Sequential at 0x7e4dafa5b370>,\n",
              " <keras.src.engine.sequential.Sequential at 0x7e4da4700640>]"
            ]
          },
          "metadata": {},
          "execution_count": 19
        }
      ]
    },
    {
      "cell_type": "code",
      "source": [
        "# here is the best model\n",
        "best_model = models[0]\n",
        "best_model.summary()"
      ],
      "metadata": {
        "colab": {
          "base_uri": "https://localhost:8080/"
        },
        "id": "nJqC7Y-7XLaW",
        "outputId": "479cc505-4cec-4fac-e670-8fdf662915e9"
      },
      "execution_count": 20,
      "outputs": [
        {
          "output_type": "stream",
          "name": "stdout",
          "text": [
            "Model: \"sequential\"\n",
            "_________________________________________________________________\n",
            " Layer (type)                Output Shape              Param #   \n",
            "=================================================================\n",
            " dense (Dense)               (None, 9)                 18        \n",
            "                                                                 \n",
            " dense_1 (Dense)             (None, 2)                 20        \n",
            "                                                                 \n",
            "=================================================================\n",
            "Total params: 38 (152.00 Byte)\n",
            "Trainable params: 38 (152.00 Byte)\n",
            "Non-trainable params: 0 (0.00 Byte)\n",
            "_________________________________________________________________\n"
          ]
        }
      ]
    },
    {
      "cell_type": "code",
      "source": [
        "# here is the second best model\n",
        "best_model = models[1]\n",
        "best_model.summary()"
      ],
      "metadata": {
        "colab": {
          "base_uri": "https://localhost:8080/"
        },
        "id": "mME219pKXPyE",
        "outputId": "94a314be-4f90-4220-ee87-6e3a5bec0d09"
      },
      "execution_count": 21,
      "outputs": [
        {
          "output_type": "stream",
          "name": "stdout",
          "text": [
            "Model: \"sequential\"\n",
            "_________________________________________________________________\n",
            " Layer (type)                Output Shape              Param #   \n",
            "=================================================================\n",
            " dense (Dense)               (None, 8)                 16        \n",
            "                                                                 \n",
            " dense_1 (Dense)             (None, 2)                 18        \n",
            "                                                                 \n",
            "=================================================================\n",
            "Total params: 34 (136.00 Byte)\n",
            "Trainable params: 34 (136.00 Byte)\n",
            "Non-trainable params: 0 (0.00 Byte)\n",
            "_________________________________________________________________\n"
          ]
        }
      ]
    },
    {
      "cell_type": "markdown",
      "source": [
        "You can also print a summary of the search results."
      ],
      "metadata": {
        "id": "NOfyFZSvXa4d"
      }
    },
    {
      "cell_type": "code",
      "source": [
        "tuner.results_summary()"
      ],
      "metadata": {
        "colab": {
          "base_uri": "https://localhost:8080/"
        },
        "id": "Bx2qodBmlP8c",
        "outputId": "635bb9a5-4783-443d-a16f-c78752607071"
      },
      "execution_count": 22,
      "outputs": [
        {
          "output_type": "stream",
          "name": "stdout",
          "text": [
            "Results summary\n",
            "Results in ./untitled_project\n",
            "Showing 10 best trials\n",
            "Objective(name=\"val_loss\", direction=\"min\")\n",
            "\n",
            "Trial 057 summary\n",
            "Hyperparameters:\n",
            "units_1: 9\n",
            "units_2: 2\n",
            "lr: 0.004401768822986867\n",
            "Score: 0.008198599331080914\n",
            "\n",
            "Trial 064 summary\n",
            "Hyperparameters:\n",
            "units_1: 8\n",
            "units_2: 2\n",
            "lr: 0.0012655560244433175\n",
            "Score: 0.009423202835023403\n",
            "\n",
            "Trial 022 summary\n",
            "Hyperparameters:\n",
            "units_1: 7\n",
            "units_2: 2\n",
            "lr: 0.003298757461307946\n",
            "Score: 0.010363856330513954\n",
            "\n",
            "Trial 065 summary\n",
            "Hyperparameters:\n",
            "units_1: 5\n",
            "units_2: 5\n",
            "lr: 0.00703649382753033\n",
            "Score: 0.010851570405066013\n",
            "\n",
            "Trial 077 summary\n",
            "Hyperparameters:\n",
            "units_1: 7\n",
            "units_2: 2\n",
            "lr: 0.003425133066484979\n",
            "Score: 0.012281861156225204\n",
            "\n",
            "Trial 005 summary\n",
            "Hyperparameters:\n",
            "units_1: 4\n",
            "units_2: 2\n",
            "lr: 0.0034928656354620575\n",
            "Score: 0.012883968651294708\n",
            "\n",
            "Trial 012 summary\n",
            "Hyperparameters:\n",
            "units_1: 6\n",
            "units_2: 3\n",
            "lr: 0.0010874771484415556\n",
            "Score: 0.014009159989655018\n",
            "\n",
            "Trial 009 summary\n",
            "Hyperparameters:\n",
            "units_1: 11\n",
            "units_2: 9\n",
            "lr: 0.009022079415210089\n",
            "Score: 0.049138378351926804\n",
            "\n",
            "Trial 041 summary\n",
            "Hyperparameters:\n",
            "units_1: 12\n",
            "units_2: 7\n",
            "lr: 0.0047156844970391324\n",
            "Score: 0.0522053986787796\n",
            "\n",
            "Trial 059 summary\n",
            "Hyperparameters:\n",
            "units_1: 12\n",
            "units_2: 9\n",
            "lr: 0.003802989312314547\n",
            "Score: 0.05479014292359352\n"
          ]
        }
      ]
    },
    {
      "cell_type": "markdown",
      "source": [
        "### Retrain the model\n",
        "\n",
        "Keras-tuner also makes it easy to retrain a model using the set of hyperparameters that performed well.\n",
        "If you want to train the model with the entire dataset, you may retrieve the best hyperparameters and retrain the model by yourself."
      ],
      "metadata": {
        "id": "nY3xnVAEXoOh"
      }
    },
    {
      "cell_type": "code",
      "source": [
        "# Get the top hyperparameters.\n",
        "best_hps = tuner.get_best_hyperparameters(num_trials=1)"
      ],
      "metadata": {
        "id": "vHwtfeqZimEv"
      },
      "execution_count": 23,
      "outputs": []
    },
    {
      "cell_type": "code",
      "source": [
        "best_hps"
      ],
      "metadata": {
        "colab": {
          "base_uri": "https://localhost:8080/"
        },
        "id": "6-1njMTzXxZe",
        "outputId": "4cfc0f3d-ac66-48d9-d8b1-5243420ee18e"
      },
      "execution_count": 24,
      "outputs": [
        {
          "output_type": "execute_result",
          "data": {
            "text/plain": [
              "[<keras_tuner.src.engine.hyperparameters.hyperparameters.HyperParameters at 0x7e4daddc4c10>]"
            ]
          },
          "metadata": {},
          "execution_count": 24
        }
      ]
    },
    {
      "cell_type": "code",
      "source": [
        "# Build the model with the best hp.\n",
        "model = build_model(best_hps[0])"
      ],
      "metadata": {
        "id": "NENhnlbjkxdY"
      },
      "execution_count": 25,
      "outputs": []
    },
    {
      "cell_type": "code",
      "source": [
        "# now train!\n",
        "history = model.fit(\n",
        "    x=input_train_scaled.reshape(1,-1).squeeze(),\n",
        "    y=label_train_scaled.reshape(1,-1).squeeze(),\n",
        "    epochs=20,\n",
        "    validation_split=0.1,\n",
        "    batch_size=32\n",
        "    )"
      ],
      "metadata": {
        "colab": {
          "base_uri": "https://localhost:8080/"
        },
        "id": "WY-BGK8pX1mj",
        "outputId": "7c1be700-c4b6-4592-ea91-4b564a8abb57"
      },
      "execution_count": 26,
      "outputs": [
        {
          "output_type": "stream",
          "name": "stdout",
          "text": [
            "Epoch 1/20\n",
            "165/165 [==============================] - 1s 3ms/step - loss: 0.1673 - val_loss: 0.1775\n",
            "Epoch 2/20\n",
            "165/165 [==============================] - 0s 2ms/step - loss: 0.1589 - val_loss: 0.1760\n",
            "Epoch 3/20\n",
            "165/165 [==============================] - 0s 2ms/step - loss: 0.1584 - val_loss: 0.1757\n",
            "Epoch 4/20\n",
            "165/165 [==============================] - 0s 2ms/step - loss: 0.1583 - val_loss: 0.1755\n",
            "Epoch 5/20\n",
            "165/165 [==============================] - 0s 2ms/step - loss: 0.1582 - val_loss: 0.1754\n",
            "Epoch 6/20\n",
            "165/165 [==============================] - 0s 2ms/step - loss: 0.1581 - val_loss: 0.1753\n",
            "Epoch 7/20\n",
            "165/165 [==============================] - 0s 2ms/step - loss: 0.1580 - val_loss: 0.1753\n",
            "Epoch 8/20\n",
            "165/165 [==============================] - 0s 2ms/step - loss: 0.1580 - val_loss: 0.1752\n",
            "Epoch 9/20\n",
            "165/165 [==============================] - 0s 2ms/step - loss: 0.1579 - val_loss: 0.1751\n",
            "Epoch 10/20\n",
            "165/165 [==============================] - 0s 2ms/step - loss: 0.1579 - val_loss: 0.1751\n",
            "Epoch 11/20\n",
            "165/165 [==============================] - 0s 2ms/step - loss: 0.1578 - val_loss: 0.1750\n",
            "Epoch 12/20\n",
            "165/165 [==============================] - 0s 3ms/step - loss: 0.1578 - val_loss: 0.1750\n",
            "Epoch 13/20\n",
            "165/165 [==============================] - 1s 3ms/step - loss: 0.1577 - val_loss: 0.1749\n",
            "Epoch 14/20\n",
            "165/165 [==============================] - 0s 3ms/step - loss: 0.1577 - val_loss: 0.1749\n",
            "Epoch 15/20\n",
            "165/165 [==============================] - 1s 3ms/step - loss: 0.1577 - val_loss: 0.1749\n",
            "Epoch 16/20\n",
            "165/165 [==============================] - 1s 3ms/step - loss: 0.1576 - val_loss: 0.1748\n",
            "Epoch 17/20\n",
            "165/165 [==============================] - 1s 4ms/step - loss: 0.1576 - val_loss: 0.1748\n",
            "Epoch 18/20\n",
            "165/165 [==============================] - 0s 2ms/step - loss: 0.1576 - val_loss: 0.1748\n",
            "Epoch 19/20\n",
            "165/165 [==============================] - 0s 2ms/step - loss: 0.1576 - val_loss: 0.1747\n",
            "Epoch 20/20\n",
            "165/165 [==============================] - 0s 2ms/step - loss: 0.1576 - val_loss: 0.1747\n"
          ]
        }
      ]
    },
    {
      "cell_type": "code",
      "source": [
        "plt.plot(range(0,20), history.history['loss'], c='k')\n",
        "plt.plot(range(0,20), history.history['val_loss'], c='r')\n",
        "plt.show()"
      ],
      "metadata": {
        "colab": {
          "base_uri": "https://localhost:8080/",
          "height": 430
        },
        "id": "d2aE2Es0X60M",
        "outputId": "e0a304f7-ab39-4592-b818-ea3e7cfb2dee"
      },
      "execution_count": 27,
      "outputs": [
        {
          "output_type": "display_data",
          "data": {
            "text/plain": [
              "<Figure size 640x480 with 1 Axes>"
            ],
            "image/png": "[encoded data removed]"
          },
          "metadata": {}
        }
      ]
    },
    {
      "cell_type": "markdown",
      "source": [
        "Seems like our results can vary depending on the validation set we \"hold out.\" Ensuring that our ANN is robust to subsets of our data distribution necessitates k-fold cross-validation. Read here for how to use sklearn cross validation utilities with keras models: https://github.com/christianversloot/machine-learning-articles/blob/main/how-to-use-k-fold-cross-validation-with-keras.md"
      ],
      "metadata": {
        "id": "nqURctigavi2"
      }
    },
    {
      "cell_type": "code",
      "source": [],
      "metadata": {
        "id": "4BJ3kK4Ka_WK"
      },
      "execution_count": null,
      "outputs": []
    }
  ]
}